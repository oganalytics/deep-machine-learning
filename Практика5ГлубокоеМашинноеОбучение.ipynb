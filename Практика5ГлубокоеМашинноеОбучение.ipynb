{
  "cells": [
    {
      "cell_type": "markdown",
      "id": "da04b860",
      "metadata": {
        "id": "da04b860"
      },
      "source": [
        "# **Математические строительные блоки нейронных сетей**"
      ]
    },
    {
      "cell_type": "markdown",
      "id": "7fa659fa",
      "metadata": {
        "id": "7fa659fa"
      },
      "source": [
        "# **Первый взгляд на нейронную сеть**"
      ]
    },
    {
      "cell_type": "markdown",
      "id": "4496aaa3",
      "metadata": {
        "id": "4496aaa3"
      },
      "source": [
        "**Загрузка набора данных MNIST в Keras**"
      ]
    },
    {
      "cell_type": "code",
      "execution_count": null,
      "id": "19a1aa45",
      "metadata": {
        "colab": {
          "base_uri": "https://localhost:8080/"
        },
        "id": "19a1aa45",
        "outputId": "30b00a42-7bfe-4cd8-8c1c-2610ceca3766"
      },
      "outputs": [
        {
          "output_type": "stream",
          "name": "stdout",
          "text": [
            "Downloading data from https://storage.googleapis.com/tensorflow/tf-keras-datasets/mnist.npz\n",
            "11490434/11490434 [==============================] - 0s 0us/step\n"
          ]
        }
      ],
      "source": [
        "from tensorflow.keras.datasets import mnist\n",
        "(train_images, train_labels), (test_images, test_labels) = mnist.load_data()"
      ]
    },
    {
      "cell_type": "code",
      "execution_count": null,
      "id": "efccb24c",
      "metadata": {
        "colab": {
          "base_uri": "https://localhost:8080/"
        },
        "id": "efccb24c",
        "outputId": "8a8699b5-3ec6-41fa-be44-89f304eea703"
      },
      "outputs": [
        {
          "output_type": "execute_result",
          "data": {
            "text/plain": [
              "(60000, 28, 28)"
            ]
          },
          "metadata": {},
          "execution_count": 2
        }
      ],
      "source": [
        "train_images.shape"
      ]
    },
    {
      "cell_type": "code",
      "execution_count": null,
      "id": "185b4349",
      "metadata": {
        "colab": {
          "base_uri": "https://localhost:8080/"
        },
        "id": "185b4349",
        "outputId": "ceac86c0-2e94-4acf-82eb-4d9992ef9734"
      },
      "outputs": [
        {
          "output_type": "execute_result",
          "data": {
            "text/plain": [
              "60000"
            ]
          },
          "metadata": {},
          "execution_count": 3
        }
      ],
      "source": [
        "len(train_labels)"
      ]
    },
    {
      "cell_type": "code",
      "execution_count": null,
      "id": "a6f5d297",
      "metadata": {
        "colab": {
          "base_uri": "https://localhost:8080/"
        },
        "id": "a6f5d297",
        "outputId": "fef1dd32-ef81-4ae5-fbed-a85254da7ef3"
      },
      "outputs": [
        {
          "output_type": "execute_result",
          "data": {
            "text/plain": [
              "array([5, 0, 4, ..., 5, 6, 8], dtype=uint8)"
            ]
          },
          "metadata": {},
          "execution_count": 4
        }
      ],
      "source": [
        "train_labels"
      ]
    },
    {
      "cell_type": "code",
      "execution_count": null,
      "id": "84648df3",
      "metadata": {
        "colab": {
          "base_uri": "https://localhost:8080/"
        },
        "id": "84648df3",
        "outputId": "7e5cddd7-075d-439b-de9b-cb281b2c88e2"
      },
      "outputs": [
        {
          "output_type": "execute_result",
          "data": {
            "text/plain": [
              "(10000, 28, 28)"
            ]
          },
          "metadata": {},
          "execution_count": 5
        }
      ],
      "source": [
        "test_images.shape"
      ]
    },
    {
      "cell_type": "code",
      "execution_count": null,
      "id": "2915d57d",
      "metadata": {
        "colab": {
          "base_uri": "https://localhost:8080/"
        },
        "id": "2915d57d",
        "outputId": "804656f6-6909-47e4-82e9-33067864fbdf"
      },
      "outputs": [
        {
          "output_type": "execute_result",
          "data": {
            "text/plain": [
              "10000"
            ]
          },
          "metadata": {},
          "execution_count": 6
        }
      ],
      "source": [
        "len(test_labels)"
      ]
    },
    {
      "cell_type": "code",
      "execution_count": null,
      "id": "f40c9077",
      "metadata": {
        "colab": {
          "base_uri": "https://localhost:8080/"
        },
        "id": "f40c9077",
        "outputId": "c3aed1e5-52a5-4b9e-8cbd-ebfff187606d"
      },
      "outputs": [
        {
          "output_type": "execute_result",
          "data": {
            "text/plain": [
              "array([7, 2, 1, ..., 4, 5, 6], dtype=uint8)"
            ]
          },
          "metadata": {},
          "execution_count": 7
        }
      ],
      "source": [
        "test_labels"
      ]
    },
    {
      "cell_type": "markdown",
      "id": "5c14393a",
      "metadata": {
        "id": "5c14393a"
      },
      "source": [
        "**Сетевая архитектура**"
      ]
    },
    {
      "cell_type": "code",
      "execution_count": null,
      "id": "fe5cb252",
      "metadata": {
        "id": "fe5cb252"
      },
      "outputs": [],
      "source": [
        "from tensorflow import keras\n",
        "from tensorflow.keras import layers\n",
        "model = keras.Sequential([\n",
        "    layers.Dense(512, activation=\"relu\"),\n",
        "    layers.Dense(10, activation=\"softmax\")\n",
        "])"
      ]
    },
    {
      "cell_type": "markdown",
      "id": "60c49229",
      "metadata": {
        "id": "60c49229"
      },
      "source": [
        "**Этап компиляции**\n"
      ]
    },
    {
      "cell_type": "code",
      "execution_count": null,
      "id": "5aee4708",
      "metadata": {
        "id": "5aee4708"
      },
      "outputs": [],
      "source": [
        "model.compile(optimizer=\"rmsprop\",\n",
        "loss=\"sparse_categorical_crossentropy\",\n",
        "metrics=[\"accuracy\"])"
      ]
    },
    {
      "cell_type": "markdown",
      "id": "da520035",
      "metadata": {
        "id": "da520035"
      },
      "source": [
        "**Подготовка данных изображения**"
      ]
    },
    {
      "cell_type": "code",
      "execution_count": null,
      "id": "164ceca0",
      "metadata": {
        "id": "164ceca0"
      },
      "outputs": [],
      "source": [
        "train_images = train_images.reshape((60000, 28 * 28))\n",
        "train_images = train_images.astype(\"float32\") / 255\n",
        "test_images = test_images.reshape((10000, 28 * 28))\n",
        "test_images = test_images.astype(\"float32\") / 255"
      ]
    },
    {
      "cell_type": "markdown",
      "id": "b1931ae5",
      "metadata": {
        "id": "b1931ae5"
      },
      "source": [
        " **«Подгонка» модели**"
      ]
    },
    {
      "cell_type": "code",
      "execution_count": null,
      "id": "1c7ae10d",
      "metadata": {
        "colab": {
          "base_uri": "https://localhost:8080/"
        },
        "id": "1c7ae10d",
        "outputId": "96854b7e-68e7-431b-f011-6b2a4c0f475d"
      },
      "outputs": [
        {
          "output_type": "stream",
          "name": "stdout",
          "text": [
            "Epoch 1/5\n",
            "469/469 [==============================] - 6s 11ms/step - loss: 0.2644 - accuracy: 0.9241\n",
            "Epoch 2/5\n",
            "469/469 [==============================] - 4s 9ms/step - loss: 0.1079 - accuracy: 0.9683\n",
            "Epoch 3/5\n",
            "469/469 [==============================] - 4s 9ms/step - loss: 0.0713 - accuracy: 0.9790\n",
            "Epoch 4/5\n",
            "469/469 [==============================] - 5s 11ms/step - loss: 0.0509 - accuracy: 0.9845\n",
            "Epoch 5/5\n",
            "469/469 [==============================] - 4s 9ms/step - loss: 0.0390 - accuracy: 0.9887\n"
          ]
        },
        {
          "output_type": "execute_result",
          "data": {
            "text/plain": [
              "<keras.src.callbacks.History at 0x7e958ce72d70>"
            ]
          },
          "metadata": {},
          "execution_count": 11
        }
      ],
      "source": [
        "model.fit(train_images, train_labels, epochs=5, batch_size=128)"
      ]
    },
    {
      "cell_type": "markdown",
      "id": "62a08367",
      "metadata": {
        "id": "62a08367"
      },
      "source": [
        "**Использование модели для прогнозирования**"
      ]
    },
    {
      "cell_type": "code",
      "execution_count": null,
      "id": "3321b198",
      "metadata": {
        "colab": {
          "base_uri": "https://localhost:8080/"
        },
        "id": "3321b198",
        "outputId": "2f64ceca-d150-43c2-fe8e-07aba6e556d0"
      },
      "outputs": [
        {
          "output_type": "stream",
          "name": "stdout",
          "text": [
            "1/1 [==============================] - 0s 129ms/step\n"
          ]
        },
        {
          "output_type": "execute_result",
          "data": {
            "text/plain": [
              "array([2.2034753e-07, 3.5187702e-09, 2.9596620e-05, 1.1040308e-03,\n",
              "       7.9507290e-11, 5.1143297e-07, 3.3863973e-12, 9.9881083e-01,\n",
              "       1.5083116e-06, 5.3373235e-05], dtype=float32)"
            ]
          },
          "metadata": {},
          "execution_count": 12
        }
      ],
      "source": [
        "test_digits = test_images[0:10]\n",
        "predictions = model.predict(test_digits)\n",
        "predictions[0]"
      ]
    },
    {
      "cell_type": "code",
      "execution_count": null,
      "id": "71f295ff",
      "metadata": {
        "colab": {
          "base_uri": "https://localhost:8080/"
        },
        "id": "71f295ff",
        "outputId": "3135634a-be79-46de-c586-1dac0885970f"
      },
      "outputs": [
        {
          "output_type": "execute_result",
          "data": {
            "text/plain": [
              "7"
            ]
          },
          "metadata": {},
          "execution_count": 13
        }
      ],
      "source": [
        "predictions[0].argmax()"
      ]
    },
    {
      "cell_type": "code",
      "execution_count": null,
      "id": "880f64e8",
      "metadata": {
        "colab": {
          "base_uri": "https://localhost:8080/"
        },
        "id": "880f64e8",
        "outputId": "9e9611f3-de6c-470c-c7ce-ad2adeb4c869"
      },
      "outputs": [
        {
          "output_type": "execute_result",
          "data": {
            "text/plain": [
              "0.9988108"
            ]
          },
          "metadata": {},
          "execution_count": 14
        }
      ],
      "source": [
        "predictions[0][7]"
      ]
    },
    {
      "cell_type": "code",
      "execution_count": null,
      "id": "100b69b7",
      "metadata": {
        "colab": {
          "base_uri": "https://localhost:8080/"
        },
        "id": "100b69b7",
        "outputId": "c4752d0c-6028-4bb6-d655-866c050620da"
      },
      "outputs": [
        {
          "output_type": "execute_result",
          "data": {
            "text/plain": [
              "7"
            ]
          },
          "metadata": {},
          "execution_count": 15
        }
      ],
      "source": [
        "test_labels[0]"
      ]
    },
    {
      "cell_type": "markdown",
      "id": "8b98b54f",
      "metadata": {
        "id": "8b98b54f"
      },
      "source": [
        "**Оценка модели на новых данных**"
      ]
    },
    {
      "cell_type": "code",
      "execution_count": null,
      "id": "6e2ca38a",
      "metadata": {
        "colab": {
          "base_uri": "https://localhost:8080/"
        },
        "id": "6e2ca38a",
        "outputId": "57ba3a51-fdbb-4c96-8c47-25c82e60b48f"
      },
      "outputs": [
        {
          "output_type": "stream",
          "name": "stdout",
          "text": [
            "313/313 [==============================] - 1s 2ms/step - loss: 0.0660 - accuracy: 0.9785\n",
            "test_acc: 0.9785000085830688\n"
          ]
        }
      ],
      "source": [
        "test_loss, test_acc = model.evaluate(test_images, test_labels)\n",
        "print(f\"test_acc: {test_acc}\")"
      ]
    },
    {
      "cell_type": "markdown",
      "id": "23be3699",
      "metadata": {
        "id": "23be3699"
      },
      "source": [
        "# **Представления данных для нейронных сетей**"
      ]
    },
    {
      "cell_type": "markdown",
      "id": "8b691cc6",
      "metadata": {
        "id": "8b691cc6"
      },
      "source": [
        "# **Скаляры (тензоры ранга 0)**"
      ]
    },
    {
      "cell_type": "code",
      "execution_count": null,
      "id": "f9b9d367",
      "metadata": {
        "colab": {
          "base_uri": "https://localhost:8080/"
        },
        "id": "f9b9d367",
        "outputId": "71f7f3ae-89ca-43b6-e0e7-243252eb532d"
      },
      "outputs": [
        {
          "output_type": "execute_result",
          "data": {
            "text/plain": [
              "array(12)"
            ]
          },
          "metadata": {},
          "execution_count": 17
        }
      ],
      "source": [
        "import numpy as np\n",
        "x = np.array(12)\n",
        "x"
      ]
    },
    {
      "cell_type": "code",
      "execution_count": null,
      "id": "b2f12378",
      "metadata": {
        "colab": {
          "base_uri": "https://localhost:8080/"
        },
        "id": "b2f12378",
        "outputId": "650e592b-5228-4c36-c8d7-6bfe3ea5f66a"
      },
      "outputs": [
        {
          "output_type": "execute_result",
          "data": {
            "text/plain": [
              "0"
            ]
          },
          "metadata": {},
          "execution_count": 18
        }
      ],
      "source": [
        "x.ndim"
      ]
    },
    {
      "cell_type": "markdown",
      "id": "3da8a84d",
      "metadata": {
        "id": "3da8a84d"
      },
      "source": [
        "# **Векторы (тензоры 1-го ранга)**"
      ]
    },
    {
      "cell_type": "code",
      "execution_count": null,
      "id": "b9c3dd85",
      "metadata": {
        "colab": {
          "base_uri": "https://localhost:8080/"
        },
        "id": "b9c3dd85",
        "outputId": "feb0be39-f64c-4cbd-82d7-9dcb2bb4f9c9"
      },
      "outputs": [
        {
          "output_type": "execute_result",
          "data": {
            "text/plain": [
              "array([12,  3,  6, 14,  7])"
            ]
          },
          "metadata": {},
          "execution_count": 19
        }
      ],
      "source": [
        "x = np.array([12, 3, 6, 14, 7])\n",
        "x"
      ]
    },
    {
      "cell_type": "code",
      "execution_count": null,
      "id": "dfe37089",
      "metadata": {
        "colab": {
          "base_uri": "https://localhost:8080/"
        },
        "id": "dfe37089",
        "outputId": "5bc36ad1-ebf9-46d4-f55f-7195f8cf5c97"
      },
      "outputs": [
        {
          "output_type": "execute_result",
          "data": {
            "text/plain": [
              "1"
            ]
          },
          "metadata": {},
          "execution_count": 20
        }
      ],
      "source": [
        "x.ndim"
      ]
    },
    {
      "cell_type": "markdown",
      "id": "cde707db",
      "metadata": {
        "id": "cde707db"
      },
      "source": [
        "# **Матрицы (тензоры 2-го ранга)**"
      ]
    },
    {
      "cell_type": "code",
      "execution_count": null,
      "id": "d559008f",
      "metadata": {
        "colab": {
          "base_uri": "https://localhost:8080/"
        },
        "id": "d559008f",
        "outputId": "022e7c9c-3e42-491d-c96d-00a444a55409"
      },
      "outputs": [
        {
          "output_type": "execute_result",
          "data": {
            "text/plain": [
              "2"
            ]
          },
          "metadata": {},
          "execution_count": 21
        }
      ],
      "source": [
        "x = np.array([[5, 78, 2, 34, 0],\n",
        "[6, 79, 3, 35, 1],\n",
        "[7, 80, 4, 36, 2]])\n",
        "x.ndim"
      ]
    },
    {
      "cell_type": "markdown",
      "id": "74569e68",
      "metadata": {
        "id": "74569e68"
      },
      "source": [
        "# **Тензоры 3-го ранга и выше**"
      ]
    },
    {
      "cell_type": "code",
      "execution_count": null,
      "id": "7575da06",
      "metadata": {
        "colab": {
          "base_uri": "https://localhost:8080/"
        },
        "id": "7575da06",
        "outputId": "6b05ccdd-2f37-4fa3-e45e-48a15078b586"
      },
      "outputs": [
        {
          "output_type": "execute_result",
          "data": {
            "text/plain": [
              "3"
            ]
          },
          "metadata": {},
          "execution_count": 22
        }
      ],
      "source": [
        "x = np.array([[[5, 78, 2, 34, 0],\n",
        "[6, 79, 3, 35, 1],\n",
        "[7, 80, 4, 36, 2]],\n",
        "[[5, 78, 2, 34, 0],\n",
        "[6, 79, 3, 35, 1],\n",
        "[7, 80, 4, 36, 2]],\n",
        "[[5, 78, 2, 34, 0],\n",
        "[6, 79, 3, 35, 1],\n",
        "[7, 80, 4, 36, 2]]])\n",
        "x.ndim"
      ]
    },
    {
      "cell_type": "markdown",
      "id": "16e5cd5c",
      "metadata": {
        "id": "16e5cd5c"
      },
      "source": [
        "# **Ключевые атрибуты**"
      ]
    },
    {
      "cell_type": "code",
      "execution_count": null,
      "id": "b1ec4ac9",
      "metadata": {
        "id": "b1ec4ac9"
      },
      "outputs": [],
      "source": [
        "from tensorflow.keras.datasets import mnist\n",
        "(train_images, train_labels), (test_images, test_labels) = mnist.load_data()"
      ]
    },
    {
      "cell_type": "code",
      "execution_count": null,
      "id": "f6beb066",
      "metadata": {
        "colab": {
          "base_uri": "https://localhost:8080/"
        },
        "id": "f6beb066",
        "outputId": "c21a5fcd-0480-45be-9c75-90e76acf0b2b"
      },
      "outputs": [
        {
          "output_type": "execute_result",
          "data": {
            "text/plain": [
              "3"
            ]
          },
          "metadata": {},
          "execution_count": 24
        }
      ],
      "source": [
        "train_images.ndim"
      ]
    },
    {
      "cell_type": "code",
      "execution_count": null,
      "id": "65ad4226",
      "metadata": {
        "colab": {
          "base_uri": "https://localhost:8080/"
        },
        "id": "65ad4226",
        "outputId": "c0750daa-8759-4cc9-cc7c-9552651b7691"
      },
      "outputs": [
        {
          "output_type": "execute_result",
          "data": {
            "text/plain": [
              "(60000, 28, 28)"
            ]
          },
          "metadata": {},
          "execution_count": 25
        }
      ],
      "source": [
        "train_images.shape"
      ]
    },
    {
      "cell_type": "code",
      "execution_count": null,
      "id": "71a1c1db",
      "metadata": {
        "colab": {
          "base_uri": "https://localhost:8080/"
        },
        "id": "71a1c1db",
        "outputId": "29fa9380-60c0-46e0-ea4b-ab3fddd6a0fe"
      },
      "outputs": [
        {
          "output_type": "execute_result",
          "data": {
            "text/plain": [
              "dtype('uint8')"
            ]
          },
          "metadata": {},
          "execution_count": 26
        }
      ],
      "source": [
        "train_images.dtype"
      ]
    },
    {
      "cell_type": "markdown",
      "id": "a2e77f4a",
      "metadata": {
        "id": "a2e77f4a"
      },
      "source": [
        "**Отображение четвертой цифры**"
      ]
    },
    {
      "cell_type": "code",
      "execution_count": null,
      "id": "1947c00d",
      "metadata": {
        "colab": {
          "base_uri": "https://localhost:8080/",
          "height": 430
        },
        "id": "1947c00d",
        "outputId": "e0651887-0726-445a-c40f-8c44c7625490"
      },
      "outputs": [
        {
          "output_type": "display_data",
          "data": {
            "text/plain": [
              "<Figure size 640x480 with 1 Axes>"
            ],
            "image/png": "[encoded data removed]"
          },
          "metadata": {}
        }
      ],
      "source": [
        "import matplotlib.pyplot as plt\n",
        "digit = train_images[4]\n",
        "plt.imshow(digit, cmap=plt.cm.binary)\n",
        "plt.show()"
      ]
    },
    {
      "cell_type": "code",
      "execution_count": null,
      "id": "790eb7c8",
      "metadata": {
        "colab": {
          "base_uri": "https://localhost:8080/"
        },
        "id": "790eb7c8",
        "outputId": "d3344426-2316-4772-cf89-2dc41ecb12b8"
      },
      "outputs": [
        {
          "output_type": "execute_result",
          "data": {
            "text/plain": [
              "9"
            ]
          },
          "metadata": {},
          "execution_count": 28
        }
      ],
      "source": [
        "train_labels[4]"
      ]
    },
    {
      "cell_type": "markdown",
      "id": "ba3cbee8",
      "metadata": {
        "id": "ba3cbee8"
      },
      "source": [
        "# **Манипулирование тензорами в NumPy**"
      ]
    },
    {
      "cell_type": "code",
      "execution_count": null,
      "id": "0017ac12",
      "metadata": {
        "colab": {
          "base_uri": "https://localhost:8080/"
        },
        "id": "0017ac12",
        "outputId": "d7bdbbc5-6523-4cbb-bf78-b717e92a6700"
      },
      "outputs": [
        {
          "output_type": "execute_result",
          "data": {
            "text/plain": [
              "(90, 28, 28)"
            ]
          },
          "metadata": {},
          "execution_count": 29
        }
      ],
      "source": [
        "my_slice = train_images[10:100]\n",
        "my_slice.shape"
      ]
    },
    {
      "cell_type": "code",
      "execution_count": null,
      "id": "8114c955",
      "metadata": {
        "colab": {
          "base_uri": "https://localhost:8080/"
        },
        "id": "8114c955",
        "outputId": "3d63dd2c-54ba-4a81-d4a6-9be508e3717f"
      },
      "outputs": [
        {
          "output_type": "execute_result",
          "data": {
            "text/plain": [
              "(90, 28, 28)"
            ]
          },
          "metadata": {},
          "execution_count": 30
        }
      ],
      "source": [
        "my_slice = train_images[10:100, :, :]\n",
        "my_slice.shape"
      ]
    },
    {
      "cell_type": "code",
      "execution_count": null,
      "id": "134fd1d0",
      "metadata": {
        "colab": {
          "base_uri": "https://localhost:8080/"
        },
        "id": "134fd1d0",
        "outputId": "7124e8bb-f66d-4d78-c219-65f9a5931571"
      },
      "outputs": [
        {
          "output_type": "execute_result",
          "data": {
            "text/plain": [
              "(90, 28, 28)"
            ]
          },
          "metadata": {},
          "execution_count": 31
        }
      ],
      "source": [
        "my_slice = train_images[10:100, 0:28, 0:28]\n",
        "my_slice.shape"
      ]
    },
    {
      "cell_type": "code",
      "execution_count": null,
      "id": "6f2132d0",
      "metadata": {
        "id": "6f2132d0"
      },
      "outputs": [],
      "source": [
        "my_slice = train_images[:, 14:, 14:]"
      ]
    },
    {
      "cell_type": "code",
      "execution_count": null,
      "id": "65fe179e",
      "metadata": {
        "id": "65fe179e"
      },
      "outputs": [],
      "source": [
        "my_slice = train_images[:, 7:-7, 7:-7]"
      ]
    },
    {
      "cell_type": "markdown",
      "id": "bc059b78",
      "metadata": {
        "id": "bc059b78"
      },
      "source": [
        "# **Понятие пакетов данных**"
      ]
    },
    {
      "cell_type": "code",
      "execution_count": null,
      "id": "53ff82a3",
      "metadata": {
        "id": "53ff82a3"
      },
      "outputs": [],
      "source": [
        "batch = train_images[:128]"
      ]
    },
    {
      "cell_type": "code",
      "execution_count": null,
      "id": "c508d126",
      "metadata": {
        "id": "c508d126"
      },
      "outputs": [],
      "source": [
        "batch = train_images[128:256]"
      ]
    },
    {
      "cell_type": "code",
      "execution_count": null,
      "id": "2f6662d0",
      "metadata": {
        "id": "2f6662d0"
      },
      "outputs": [],
      "source": [
        "n = 3\n",
        "batch = train_images[128 * n:128 * (n + 1)]"
      ]
    },
    {
      "cell_type": "markdown",
      "source": [
        "Примеры данных тензоров в реальном мире:\n",
        "\n",
        "Данные векторов\n",
        "\n",
        "Данные временных рядов или последовательностей\n",
        "\n",
        "Данные изображений\n",
        "\n",
        "Данные видео"
      ],
      "metadata": {
        "id": "vH5jS3At9aWR"
      },
      "id": "vH5jS3At9aWR"
    },
    {
      "cell_type": "markdown",
      "id": "0cac5ba2",
      "metadata": {
        "id": "0cac5ba2"
      },
      "source": [
        "# **Механизмы нейронных сетей: тензорные операции**\n"
      ]
    },
    {
      "cell_type": "markdown",
      "id": "7719fc9f",
      "metadata": {
        "id": "7719fc9f"
      },
      "source": [
        "# **Поэлементные операции**"
      ]
    },
    {
      "cell_type": "code",
      "execution_count": null,
      "id": "24d006fa",
      "metadata": {
        "id": "24d006fa"
      },
      "outputs": [],
      "source": [
        "def naive_relu(x):\n",
        "    assert len(x.shape) == 2\n",
        "    x = x.copy()\n",
        "    for i in range(x.shape[0]):\n",
        "        for j in range(x.shape[1]):\n",
        "            x[i, j] = max(x[i, j], 0)\n",
        "    return x"
      ]
    },
    {
      "cell_type": "code",
      "execution_count": null,
      "id": "22da6e6d",
      "metadata": {
        "colab": {
          "base_uri": "https://localhost:8080/"
        },
        "id": "22da6e6d",
        "outputId": "c6a441a9-f93e-403c-ea24-3047cee3c0e4"
      },
      "outputs": [
        {
          "output_type": "execute_result",
          "data": {
            "text/plain": [
              "array([[[ 5, 78,  2, 34,  0],\n",
              "        [ 6, 79,  3, 35,  1],\n",
              "        [ 7, 80,  4, 36,  2]],\n",
              "\n",
              "       [[ 5, 78,  2, 34,  0],\n",
              "        [ 6, 79,  3, 35,  1],\n",
              "        [ 7, 80,  4, 36,  2]],\n",
              "\n",
              "       [[ 5, 78,  2, 34,  0],\n",
              "        [ 6, 79,  3, 35,  1],\n",
              "        [ 7, 80,  4, 36,  2]]])"
            ]
          },
          "metadata": {},
          "execution_count": 38
        }
      ],
      "source": [
        "x"
      ]
    },
    {
      "cell_type": "code",
      "execution_count": null,
      "id": "1f88e617",
      "metadata": {
        "id": "1f88e617"
      },
      "outputs": [],
      "source": [
        "def naive_add(x, y):\n",
        "    assert len(x.shape) == 2\n",
        "    assert x.shape == y.shape\n",
        "    x = x.copy()\n",
        "    for i in range(x.shape[0]):\n",
        "        for j in range(x.shape[1]):\n",
        "            x[i, j] += y[i, j]\n",
        "    return x"
      ]
    },
    {
      "cell_type": "code",
      "execution_count": null,
      "id": "f6ee03e1",
      "metadata": {
        "colab": {
          "base_uri": "https://localhost:8080/"
        },
        "id": "f6ee03e1",
        "outputId": "f620d5ad-1b5d-4776-d6e0-9c28a7dc14fd"
      },
      "outputs": [
        {
          "output_type": "execute_result",
          "data": {
            "text/plain": [
              "array([[[ 5, 78,  2, 34,  0],\n",
              "        [ 6, 79,  3, 35,  1],\n",
              "        [ 7, 80,  4, 36,  2]],\n",
              "\n",
              "       [[ 5, 78,  2, 34,  0],\n",
              "        [ 6, 79,  3, 35,  1],\n",
              "        [ 7, 80,  4, 36,  2]],\n",
              "\n",
              "       [[ 5, 78,  2, 34,  0],\n",
              "        [ 6, 79,  3, 35,  1],\n",
              "        [ 7, 80,  4, 36,  2]]])"
            ]
          },
          "metadata": {},
          "execution_count": 40
        }
      ],
      "source": [
        "x"
      ]
    },
    {
      "cell_type": "code",
      "execution_count": null,
      "id": "f9bcaf18",
      "metadata": {
        "colab": {
          "base_uri": "https://localhost:8080/"
        },
        "id": "f9bcaf18",
        "outputId": "3fb18205-3d5a-4617-bc55-77455019708f"
      },
      "outputs": [
        {
          "output_type": "stream",
          "name": "stdout",
          "text": [
            "Took: 0.01 s\n"
          ]
        }
      ],
      "source": [
        "import time\n",
        "\n",
        "x = np.random.random((20, 100))\n",
        "y = np.random.random((20, 100))\n",
        "\n",
        "t0 = time.time()\n",
        "for _ in range(1000):\n",
        "    z = x + y\n",
        "    z = np.maximum(z, 0.)\n",
        "print(\"Took: {0:.2f} s\".format(time.time() - t0))"
      ]
    },
    {
      "cell_type": "code",
      "execution_count": null,
      "id": "216f40b7",
      "metadata": {
        "colab": {
          "base_uri": "https://localhost:8080/"
        },
        "id": "216f40b7",
        "outputId": "33815a17-6227-42ca-dd83-326fcd215024"
      },
      "outputs": [
        {
          "output_type": "stream",
          "name": "stdout",
          "text": [
            "Took: 1.95 s\n"
          ]
        }
      ],
      "source": [
        "t0 = time.time()\n",
        "for _ in range(1000):\n",
        "    z = naive_add(x, y)\n",
        "    z = naive_relu(z)\n",
        "print(\"Took: {0:.2f} s\".format(time.time() - t0))"
      ]
    },
    {
      "cell_type": "markdown",
      "id": "6cd41892",
      "metadata": {
        "id": "6cd41892"
      },
      "source": [
        "# **Вещание**"
      ]
    },
    {
      "cell_type": "code",
      "execution_count": null,
      "id": "e8fcda96",
      "metadata": {
        "id": "e8fcda96"
      },
      "outputs": [],
      "source": [
        "import numpy as np\n",
        "X = np.random.random((32, 10))\n",
        "y = np.random.random((10,))"
      ]
    },
    {
      "cell_type": "code",
      "execution_count": null,
      "id": "2980143e",
      "metadata": {
        "id": "2980143e"
      },
      "outputs": [],
      "source": [
        "y = np.expand_dims(y, axis=0)"
      ]
    },
    {
      "cell_type": "code",
      "execution_count": null,
      "id": "3ae087ba",
      "metadata": {
        "id": "3ae087ba"
      },
      "outputs": [],
      "source": [
        "Y = np.concatenate([y] * 32, axis=0)"
      ]
    },
    {
      "cell_type": "code",
      "execution_count": null,
      "id": "6686b8eb",
      "metadata": {
        "id": "6686b8eb"
      },
      "outputs": [],
      "source": [
        "def naive_add_matrix_and_vector(x, y):\n",
        "    assert len(x.shape) == 2\n",
        "    assert len(y.shape) == 1\n",
        "    assert x.shape[1] == y.shape[0]\n",
        "    x = x.copy()\n",
        "    for i in range(x.shape[0]):\n",
        "        for j in range(x.shape[1]):\n",
        "            x[i, j] += y[j]\n",
        "    return x"
      ]
    },
    {
      "cell_type": "code",
      "execution_count": null,
      "id": "7ddb0967",
      "metadata": {
        "colab": {
          "base_uri": "https://localhost:8080/"
        },
        "id": "7ddb0967",
        "outputId": "26132dbf-3d0f-4402-aada-4e994cfd8d94"
      },
      "outputs": [
        {
          "output_type": "execute_result",
          "data": {
            "text/plain": [
              "array([[0.07370988, 0.60981967, 0.08338924, ..., 0.11884954, 0.84596189,\n",
              "        0.79476751],\n",
              "       [0.90909371, 0.97303385, 0.80870783, ..., 0.8737091 , 0.12482501,\n",
              "        0.28307372],\n",
              "       [0.36154382, 0.92510287, 0.10071515, ..., 0.68891765, 0.07013925,\n",
              "        0.04948718],\n",
              "       ...,\n",
              "       [0.54626262, 0.8371052 , 0.61817316, ..., 0.36696401, 0.98049058,\n",
              "        0.05946444],\n",
              "       [0.50094665, 0.37662271, 0.84949026, ..., 0.54839629, 0.35861573,\n",
              "        0.89648541],\n",
              "       [0.15963423, 0.77017514, 0.6035559 , ..., 0.59409813, 0.70053317,\n",
              "        0.33989356]])"
            ]
          },
          "metadata": {},
          "execution_count": 47
        }
      ],
      "source": [
        "x"
      ]
    },
    {
      "cell_type": "code",
      "execution_count": null,
      "id": "4563b998",
      "metadata": {
        "id": "4563b998"
      },
      "outputs": [],
      "source": [
        "import numpy as np\n",
        "x = np.random.random((64, 3, 32, 10))\n",
        "y = np.random.random((32, 10))\n",
        "z = np.maximum(x, y)"
      ]
    },
    {
      "cell_type": "markdown",
      "id": "8d8f1187",
      "metadata": {
        "id": "8d8f1187"
      },
      "source": [
        "# **Тензорное произведение**"
      ]
    },
    {
      "cell_type": "code",
      "execution_count": null,
      "id": "f9804b9d",
      "metadata": {
        "id": "f9804b9d"
      },
      "outputs": [],
      "source": [
        "x = np.random.random((32,))\n",
        "y = np.random.random((32,))\n",
        "z = np.dot(x, y)"
      ]
    },
    {
      "cell_type": "code",
      "execution_count": null,
      "id": "c5cb0f52",
      "metadata": {
        "id": "c5cb0f52"
      },
      "outputs": [],
      "source": [
        "def naive_vector_dot(x, y):\n",
        "    assert len(x.shape) == 1\n",
        "    assert len(y.shape) == 1\n",
        "    assert x.shape[0] == y.shape[0]\n",
        "    z = 0\n",
        "    for i in range(x.shape[0]):\n",
        "        z += x[i] * y[i]\n",
        "    return z"
      ]
    },
    {
      "cell_type": "code",
      "execution_count": null,
      "id": "9332aa1e",
      "metadata": {
        "colab": {
          "base_uri": "https://localhost:8080/"
        },
        "id": "9332aa1e",
        "outputId": "817dc60b-8d4e-4b99-dfa0-72af0a56a42e"
      },
      "outputs": [
        {
          "output_type": "execute_result",
          "data": {
            "text/plain": [
              "9.198791029596643"
            ]
          },
          "metadata": {},
          "execution_count": 51
        }
      ],
      "source": [
        "z"
      ]
    },
    {
      "cell_type": "code",
      "execution_count": null,
      "id": "4eb0322e",
      "metadata": {
        "id": "4eb0322e"
      },
      "outputs": [],
      "source": [
        "def naive_matrix_vector_dot(x, y):\n",
        "    assert len(x.shape) == 2\n",
        "    assert len(y.shape) == 1\n",
        "    assert x.shape[1] == y.shape[0]\n",
        "    z = np.zeros(x.shape[0])\n",
        "    for i in range(x.shape[0]):\n",
        "        for j in range(x.shape[1]):\n",
        "            z[i] += x[i, j] * y[j]\n",
        "    return z"
      ]
    },
    {
      "cell_type": "code",
      "execution_count": null,
      "id": "d447fc06",
      "metadata": {
        "colab": {
          "base_uri": "https://localhost:8080/"
        },
        "id": "d447fc06",
        "outputId": "1cf1f93b-748c-492b-b27a-0a120c11704b"
      },
      "outputs": [
        {
          "output_type": "execute_result",
          "data": {
            "text/plain": [
              "9.198791029596643"
            ]
          },
          "metadata": {},
          "execution_count": 53
        }
      ],
      "source": [
        "z"
      ]
    },
    {
      "cell_type": "code",
      "execution_count": null,
      "id": "02fdce54",
      "metadata": {
        "id": "02fdce54"
      },
      "outputs": [],
      "source": [
        "def naive_matrix_vector_dot(x, y):\n",
        "    z = np.zeros(x.shape[0])\n",
        "    for i in range(x.shape[0]):\n",
        "        z[i] = naive_vector_dot(x[i, :], y)\n",
        "    return z"
      ]
    },
    {
      "cell_type": "code",
      "execution_count": null,
      "id": "49116b9c",
      "metadata": {
        "colab": {
          "base_uri": "https://localhost:8080/"
        },
        "id": "49116b9c",
        "outputId": "1564187d-adae-4994-c978-c3921472bee6"
      },
      "outputs": [
        {
          "output_type": "execute_result",
          "data": {
            "text/plain": [
              "9.198791029596643"
            ]
          },
          "metadata": {},
          "execution_count": 55
        }
      ],
      "source": [
        "z"
      ]
    },
    {
      "cell_type": "code",
      "execution_count": null,
      "id": "80ffd006",
      "metadata": {
        "id": "80ffd006"
      },
      "outputs": [],
      "source": [
        "def naive_matrix_dot(x, y):\n",
        "    assert len(x.shape) == 2\n",
        "    assert len(y.shape) == 2\n",
        "    assert x.shape[1] == y.shape[0]\n",
        "    z = np.zeros((x.shape[0], y.shape[1]))\n",
        "    for i in range(x.shape[0]):\n",
        "        for j in range(y.shape[1]):\n",
        "            row_x = x[i, :]\n",
        "            column_y = y[:, j]\n",
        "            z[i, j] = naive_vector_dot(row_x, column_y)\n",
        "    return z"
      ]
    },
    {
      "cell_type": "code",
      "execution_count": null,
      "id": "8ec88bfb",
      "metadata": {
        "colab": {
          "base_uri": "https://localhost:8080/"
        },
        "id": "8ec88bfb",
        "outputId": "c7a340ad-8ef1-485e-cc83-4409198b7ae8"
      },
      "outputs": [
        {
          "output_type": "execute_result",
          "data": {
            "text/plain": [
              "9.198791029596643"
            ]
          },
          "metadata": {},
          "execution_count": 57
        }
      ],
      "source": [
        "z"
      ]
    },
    {
      "cell_type": "markdown",
      "id": "b215cd18",
      "metadata": {
        "id": "b215cd18"
      },
      "source": [
        "# **Изменение формы тензора**"
      ]
    },
    {
      "cell_type": "code",
      "execution_count": null,
      "id": "c614af95",
      "metadata": {
        "id": "c614af95"
      },
      "outputs": [],
      "source": [
        "train_images = train_images.reshape((60000, 28 * 28))"
      ]
    },
    {
      "cell_type": "code",
      "execution_count": null,
      "id": "9e97df7f",
      "metadata": {
        "colab": {
          "base_uri": "https://localhost:8080/"
        },
        "id": "9e97df7f",
        "outputId": "21960b9a-322a-47f5-9adb-411594973f95"
      },
      "outputs": [
        {
          "output_type": "execute_result",
          "data": {
            "text/plain": [
              "(3, 2)"
            ]
          },
          "metadata": {},
          "execution_count": 59
        }
      ],
      "source": [
        "x = np.array([[0., 1.],\n",
        "[2., 3.],\n",
        "[4., 5.]])\n",
        "x.shape"
      ]
    },
    {
      "cell_type": "code",
      "execution_count": null,
      "id": "54473930",
      "metadata": {
        "colab": {
          "base_uri": "https://localhost:8080/"
        },
        "id": "54473930",
        "outputId": "e40418d5-ca91-4634-ff48-606f70890470"
      },
      "outputs": [
        {
          "output_type": "execute_result",
          "data": {
            "text/plain": [
              "array([[0.],\n",
              "       [1.],\n",
              "       [2.],\n",
              "       [3.],\n",
              "       [4.],\n",
              "       [5.]])"
            ]
          },
          "metadata": {},
          "execution_count": 60
        }
      ],
      "source": [
        "x = x.reshape((6, 1))\n",
        "x"
      ]
    },
    {
      "cell_type": "code",
      "execution_count": null,
      "id": "62a74273",
      "metadata": {
        "colab": {
          "base_uri": "https://localhost:8080/"
        },
        "id": "62a74273",
        "outputId": "fd0d394b-ec4d-4df4-b633-9dfcbe686863"
      },
      "outputs": [
        {
          "output_type": "execute_result",
          "data": {
            "text/plain": [
              "(20, 300)"
            ]
          },
          "metadata": {},
          "execution_count": 61
        }
      ],
      "source": [
        "x = np.zeros((300, 20))\n",
        "x = np.transpose(x)\n",
        "x.shape"
      ]
    },
    {
      "cell_type": "markdown",
      "source": [
        "Геометрическая интерпретация операций с тензорами\n",
        "\n",
        "Геометрическое толкование глубокого обучения"
      ],
      "metadata": {
        "id": "1JeU9lAf-JVS"
      },
      "id": "1JeU9lAf-JVS"
    },
    {
      "cell_type": "markdown",
      "source": [
        "## **Двигатель нейронных сетей: оптимизация на основе градиентов**"
      ],
      "metadata": {
        "id": "I0r2OR3A-doA"
      },
      "id": "I0r2OR3A-doA"
    },
    {
      "cell_type": "markdown",
      "source": [
        "Что такое производная?\n",
        "\n",
        "Производная операции с тензором: градиент\n",
        "\n",
        "Стохастический градиентный спуск\n",
        "\n",
        "\n",
        "1. **Что такое производная?**\n",
        "   \n",
        "   Производная функции в математике показывает, как быстро изменяется эта функция в зависимости от её аргумента. Говоря простыми словами, это показывает скорость изменения функции в данной точке. Если функция описывает зависимость одной переменной от другой, то её производная указывает на скорость изменения значения этой переменной по отношению к изменению значения другой переменной.\n",
        "\n",
        "2. **Производная операции с тензором: градиент**\n",
        "   \n",
        "   Это обобщение понятия производной на многомерные пространства. В контексте нейронных сетей, градиент обычно означает вектор, содержащий частные производные функции потерь (ошибки) по отношению к параметрам сети. Он показывает направление наибольшего увеличения функции потерь и используется в алгоритмах оптимизации для обновления параметров так, чтобы уменьшить эту ошибку.\n",
        "\n",
        "3. **Стохастический градиентный спуск**\n",
        "   \n",
        "   Это метод оптимизации, используемый для обучения нейронных сетей. Он работает путем итеративного обновления параметров сети в направлении, противоположном градиенту функции потерь. Однако, в отличие от обычного градиентного спуска, который вычисляет градиент по всему набору данных (батчу), SGD вычисляет градиенты и обновляет параметры по одному примеру или небольшому набору примеров. Это позволяет SGD эффективно работать с большими наборами данных, а также помогает ему избегать локальных минимумов и сойтись к глобальному оптимуму."
      ],
      "metadata": {
        "id": "hsFxG35a-iV0"
      },
      "id": "hsFxG35a-iV0"
    },
    {
      "cell_type": "markdown",
      "source": [
        "### Цепные производные: алгоритм обратного распространения ошибки"
      ],
      "metadata": {
        "id": "0b3PY0DI-oai"
      },
      "id": "0b3PY0DI-oai"
    },
    {
      "cell_type": "markdown",
      "source": [
        "Правило цепочки\n",
        "\n",
        "Автоматическое дифференцирование с вычислительными графами\n",
        "\n",
        "\n",
        "\n",
        "1. **Правило цепочки**\n",
        "   \n",
        "   Это ключевой принцип дифференцирования сложных функций, который используется при вычислении градиента функции, состоящей из последовательности операций. Оно утверждает, что производная композиции функций равна произведению производных этих функций. Формально, если у нас есть функция \\( y = f(g(x)) \\), то её производная {dy}/{dx} \\) выражается через производные \\( f'(g(x)) \\) и \\( g'(x) \\) по правилу цепочки как {dy}/{dx} = f'(g(x)) * g'(x) \\). Это правило играет ключевую роль в обратном распространении ошибки, используемом при обучении нейронных сетей.\n",
        "\n",
        "2. **Автоматическое дифференцирование с вычислительными графами**\n",
        "   \n",
        "   (AutoDiff) - это метод вычисления производных функций компьютерным способом, который использует правило цепочки. Вычислительные графы представляют собой модель вычислений, где узлы представляют операции, а рёбра - данные, проходящие через эти операции. При использовании автоматического дифференцирования с вычислительными графами производная вычисляется в процессе прямого прохода через граф, а затем в обратном направлении, используя правило цепочки. Этот метод является основой для алгоритма обратного распространения ошибки в обучении нейронных сетей, так как он позволяет эффективно вычислять градиенты функции потерь по параметрам сети."
      ],
      "metadata": {
        "id": "8RWouY8t-tJv"
      },
      "id": "8RWouY8t-tJv"
    },
    {
      "cell_type": "markdown",
      "id": "2d940bd1",
      "metadata": {
        "id": "2d940bd1"
      },
      "source": [
        "# **Градиентная лента в TensorFlow**"
      ]
    },
    {
      "cell_type": "code",
      "execution_count": null,
      "id": "af50f2dc",
      "metadata": {
        "id": "af50f2dc"
      },
      "outputs": [],
      "source": [
        "import tensorflow as tf\n",
        "x = tf.Variable(0.)\n",
        "with tf.GradientTape() as tape:\n",
        "    y = 2 * x + 3\n",
        "grad_of_y_wrt_x = tape.gradient(y, x)"
      ]
    },
    {
      "cell_type": "code",
      "execution_count": null,
      "id": "c760fa0c",
      "metadata": {
        "id": "c760fa0c"
      },
      "outputs": [],
      "source": [
        "x = tf.Variable(tf.random.uniform((2, 2)))\n",
        "with tf.GradientTape() as tape:\n",
        "    y = 2 * x + 3\n",
        "grad_of_y_wrt_x = tape.gradient(y, x)"
      ]
    },
    {
      "cell_type": "code",
      "execution_count": null,
      "id": "b1330420",
      "metadata": {
        "id": "b1330420"
      },
      "outputs": [],
      "source": [
        "W = tf.Variable(tf.random.uniform((2, 2)))\n",
        "b = tf.Variable(tf.zeros((2,)))\n",
        "x = tf.random.uniform((2, 2))\n",
        "with tf.GradientTape() as tape:\n",
        "    y = tf.matmul(x, W) + b\n",
        "grad_of_y_wrt_W_and_b = tape.gradient(y, [W, b])"
      ]
    },
    {
      "cell_type": "markdown",
      "id": "f20f5423",
      "metadata": {
        "id": "f20f5423"
      },
      "source": [
        "# **Возвращаясь к нашему первому примеру**"
      ]
    },
    {
      "cell_type": "code",
      "execution_count": null,
      "id": "5ac6565e",
      "metadata": {
        "id": "5ac6565e"
      },
      "outputs": [],
      "source": [
        "(train_images, train_labels), (test_images, test_labels) = mnist.load_data()\n",
        "train_images = train_images.reshape((60000, 28 * 28))\n",
        "train_images = train_images.astype(\"float32\") / 255\n",
        "test_images = test_images.reshape((10000, 28 * 28))\n",
        "test_images = test_images.astype(\"float32\") / 255"
      ]
    },
    {
      "cell_type": "code",
      "execution_count": null,
      "id": "82dfe5f0",
      "metadata": {
        "id": "82dfe5f0"
      },
      "outputs": [],
      "source": [
        "model = keras.Sequential([\n",
        "layers.Dense(512, activation=\"relu\"),\n",
        "layers.Dense(10, activation=\"softmax\")\n",
        "])"
      ]
    },
    {
      "cell_type": "code",
      "execution_count": null,
      "id": "26bb8c7d",
      "metadata": {
        "id": "26bb8c7d"
      },
      "outputs": [],
      "source": [
        "model.compile(optimizer=\"rmsprop\",\n",
        "loss=\"sparse_categorical_crossentropy\",\n",
        "metrics=[\"accuracy\"])"
      ]
    },
    {
      "cell_type": "code",
      "execution_count": null,
      "id": "0e9bc253",
      "metadata": {
        "colab": {
          "base_uri": "https://localhost:8080/"
        },
        "id": "0e9bc253",
        "outputId": "dd133538-c4d1-4e29-b70a-89364d827ab0"
      },
      "outputs": [
        {
          "output_type": "stream",
          "name": "stdout",
          "text": [
            "Epoch 1/5\n",
            "469/469 [==============================] - 5s 9ms/step - loss: 0.2622 - accuracy: 0.9255\n",
            "Epoch 2/5\n",
            "469/469 [==============================] - 4s 9ms/step - loss: 0.1065 - accuracy: 0.9687\n",
            "Epoch 3/5\n",
            "469/469 [==============================] - 5s 11ms/step - loss: 0.0703 - accuracy: 0.9787\n",
            "Epoch 4/5\n",
            "469/469 [==============================] - 4s 9ms/step - loss: 0.0521 - accuracy: 0.9849\n",
            "Epoch 5/5\n",
            "469/469 [==============================] - 4s 9ms/step - loss: 0.0388 - accuracy: 0.9883\n"
          ]
        },
        {
          "output_type": "execute_result",
          "data": {
            "text/plain": [
              "<keras.src.callbacks.History at 0x7e958d6616c0>"
            ]
          },
          "metadata": {},
          "execution_count": 68
        }
      ],
      "source": [
        "model.fit(train_images, train_labels, epochs=5, batch_size=128)"
      ]
    },
    {
      "cell_type": "markdown",
      "id": "7504c43d",
      "metadata": {
        "id": "7504c43d"
      },
      "source": [
        "# **Переопределение нашего первого примера с нуля в TensorFlow**"
      ]
    },
    {
      "cell_type": "markdown",
      "id": "122fea42",
      "metadata": {
        "id": "122fea42"
      },
      "source": [
        "## Простой Dense-класс"
      ]
    },
    {
      "cell_type": "code",
      "execution_count": null,
      "id": "ab6a4d89",
      "metadata": {
        "id": "ab6a4d89"
      },
      "outputs": [],
      "source": [
        "import tensorflow as tf\n",
        "class NaiveDense:\n",
        "    def __init__(self, input_size, output_size, activation):\n",
        "        self.activation = activation\n",
        "\n",
        "        w_shape = (input_size, output_size)\n",
        "        w_initial_value = tf.random.uniform(w_shape, minval=0, maxval=1e-1)\n",
        "        self.W = tf.Variable(w_initial_value)\n",
        "\n",
        "        b_shape = (output_size,)\n",
        "        b_initial_value = tf.zeros(b_shape)\n",
        "        self.b = tf.Variable(b_initial_value)\n",
        "\n",
        "    def __call__(self, inputs):\n",
        "        return self.activation(tf.matmul(inputs, self.W) + self.b)\n",
        "\n",
        "    @property\n",
        "    def weights(self):\n",
        "        return [self.W, self.b]"
      ]
    },
    {
      "cell_type": "markdown",
      "id": "76f89f3a",
      "metadata": {
        "id": "76f89f3a"
      },
      "source": [
        "## Простой последовательный класс"
      ]
    },
    {
      "cell_type": "code",
      "execution_count": null,
      "id": "e89d8de7",
      "metadata": {
        "id": "e89d8de7"
      },
      "outputs": [],
      "source": [
        "class NaiveSequential:\n",
        "    def __init__(self, layers):\n",
        "        self.layers = layers\n",
        "\n",
        "    def __call__(self, inputs):\n",
        "        x = inputs\n",
        "        for layer in self.layers:\n",
        "            x = layer(x)\n",
        "        return x\n",
        "\n",
        "    @property\n",
        "    def weights(self):\n",
        "        weights = []\n",
        "        for layer in self.layers:\n",
        "            weights += layer.weights\n",
        "        return weights"
      ]
    },
    {
      "cell_type": "code",
      "execution_count": null,
      "id": "fcfebacd",
      "metadata": {
        "id": "fcfebacd"
      },
      "outputs": [],
      "source": [
        "model = NaiveSequential([\n",
        "NaiveDense(input_size=28 * 28, output_size=512, activation=tf.nn.relu),\n",
        "NaiveDense(input_size=512, output_size=10, activation=tf.nn.softmax)\n",
        "])\n",
        "assert len(model.weights) == 4"
      ]
    },
    {
      "cell_type": "markdown",
      "id": "4b7ab95a",
      "metadata": {
        "id": "4b7ab95a"
      },
      "source": [
        "## Пакетный генератор"
      ]
    },
    {
      "cell_type": "code",
      "execution_count": null,
      "id": "0f33e86b",
      "metadata": {
        "id": "0f33e86b"
      },
      "outputs": [],
      "source": [
        "import math\n",
        "class BatchGenerator:\n",
        "    def __init__(self, images, labels, batch_size=128):\n",
        "        assert len(images) == len(labels)\n",
        "        self.index = 0\n",
        "        self.images = images\n",
        "        self.labels = labels\n",
        "        self.batch_size = batch_size\n",
        "        self.num_batches = math.ceil(len(images) / batch_size)\n",
        "\n",
        "    def next(self):\n",
        "        images = self.images[self.index : self.index + self.batch_size]\n",
        "        labels = self.labels[self.index : self.index + self.batch_size]\n",
        "        self.index += self.batch_size\n",
        "        return images, labels"
      ]
    },
    {
      "cell_type": "markdown",
      "id": "a8e22a1a",
      "metadata": {
        "id": "a8e22a1a"
      },
      "source": [
        "## Выполнение одного тренировочного шага"
      ]
    },
    {
      "cell_type": "code",
      "execution_count": null,
      "id": "9424f437",
      "metadata": {
        "id": "9424f437"
      },
      "outputs": [],
      "source": [
        "def one_training_step(model, images_batch, labels_batch):\n",
        "    with tf.GradientTape() as tape:\n",
        "        predictions = model(images_batch)\n",
        "        per_sample_losses = tf.keras.losses.sparse_categorical_crossentropy(labels_batch, predictions)\n",
        "        average_loss = tf.reduce_mean(per_sample_losses)\n",
        "    gradients = tape.gradient(average_loss, model.weights)\n",
        "    update_weights(gradients, model.weights)  # Вызовите функцию для обновления весов\n",
        "    return average_loss.numpy()  # Вернуть среднее значение потерь в виде массива NumPy для совместимости\n",
        "\n",
        "def update_weights(gradients, weights):\n",
        "    for g, w in zip(gradients, weights):\n",
        "        w.assign_sub(g * learning_rate)\n"
      ]
    },
    {
      "cell_type": "code",
      "execution_count": null,
      "id": "fcb64885",
      "metadata": {
        "id": "fcb64885"
      },
      "outputs": [],
      "source": [
        "from tensorflow.keras import optimizers\n",
        "\n",
        "optimizer = optimizers.SGD(learning_rate=1e-3)\n",
        "\n",
        "def update_weights(gradients, weights):\n",
        "    optimizer.apply_gradients(zip(gradients, weights))"
      ]
    },
    {
      "cell_type": "markdown",
      "id": "befa58ca",
      "metadata": {
        "id": "befa58ca"
      },
      "source": [
        "# **Полный цикл обучения**"
      ]
    },
    {
      "cell_type": "code",
      "execution_count": null,
      "id": "dcae46dc",
      "metadata": {
        "id": "dcae46dc"
      },
      "outputs": [],
      "source": [
        "def fit(model, images, labels, epochs, batch_size=128):\n",
        "    for epoch_counter in range(epochs):\n",
        "        print(f\"Epoch {epoch_counter}\")\n",
        "        batch_generator = BatchGenerator(images, labels)\n",
        "        for batch_counter in range(batch_generator.num_batches):\n",
        "            images_batch, labels_batch = batch_generator.next()\n",
        "            loss = one_training_step(model, images_batch, labels_batch)\n",
        "            if batch_counter % 100 == 0:\n",
        "                print(f\"loss at batch {batch_counter}: {loss:.2f}\")"
      ]
    },
    {
      "cell_type": "code",
      "execution_count": null,
      "id": "2e822c16",
      "metadata": {
        "colab": {
          "base_uri": "https://localhost:8080/"
        },
        "id": "2e822c16",
        "outputId": "695ccb55-5332-4117-9b69-8424059731fa"
      },
      "outputs": [
        {
          "output_type": "stream",
          "name": "stdout",
          "text": [
            "Epoch 0\n",
            "loss at batch 0: 5.98\n",
            "loss at batch 100: 2.24\n",
            "loss at batch 200: 2.21\n",
            "loss at batch 300: 2.09\n",
            "loss at batch 400: 2.23\n",
            "Epoch 1\n",
            "loss at batch 0: 1.91\n",
            "loss at batch 100: 1.87\n",
            "loss at batch 200: 1.82\n",
            "loss at batch 300: 1.72\n",
            "loss at batch 400: 1.83\n",
            "Epoch 2\n",
            "loss at batch 0: 1.58\n",
            "loss at batch 100: 1.57\n",
            "loss at batch 200: 1.49\n",
            "loss at batch 300: 1.41\n",
            "loss at batch 400: 1.51\n",
            "Epoch 3\n",
            "loss at batch 0: 1.31\n",
            "loss at batch 200: 1.22\n",
            "loss at batch 300: 1.20\n",
            "loss at batch 400: 1.27\n",
            "Epoch 4\n",
            "loss at batch 0: 1.12\n",
            "loss at batch 100: 1.15\n",
            "loss at batch 200: 1.03\n",
            "loss at batch 300: 1.03\n",
            "loss at batch 400: 1.11\n",
            "Epoch 5\n",
            "loss at batch 0: 0.97\n",
            "loss at batch 100: 1.01\n",
            "loss at batch 200: 0.89\n",
            "loss at batch 300: 0.92\n",
            "loss at batch 400: 0.98\n",
            "Epoch 6\n",
            "loss at batch 0: 0.86\n",
            "loss at batch 100: 0.91\n",
            "loss at batch 200: 0.79\n",
            "loss at batch 300: 0.83\n",
            "loss at batch 400: 0.90\n",
            "Epoch 7\n",
            "loss at batch 0: 0.78\n",
            "loss at batch 100: 0.82\n",
            "loss at batch 200: 0.71\n",
            "loss at batch 300: 0.76\n",
            "loss at batch 400: 0.83\n",
            "Epoch 8\n",
            "loss at batch 0: 0.72\n",
            "loss at batch 100: 0.76\n",
            "loss at batch 200: 0.65\n",
            "loss at batch 300: 0.70\n",
            "loss at batch 400: 0.78\n",
            "Epoch 9\n",
            "loss at batch 0: 0.67\n",
            "loss at batch 100: 0.70\n",
            "loss at batch 200: 0.60\n",
            "loss at batch 300: 0.66\n",
            "loss at batch 400: 0.73\n"
          ]
        }
      ],
      "source": [
        "from tensorflow.keras.datasets import mnist\n",
        "(train_images, train_labels), (test_images, test_labels) = mnist.load_data()\n",
        "\n",
        "train_images = train_images.reshape((60000, 28 * 28))\n",
        "train_images = train_images.astype(\"float32\") / 255\n",
        "test_images = test_images.reshape((10000, 28 * 28))\n",
        "test_images = test_images.astype(\"float32\") / 255\n",
        "\n",
        "fit(model, train_images, train_labels, epochs=10, batch_size=128)"
      ]
    },
    {
      "cell_type": "markdown",
      "id": "842571f5",
      "metadata": {
        "id": "842571f5"
      },
      "source": [
        "# Оценка модели"
      ]
    },
    {
      "cell_type": "code",
      "execution_count": null,
      "id": "0218aaa1",
      "metadata": {
        "colab": {
          "base_uri": "https://localhost:8080/"
        },
        "id": "0218aaa1",
        "outputId": "898ffa42-e075-4a6c-d676-f665432ee3ac"
      },
      "outputs": [
        {
          "output_type": "stream",
          "name": "stdout",
          "text": [
            "accuracy: 0.81\n"
          ]
        }
      ],
      "source": [
        "predictions = model(test_images)\n",
        "predictions = predictions.numpy()\n",
        "predicted_labels = np.argmax(predictions, axis=1)\n",
        "matches = predicted_labels == test_labels\n",
        "print(f\"accuracy: {matches.mean():.2f}\")"
      ]
    },
    {
      "cell_type": "code",
      "execution_count": null,
      "id": "cfa32c30",
      "metadata": {
        "id": "cfa32c30"
      },
      "outputs": [],
      "source": []
    }
  ],
  "metadata": {
    "kernelspec": {
      "display_name": "Python 3 (ipykernel)",
      "language": "python",
      "name": "python3"
    },
    "language_info": {
      "codemirror_mode": {
        "name": "ipython",
        "version": 3
      },
      "file_extension": ".py",
      "mimetype": "text/x-python",
      "name": "python",
      "nbconvert_exporter": "python",
      "pygments_lexer": "ipython3",
      "version": "3.11.5"
    },
    "colab": {
      "provenance": []
    }
  },
  "nbformat": 4,
  "nbformat_minor": 5
}