{
  "cells": [
    {
      "cell_type": "markdown",
      "source": [
        "#**1. Теоретический материал – Нейронные сети**\n",
        "Обучение персептрона\n",
        "\n",
        "Персептрон представляет собой элементарную часть нейронной сети.\n",
        "Одиночный персептрон является линейным бинарным классификатором. В\n",
        "этой лекции мы рассмотрим процедуру обучения персептрона для\n",
        "классификации данных. Поскольку персептрон представляет собой\n",
        "бинарный классификатор, то мы будем рассматривать лишь два класса.\n",
        "\n",
        "Пусть мы рассматриваем некоторое множество (конечное или\n",
        "бесконечное) n-мерных векторов, которые будем обозначать 𝑥 =\n",
        "(𝑥1, 𝑥2, . . . , 𝑥𝑛)\n",
        "\n",
        "Будем считать, что это множество разбивается на два класса, которые\n",
        "мы будем обозначать +1 и -1. Поэтому возникает задача построения\n",
        "функции, которая задана на нашем множестве векторов, и принимает\n",
        "значения в множестве {+1, −1}. В качестве такой функции может выступать\n",
        "персептрон. С алгебраической точки зрения персептрон состоит из вектора\n",
        "весов 𝑤 = (𝑤0, 𝑤1, 𝑤2, . . . , 𝑤𝑛).\n",
        "\n",
        "При этом персептрон работает по формуле\n",
        "* 𝑦 = 𝑠𝑖𝑔𝑛(𝑤0 + 𝑥1𝑤1 + 𝑥2𝑤2 + . . . + 𝑥𝑛𝑤𝑛),\n",
        "\n",
        "где функция 𝑠𝑖𝑔𝑛(𝑡) равна +1, если 𝑡 ≥ 0, и равна −1, если 𝑡 < 0.\n",
        "Приведем алгоритм обучения персептрона. Пусть у нас есть набор\n",
        "обучающих данных {(𝑥, 𝑑)}, где 𝑥 - это различные вектора, а 𝑑 из множества\n",
        "{+1, −1} указывает к какому классу относится наш вектор.\n",
        "1. Положим вектор весов 𝑤 равным нулю.\n",
        "2. Повторять 𝑁 раз следующие шаги:\n",
        "3. Для каждого тестового набора (𝑥, 𝑑):\n",
        "4. Вычислить 𝑦 = 𝑠𝑖𝑔𝑛[(𝑥, 𝑤)].\n",
        "5. Если 𝑦𝑑 < 0, то скорректировать веса 𝑤0 = 𝑤0 + 𝑎𝑑, 𝑤𝑖 =\n",
        "𝑤𝑖 + 𝑎𝑑𝑥𝑖\n",
        ", 𝑖 = 1,2, . . . , 𝑛.\n",
        "Описанный алгоритм довольно легко программировать."
      ],
      "metadata": {
        "id": "jf10o6ZZ2zzF"
      },
      "id": "jf10o6ZZ2zzF"
    },
    {
      "cell_type": "markdown",
      "source": [
        "##**1.1 Пример**\n",
        "\n",
        "Задача:\n",
        "\n",
        "Рассмотрим программу обучения персептрона на языке Python. Сначала\n",
        "рассмотрим основной класс персептрона, который умеет учиться по\n",
        "тестовым данным.\n",
        "\n",
        "Решение:\n",
        "\n",
        "Начнем с описания объектов класса:"
      ],
      "metadata": {
        "id": "aO-t-Zky3FuN"
      },
      "id": "aO-t-Zky3FuN"
    },
    {
      "cell_type": "code",
      "execution_count": null,
      "id": "bbbb7087",
      "metadata": {
        "id": "bbbb7087"
      },
      "outputs": [],
      "source": [
        "# класс, который реализует персептрон и его обучение\n",
        "class Perceptron:\n",
        "\n",
        "    def __init__(self, N):\n",
        "        # создать нулевые веса\n",
        "        self.w = list()\n",
        "        for i in range(N):\n",
        "            self.w.append(0)\n",
        "\n",
        "    # метод для вычисления значения персептрона\n",
        "    def calc(self, x):\n",
        "        res = 0\n",
        "        for i in range(len(self.w)):\n",
        "            res = res + self.w[i] * x[i]\n",
        "        return res\n",
        "\n",
        "    # пороговая функция активации персептрона\n",
        "    def sign(self, x):\n",
        "        if self.calc(x) > 0:\n",
        "            return 1\n",
        "        else:\n",
        "            return -1\n",
        "\n",
        "    # обучение на одном примере\n",
        "    def learn(self, la, x, y):\n",
        "        # обучаем только, когда результат неверный\n",
        "        if y * self.calc(x) <= 0:\n",
        "            for i in range(len(self.w)):\n",
        "                self.w[i] = self.w[i] + la * y * x[i]\n",
        "\n",
        "    # обучение по всем данным Т - кортеж примеров\n",
        "    def learning(self, la, T):\n",
        "        # цикл обучения\n",
        "        for n in range(100):\n",
        "            #обучение по всем набору примеров\n",
        "            for t in T:\n",
        "                self.learn(la, t[ 0], t[1])"
      ]
    },
    {
      "cell_type": "markdown",
      "source": [
        "В строке 25 мы осуществляем корректировку весов. Посмотрим, как учится\n",
        "и работает наш персептрон."
      ],
      "metadata": {
        "id": "VXPd9PAl3N3V"
      },
      "id": "VXPd9PAl3N3V"
    },
    {
      "cell_type": "code",
      "execution_count": null,
      "id": "9739b0e9",
      "metadata": {
        "colab": {
          "base_uri": "https://localhost:8080/"
        },
        "id": "9739b0e9",
        "outputId": "850ec66e-db42-48ca-c27d-b3082bcb612e"
      },
      "outputs": [
        {
          "output_type": "stream",
          "name": "stdout",
          "text": [
            "[0.1, -0.1]\n",
            "-1\n",
            "1\n",
            "1\n",
            "-1\n"
          ]
        }
      ],
      "source": [
        "perceptron = Perceptron(2) # создаем класс двумерного персептрона\n",
        "la = 0.1 # константа обучения\n",
        "\n",
        "# создаем примеры\n",
        "T = list()\n",
        "T.append([[2,1], 1])\n",
        "T.append([[3,2], 1])\n",
        "T.append([[4,1], 1])\n",
        "T.append([[1,2], -1])\n",
        "T.append([[2,3], -1])\n",
        "T.append([[5,7], -1])\n",
        "\n",
        "perceptron.learning(la, T) # обучение персептрона\n",
        "print(perceptron.w) # печатаем веса\n",
        "\n",
        "# проверим работу на тестовых примерах\n",
        "print(perceptron.sign([1.5, 2]))\n",
        "print(perceptron.sign([3, 1.5]))\n",
        "print(perceptron.sign([5,1]))\n",
        "print(perceptron.sign([5,10]))"
      ]
    },
    {
      "cell_type": "markdown",
      "source": [
        "Видим, что что наш персептрон отлично научился распознавать образы,\n",
        "относя к классу 1 те вектора, у которых первая компонента больше второй,\n",
        "и к классу -1 в противном случае. Хотя устройство персептронов довольно\n",
        "простое эти конструкции могут решать и практические задачи. Кроме того,\n",
        "из таких персептронов состоят нейронные сети."
      ],
      "metadata": {
        "id": "WrP-ganL3Rdj"
      },
      "id": "WrP-ganL3Rdj"
    },
    {
      "cell_type": "code",
      "execution_count": null,
      "id": "9eac90f7",
      "metadata": {
        "id": "9eac90f7",
        "outputId": "4614c935-6523-46f8-e4b5-0633e524ee5e"
      },
      "outputs": [
        {
          "name": "stdout",
          "output_type": "stream",
          "text": [
            "0.9990889488055994\n"
          ]
        }
      ],
      "source": [
        "import numpy as np\n",
        "\n",
        "def sigmoid(x):\n",
        "    # функция aкmuвaцuu: ƒ(x) = 1 / (1 + e^(-x))\n",
        "    return 1 / (1 + np.exp(-x))\n",
        "\n",
        "class Neuron:\n",
        "\n",
        "    def __init__(self, weights, bias):\n",
        "        self.weights = weights\n",
        "        self.bias = bias\n",
        "\n",
        "    def feedforward(self, inputs):\n",
        "        total = np.dot(self.weights, inputs) + self.bias\n",
        "        return sigmoid (total)\n",
        "\n",
        "weights = np.array([0, 1]) # w1 = 0, w2 = 1\n",
        "bias = 4 # C = 4\n",
        "\n",
        "n = Neuron(weights, bias)\n",
        "\n",
        "x = np.array([2, 3]) # x = 2, y = 3\n",
        "print(n.feedforward(x))\n",
        "\n",
        "# 0.9990889488055994"
      ]
    },
    {
      "cell_type": "code",
      "execution_count": null,
      "id": "315b3d9f",
      "metadata": {
        "id": "315b3d9f",
        "outputId": "bf6a5eb4-244c-4433-c5de-27301f0b9d68"
      },
      "outputs": [
        {
          "name": "stdout",
          "output_type": "stream",
          "text": [
            "Python 3.11.4\n"
          ]
        }
      ],
      "source": [
        "!python -V"
      ]
    },
    {
      "cell_type": "code",
      "execution_count": null,
      "id": "f155d9cd",
      "metadata": {
        "id": "f155d9cd",
        "outputId": "b1f73959-d060-4250-bb1d-a8e9c607f3ae"
      },
      "outputs": [
        {
          "name": "stdout",
          "output_type": "stream",
          "text": [
            "0.7216325609518421\n"
          ]
        }
      ],
      "source": [
        "import numpy as np\n",
        "'''\n",
        "    Данные нейросети:\n",
        "        - два входа\n",
        "        - два нейрона в скрытых слоях (h1, h2) выход (01)\n",
        "      Нейроны имеют идентичные веса и пороги:\n",
        "          - W = [0, 1]\n",
        "          - b = 0\n",
        "'''\n",
        "\n",
        "class OurNeuralNetwork:\n",
        "\n",
        "    def __init__(self):\n",
        "        weights = np.array([0, 1])\n",
        "        bias = 0\n",
        "        # Класс Neuron из предыдущего раздела\n",
        "        self.h1 = Neuron(weights, bias)\n",
        "        self.h2 = Neuron(weights, bias)\n",
        "        self.o1 = Neuron(weights, bias)\n",
        "\n",
        "    def feedforward(self, x):\n",
        "        out_h1 = self.h1.feedforward(x)\n",
        "        out_h2 = self.h2.feedforward(x)\n",
        "        # Входы для о1 - это выходы h1 и h2\n",
        "        out_o1 = self.o1.feedforward(np.array([out_h1, out_h2]))\n",
        "        return out_o1\n",
        "\n",
        "network = OurNeuralNetwork()\n",
        "x = np.array([2, 3])\n",
        "\n",
        "print(network.feedforward(x))\n",
        "# 0.7216325609518421"
      ]
    },
    {
      "cell_type": "code",
      "execution_count": null,
      "id": "eeb28bc2",
      "metadata": {
        "id": "eeb28bc2"
      },
      "outputs": [],
      "source": [
        "class NeuralNetwork:\n",
        "\n",
        "    def _init__(self, x, y):\n",
        "        self.input = x\n",
        "        self.weights1 = np.random.rand(self.input.shape[1],4)\n",
        "        self.weights2 = np.random.rand(4,1)\n",
        "        self.y = y\n",
        "        self.output = np.zeros(self.y.shape)\n",
        "\n",
        "    def feedforward(self):\n",
        "        self.layer = sigmoid(np.dot(self.input, self.weights1))\n",
        "        self.output = sigmoid(np.dot(self.layer1, self.weights2))\n",
        "\n",
        "    def backprop(self):\n",
        "        #применение правила цепи для нахождения производной функции потерь по весу2 и весу1\n",
        "        d_weights2 = np.dot(self.layer1.T, (2*(self.y - self.output) * sigmoid_derivative(self.output)))\n",
        "        d_weights1 = np.dot(self.input.T, (np.dot(2*(self.y - self.output) * sigmoid_derivative(self.output),\n",
        "                                              self.weights2.T) * sigmoid_derivative(self.layer1)))\n",
        "        #обновление веса производной (наклона) функции потерь\n",
        "        self.weights1 += d_weights1\n",
        "        self.weights2 += d_weights2"
      ]
    },
    {
      "cell_type": "raw",
      "id": "94c6f040",
      "metadata": {
        "id": "94c6f040"
      },
      "source": [
        "# Реализовать классы нейросетей по аналогии с классом OurNeuralNetwork.\n",
        "\n",
        "Данные нейросети:\n",
        "    - три входа (x1, x2, x3);\n",
        "    - три нейрона в скрытых слоях (h1, h2, h3);\n",
        "    - выход (o1).\n",
        "Нейроны имеют идентичные веса и пороги:\n",
        "    - w = [0.5, 0.5, 0.5]\n",
        "    - b = 0\n",
        "\n",
        "Данные нейросети:\n",
        "    - два входа (x1, x2);\n",
        "    - два нейрона в скрытых слоях (h1, h2);\n",
        "    - два выхода (o1, o2).\n",
        "Нейроны имеют идентичные веса и пороги:\n",
        "    - w = [1, 0];\n",
        "    - b = 1."
      ]
    },
    {
      "cell_type": "markdown",
      "source": [
        "#**2.Теоретический материал – Реализация нейронной сети на Python**\n",
        "\n",
        "Нейронная сеть — это функциональная единица машинного или\n",
        "глубокого обучения. Она имитирует поведение человеческого мозга,\n",
        "поскольку основана на концепции биологических нейронных сетей.\n",
        "\n",
        "Наиболее распространенный тип нейронной сети, называемый\n",
        "многослойным персептроном (MLP), представляет собой функцию, которая\n",
        "отображает входные данные в выходные данные. MLP имеет один входной\n",
        "слой и один выходной слой. Между ними может быть один или несколько\n",
        "скрытых слоев. Входной слой имеет тот же набор нейронов, что и признаки.\n",
        "\n",
        "Скрытые слои также могут иметь более одного нейрона. Каждый нейрон\n",
        "представляет собой линейную функцию, к которой применяется функция\n",
        "активации для решения сложных задач. Выход каждого слоя подается в\n",
        "качестве входных данных для всех нейронов следующих слоев.\n",
        "\n",
        "Нейронные сети способны решать множество задач. В основном они\n",
        "состоят из таких компонентов:\n",
        "- входной слой (получение и передача данных);\n",
        "- скрытый слой (вычисление);\n",
        "- выходной слой. Чтобы реализовать нейросеть, необходимо понимать, как ведут себя нейроны. Нейрон одновременно принимает несколько входов, обрабатывает эти данные и выдает один выход. Нейронная сеть представляет собой блоки ввода и вывода, где каждое соединение имеет соответствующие веса (это сила связи нейронов; чем вес больше, тем один нейрон сильнее влияет на другой). Данные всех входов умножаются на веса:\n",
        "- 𝑥 → 𝑥 ∗ 𝑤1;\n",
        "- 𝑦 → 𝑦 ∗ 𝑤2.\n",
        "\n",
        "Входы после взвешивания суммируются с прибавлением значения\n",
        "порога «c»:\n",
        "> 𝑥𝑤1 + 𝑦𝑤2 + 𝑐\n",
        "\n",
        "Полученное значение пропускается через функцию активации\n",
        "(сигмоиду), которая преобразует входы в один выход:\n",
        "> 𝑧 = 𝑓(𝑥𝑤1 + 𝑦𝑤2 + 𝑐).\n",
        "\n"
      ],
      "metadata": {
        "id": "GRBm6uUJ3V65"
      },
      "id": "GRBm6uUJ3V65"
    },
    {
      "cell_type": "markdown",
      "source": [
        "Так выглядит сигмоида:\n",
        "\n",
        "![image.png](data:image/png;base64,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)\n",
        "\n",
        "Интервал результатов сигмоиды — от 0 до 1. Отрицательные числа\n",
        "стремятся к нулю, а положительные — к единице.\n",
        "Например. Пусть нейрон имеет следующие значения: 𝑤 = [0,1] 𝑐 = 4.\n",
        "\n",
        "Входной слой: 𝑥 = 2, 𝑦 = 3.\n",
        "\n",
        "> ((𝑥𝑤1) + (𝑦𝑤2)) + 𝑐 = 20 + 31 + 4 = 7.\n",
        "\n",
        "\n",
        "> 𝑧 = 𝑓(7) = 0.99."
      ],
      "metadata": {
        "id": "XoaRf-QH4L-7"
      },
      "id": "XoaRf-QH4L-7"
    },
    {
      "cell_type": "markdown",
      "source": [
        "##**2.1 Пример**\n",
        "Решение:\n",
        "Для написания кода нейрона будем использовать библиотеку Pytnon\n",
        "— NumPy:"
      ],
      "metadata": {
        "id": "T9y3ZZR34nMH"
      },
      "id": "T9y3ZZR34nMH"
    },
    {
      "cell_type": "code",
      "source": [
        "import numpy as np\n",
        "def sigmoid(x):\n",
        "  #Функция активации: f(x)= 1 / (1+e**(-x))\n",
        "  return 1 / (1 + np.exp(-x))\n",
        "class Neuron:\n",
        "  def __init__(self, weights, bias):\n",
        "    self.weights = weights\n",
        "    self.bias = bias\n",
        "  def feedforward(self, inputs):\n",
        "    total = np.dot(self.weights, inputs) + self.bias\n",
        "    return sigmoid(total)\n",
        "\n",
        "weights = np.array([0,1]) # w1 = 0, w2 = 1\n",
        "bias = 4 # c = 4\n",
        "n = Neuron(weights, bias)\n",
        "x = np.array([2,3]) # x = 2, y = 3\n",
        "print(n.feedforward(x)) # 0,9990889488055994"
      ],
      "metadata": {
        "colab": {
          "base_uri": "https://localhost:8080/"
        },
        "id": "tryvIb5K4sCk",
        "outputId": "6ad27402-7e5e-4b81-86d3-40cfe8f8bf65"
      },
      "id": "tryvIb5K4sCk",
      "execution_count": null,
      "outputs": [
        {
          "output_type": "stream",
          "name": "stdout",
          "text": [
            "0.9990889488055994\n"
          ]
        }
      ]
    },
    {
      "cell_type": "markdown",
      "source": [
        "Нейросеть состоит из множества соединенных между собой нейронов.\n",
        "Пример несложной нейронной сети\n",
        "\n",
        "![image.png](data:image/png;base64,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)\n",
        "\n",
        "где:\n",
        "\n",
        "𝑥1, 𝑥2 — входной слой;\n",
        "\n",
        "ℎ1, ℎ2 — скрытый слой с двумя нейронами;\n",
        "\n",
        "𝑜1 — выходной слой.\n",
        "\n",
        "Например. Представим, что нейроны из графика выше имеют веса\n",
        "[0, 1]. Пороговое значение (𝑏) у обоих нейронов равно 0 и они имеют\n",
        "идентичную сигмоиду.\n",
        "\n",
        "При входных данных 𝑥 = [2, 3] получим:\n",
        "> ℎ1 = ℎ2 = 𝑓(𝑤𝑥 + 𝑏) = 𝑓((02) + (1 ∗ 3) + 0) = 𝑓(3) = 0.95.\n",
        "\n",
        "> 𝑜1 = 𝑓(𝑤 ∗ [ℎ1, ℎ2] + 𝑏) = 𝑓((0ℎ1) + (1ℎ2) + 0) = 𝑓(0.95) = 0.72.\n",
        "\n",
        "Входные данные по нейронам передаются до тех пор, пока не\n",
        "получатся выходные значения."
      ],
      "metadata": {
        "id": "HdUKZUiV5oB6"
      },
      "id": "HdUKZUiV5oB6"
    },
    {
      "cell_type": "code",
      "execution_count": null,
      "id": "65724014",
      "metadata": {
        "colab": {
          "base_uri": "https://localhost:8080/"
        },
        "id": "65724014",
        "outputId": "8aed2236-03a8-4f03-dcca-93cf16c6f199"
      },
      "outputs": [
        {
          "output_type": "stream",
          "name": "stdout",
          "text": [
            "0.7216325609518421\n"
          ]
        }
      ],
      "source": [
        "class OurNeuralNetwork:\n",
        "  '''\n",
        "  Данные нейросети:\n",
        "    - два входа\n",
        "    - два нейрона в скрытых слоях(h1, h2)\n",
        "    - выход (о1)\n",
        "  Нейроны имеют идентичные веса и пороги:\n",
        "    - w = [0, 1]\n",
        "    - b = 0\n",
        "  '''\n",
        "  def __init__(self):\n",
        "        weights = np.array([0, 1])\n",
        "        bias = 0\n",
        "        # Класс Neuron из предыдущего раздела\n",
        "        self.h1 = Neuron(weights, bias)\n",
        "        self.h2 = Neuron(weights, bias)\n",
        "        self.o1 = Neuron(weights, bias)\n",
        "  def feedforward(self, x):\n",
        "        out_h1 = self.h1.feedforward(x)\n",
        "        out_h2 = self.h2.feedforward(x)\n",
        "        # Входы для o1 - это выходы h1 и h2\n",
        "        out_o1 = self.o1.feedforward(np.array([out_h1, out_h2]))\n",
        "        return out_o1\n",
        "\n",
        "network = OurNeuralNetwork()\n",
        "x = np.array([2, 3])\n",
        "\n",
        "print(network.feedforward(x)) # 0.7216325609518421"
      ]
    },
    {
      "cell_type": "markdown",
      "source": [
        "#**3. Теоретический материал – Обучение нейронной сети**\n",
        "\n",
        "Обучение нейросети — это подбор весов, которые соответствуют всем\n",
        "входам для решения поставленных задач.\n",
        "\n",
        "Класс нейронной сети:\n"
      ],
      "metadata": {
        "id": "4uMQ21_D71z9"
      },
      "id": "4uMQ21_D71z9"
    },
    {
      "cell_type": "code",
      "source": [
        "class NeuralNetwork:\n",
        "  def __init__(self, x, y):\n",
        "    self.input = x\n",
        "    self.weights1 = np.random.rand(self.input.shape[1],4)\n",
        "    self.weights2 = np.random.rand(4,1)\n",
        "    self.y = y\n",
        "    self.output = np.zeros(y.shape)"
      ],
      "metadata": {
        "id": "8NJ2g68K76Hz"
      },
      "id": "8NJ2g68K76Hz",
      "execution_count": null,
      "outputs": []
    },
    {
      "cell_type": "markdown",
      "source": [
        "Каждый этап процесса обучения состоит из:\n",
        "\n",
        "- прямого распространения (прогнозируемый выход);\n",
        "\n",
        "- обратного распространения (обновление весов и смещений).\n",
        "\n",
        "Например:\n",
        "\n",
        "Дана двуслойная нейросеть:\n",
        "\n",
        "> ŷ = 𝜎(𝑤2𝜎(𝑤1𝑥 + 𝑏1) + 𝑏2).\n",
        "\n",
        "В данном случае на выход ŷ влияют только две переменные — 𝑤 (веса) и 𝑏\n",
        "(смещение). Настройку весов и смещений из данных входа или процесс\n",
        "обучения нейросети можно изобразить так:\n",
        "\n",
        "![image.png](data:image/png;base64,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)\n",
        "\n",
        "**Прямое распространение.**\n",
        "\n",
        "Как видно, формула прямого распространения представляет собой\n",
        "несложное вычисление:\n",
        " > ŷ = 𝜎(𝑤2𝜎(𝑤1𝑥 + 𝑏1) + 𝑏2)\n",
        "\n",
        " Далее необходимо добавить в код функцию прямого распространения.\n",
        "Предположим, что смещения в этом случае будут равны 0."
      ],
      "metadata": {
        "id": "O-aUuOa08O3O"
      },
      "id": "O-aUuOa08O3O"
    },
    {
      "cell_type": "code",
      "source": [
        "class NeuralNetwork:\n",
        "  def __init__(self, x, y):\n",
        "    self.input = x\n",
        "    self.weights1 = np.random.rand(self.input.shape[1],4)\n",
        "    self.weights2 = np.random.rand(4,1)\n",
        "    self.y = y\n",
        "    self.output = np.zeros(self.y.shape)\n",
        "  def feedforward(self):\n",
        "    self.layer1 = sigmoid(np.dot(self.input, self.weights1))\n",
        "    self.output = sigmoid(np.dot(self.layer1, self.weights2))"
      ],
      "metadata": {
        "id": "HuW3rgdM8izD"
      },
      "id": "HuW3rgdM8izD",
      "execution_count": null,
      "outputs": []
    },
    {
      "cell_type": "markdown",
      "source": [
        "Чтобы вычислить ошибку прогноза, необходимо использовать функцию\n",
        "потери. В примере уместно воспользоваться формулой суммы квадратов\n",
        "ошибок — средним значением между прогнозируемым и фактическим\n",
        "результатами:\n",
        "\n",
        "![image.png](data:image/png;base64,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)"
      ],
      "metadata": {
        "id": "oR6-LteV84LN"
      },
      "id": "oR6-LteV84LN"
    },
    {
      "cell_type": "markdown",
      "source": [
        "**Обратное распространение**\n",
        "\n",
        "Обратное распространение позволяет измерить производные в\n",
        "обратном порядке — от конца к началу, и скорректировать веса и смещения.\n",
        "Для этого необходимо узнать производную функции потери — тангенс угла\n",
        "наклона.\n",
        "\n",
        "![image.png](data:image/png;base64,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)\n",
        "\n",
        "Производная функции по отношению к весам и смещениям позволяет\n",
        "узнать градиентный спуск. Производная функции потери не содержит весов\n",
        "и смещений, для ее вычисления необходимо добавить правило цепи:\n",
        "\n",
        "![image.png](data:image/png;base64,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)"
      ],
      "metadata": {
        "id": "s9dAiwi79EgJ"
      },
      "id": "s9dAiwi79EgJ"
    },
    {
      "cell_type": "markdown",
      "source": [
        "Благодаря этому правилу можно регулировать веса. Добавляем в код\n",
        "Python функцию обратного распространения:"
      ],
      "metadata": {
        "id": "ws3K3KlJ9TyN"
      },
      "id": "ws3K3KlJ9TyN"
    },
    {
      "cell_type": "code",
      "source": [
        "class NeuralNetwork:\n",
        "  def __init__(self, x, y):\n",
        "    self.input = x\n",
        "    self.weights1 = np.random.rand(self.input.shape[1],4)\n",
        "    self.weights2 = np.random.rand(4,1)\n",
        "    self.y = y\n",
        "    self.output = np.zeros(self.y.shape)\n",
        "  def feedforward(self):\n",
        "    self.layer1 = sigmoid(np.dot(self.input, self.weights1))\n",
        "    self.output = sigmoid(np.dot(self.layer1, self.weights2))\n",
        "  def backprop(self):\n",
        "    # применение правила цепи для нахождения производной функции потерь по весу2 и весу1\n",
        "    d_weights2 = np.dot(self.layer1.T, (2*(self.y - self.output) * sigmoid_derivative(self.output)))\n",
        "    d_weights1 = np.dot(self.input.T, (np.dot(2*(self.y - self.output) * sigmoid_derivative(self.output), self.weights2.T) * sigmoid_derivative(self.layer1)))\n",
        "    # обновление веса производной (наклона) функции потерь\n",
        "    self.weights1 += d_weights1\n",
        "    self.weights2 += d_weights2"
      ],
      "metadata": {
        "id": "btwPBxRa9UZ5"
      },
      "id": "btwPBxRa9UZ5",
      "execution_count": null,
      "outputs": []
    },
    {
      "cell_type": "markdown",
      "source": [
        "Нейронные сети базируются на определенных алгоритмах и\n",
        "математических функциях. Сначала может казаться, что разобраться в них\n",
        "довольно сложно. Но существуют готовые библиотеки машинного обучения\n",
        "для построения и тренировки нейросетей, позволяющие не углубляться в их\n",
        "устройство."
      ],
      "metadata": {
        "id": "pjqZCDM9-pZV"
      },
      "id": "pjqZCDM9-pZV"
    },
    {
      "cell_type": "markdown",
      "source": [
        "#**Задание 1:**\n",
        "Реализовать классы нейросетей по аналогии с классом OurNeuralNetwork.\n",
        "\n",
        "Данные нейросети:\n",
        " - три входа (𝑥1, 𝑥2, 𝑥3);\n",
        " - три нейрона в скрытых слоях (ℎ1, ℎ2, ℎ3);\n",
        " - выход (𝑜1).\n",
        "\n",
        "Нейроны имеют идентичные веса и пороги:\n",
        " - 𝑤 = [0.5, 0.5, 0.5]\n",
        " - 𝑏 = 0\n",
        "\n",
        "Данные нейросети:\n",
        " - два входа (𝑥1, 𝑥2);\n",
        " - два нейрона в скрытых слоях (ℎ1, ℎ2);\n",
        " - два выхода (𝑜1, 𝑜2).\n",
        "\n",
        "Нейроны имеют идентичные веса и пороги:\n",
        " - 𝑤 = [1, 0];\n",
        " - 𝑏 = 1"
      ],
      "metadata": {
        "id": "rsSHmd-9-s-s"
      },
      "id": "rsSHmd-9-s-s"
    },
    {
      "cell_type": "markdown",
      "source": [
        "##**Решение**"
      ],
      "metadata": {
        "id": "zWfPYvDN-8bN"
      },
      "id": "zWfPYvDN-8bN"
    },
    {
      "cell_type": "code",
      "source": [
        "class OurNeuralNetwork_1:\n",
        "\n",
        "    def __init__(self):\n",
        "        weights = np.array([0.5, 0.5, 0.5])\n",
        "        bias = 0\n",
        "\n",
        "        self.h1 = Neuron(weights, bias)\n",
        "        self.h2 = Neuron(weights, bias)\n",
        "        self.h3 = Neuron(weights, bias)\n",
        "\n",
        "        self.o1 = Neuron(weights, bias)\n",
        "\n",
        "    def feedforward(self, x):\n",
        "        out_h1 = self.h1.feedforward(x)\n",
        "        out_h2 = self.h2.feedforward(x)\n",
        "        out_h3 = self.h3.feedforward(x)\n",
        "\n",
        "        out_o1 = self.o1.feedforward(np.array([out_h1, out_h2, out_h3]))\n",
        "        return out_o1\n",
        "\n",
        "network = OurNeuralNetwork_1()\n",
        "x = np.array([2, 3, 4])\n",
        "\n",
        "print(network.feedforward(x))"
      ],
      "metadata": {
        "colab": {
          "base_uri": "https://localhost:8080/"
        },
        "id": "g7FeaIye_e1W",
        "outputId": "778e7a9b-af24-44bc-e3ab-d6d77267a9be"
      },
      "id": "g7FeaIye_e1W",
      "execution_count": null,
      "outputs": [
        {
          "output_type": "stream",
          "name": "stdout",
          "text": [
            "0.8151036049051821\n"
          ]
        }
      ]
    },
    {
      "cell_type": "code",
      "execution_count": null,
      "id": "0e90e3c6",
      "metadata": {
        "colab": {
          "base_uri": "https://localhost:8080/"
        },
        "id": "0e90e3c6",
        "outputId": "4fd7f81b-adc6-4e4d-c954-02792042e152"
      },
      "outputs": [
        {
          "output_type": "stream",
          "name": "stdout",
          "text": [
            "(0.8757270529783324, 0.8757270529783324)\n"
          ]
        }
      ],
      "source": [
        "class OurNeuralNetwork_2:\n",
        "\n",
        "    def __init__(self):\n",
        "        weights = np.array([1, 0])\n",
        "        bias = 1\n",
        "\n",
        "        self.h1 = Neuron(weights, bias)\n",
        "        self.h2 = Neuron(weights, bias)\n",
        "\n",
        "        self.o1 = Neuron(weights, bias)\n",
        "        self.o2 = Neuron(weights, bias)\n",
        "\n",
        "    def feedforward(self, x):\n",
        "        out_h1 = self.h1.feedforward(x)\n",
        "        out_h2 = self.h2.feedforward(x)\n",
        "\n",
        "        out_o1 = self.o1.feedforward(np.array([out_h1, out_h2]))\n",
        "        out_o2 = self.o2.feedforward(np.array([out_h1, out_h2]))\n",
        "        return out_o1, out_o2\n",
        "\n",
        "network = OurNeuralNetwork_2()\n",
        "x = np.array([2, 3])\n",
        "\n",
        "print(network.feedforward(x))"
      ]
    },
    {
      "cell_type": "markdown",
      "source": [
        "#**Задание 2:**\n",
        "\n",
        "Реализуйте классы нейронных сетей с использованием других функций\n",
        "активации.\n"
      ],
      "metadata": {
        "id": "FSRhuWzW_wjQ"
      },
      "id": "FSRhuWzW_wjQ"
    },
    {
      "cell_type": "raw",
      "id": "7dac316f",
      "metadata": {
        "id": "7dac316f"
      },
      "source": [
        "Sigmoid\n",
        "σ(x)=1/(1+e^(-x))\n",
        "\n",
        "![image.png](data:image/png;base64,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)\n",
        "\n",
        "tanh\n",
        "tanh(x)\n",
        "\n",
        "![image.png](data:image/png;base64,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)\n",
        "\n",
        "ReLU\n",
        "max(0, x)\n",
        "\n",
        "![image.png](data:image/png;base64,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)"
      ]
    },
    {
      "cell_type": "markdown",
      "source": [
        "##**Решение**"
      ],
      "metadata": {
        "id": "SOX9CMVAAHsU"
      },
      "id": "SOX9CMVAAHsU"
    },
    {
      "cell_type": "code",
      "execution_count": null,
      "id": "08fddcbb",
      "metadata": {
        "id": "08fddcbb"
      },
      "outputs": [],
      "source": [
        "def sigmoid(x):\n",
        "    return 1 / (1 + np.exp(-x))\n",
        "\n",
        "def tanh(x):\n",
        "    return np.tanh(x)\n",
        "\n",
        "def relu(x):\n",
        "    return np.maximum(0, x)\n",
        "\n",
        "class Neuron_1:\n",
        "\n",
        "    def __init__(self, weights, bias, activation):\n",
        "        self.weights = weights\n",
        "        self.bias = bias\n",
        "        self.activation = activation\n",
        "\n",
        "    def feedforward(self, inputs):\n",
        "        total = np.dot(self.weights, inputs) + self.bias\n",
        "        return self.activation(total)"
      ]
    },
    {
      "cell_type": "code",
      "execution_count": null,
      "id": "19463703",
      "metadata": {
        "id": "19463703"
      },
      "outputs": [],
      "source": [
        "class SigmoidNeuralNetwork:\n",
        "    def __init__(self):\n",
        "        weights = np.array([1, 0])\n",
        "        bias = 0\n",
        "        self.h1 = Neuron_1(weights, bias, sigmoid)\n",
        "        self.h2 = Neuron_1(weights, bias, sigmoid)\n",
        "        self.o1 = Neuron_1(weights, bias, sigmoid)\n",
        "\n",
        "    def feedforward(self, x):\n",
        "        out_h1 = self.h1.feedforward(x)\n",
        "        out_h2 = self.h2.feedforward(x)\n",
        "        out_o1 = self.o1.feedforward(np.array([out_h1, out_h2]))\n",
        "        return out_o1\n",
        "\n",
        "class TanhNeuralNetwork:\n",
        "    def __init__(self):\n",
        "        weights = np.array([1, 0])\n",
        "        bias = 0\n",
        "        self.h1 = Neuron_1(weights, bias, tanh)\n",
        "        self.h2 = Neuron_1(weights, bias, tanh)\n",
        "        self.o1 = Neuron_1(weights, bias, tanh)\n",
        "\n",
        "    def feedforward(self, x):\n",
        "        out_h1 = self.h1.feedforward(x)\n",
        "        out_h2 = self.h2.feedforward(x)\n",
        "        out_o1 = self.o1.feedforward(np.array([out_h1, out_h2]))\n",
        "        return out_o1\n",
        "\n",
        "class ReLUNeuralNetwork:\n",
        "    def __init__(self):\n",
        "        weights = np.array([1, 0])\n",
        "        bias = 0\n",
        "        self.h1 = Neuron_1(weights, bias, relu)\n",
        "        self.h2 = Neuron_1(weights, bias, relu)\n",
        "        self.o1 = Neuron_1(weights, bias, relu)\n",
        "\n",
        "    def feedforward(self, x):\n",
        "        out_h1 = self.h1.feedforward(x)\n",
        "        out_h2 = self.h2.feedforward(x)\n",
        "        out_o1 = self.o1.feedforward(np.array([out_h1, out_h2]))\n",
        "        return out_o1"
      ]
    },
    {
      "cell_type": "code",
      "execution_count": null,
      "id": "a20b1c55",
      "metadata": {
        "colab": {
          "base_uri": "https://localhost:8080/"
        },
        "id": "a20b1c55",
        "outputId": "d6cad7bc-e9fd-41a2-a89e-7aeb294994ff"
      },
      "outputs": [
        {
          "output_type": "stream",
          "name": "stdout",
          "text": [
            "Output using sigmoid activation: 0.7069873680001046\n",
            "Output using tanh activation: 0.7460679984455996\n",
            "Output using ReLU activation: 2\n"
          ]
        }
      ],
      "source": [
        "sigmoid_network = SigmoidNeuralNetwork()\n",
        "tanh_network = TanhNeuralNetwork()\n",
        "relu_network = ReLUNeuralNetwork()\n",
        "\n",
        "x = np.array([2, 3])\n",
        "\n",
        "output_sigmoid = sigmoid_network.feedforward(x)\n",
        "output_tanh = tanh_network.feedforward(x)\n",
        "output_relu = relu_network.feedforward(x)\n",
        "\n",
        "print(\"Output using sigmoid activation:\", output_sigmoid)\n",
        "print(\"Output using tanh activation:\", output_tanh)\n",
        "print(\"Output using ReLU activation:\", output_relu)"
      ]
    },
    {
      "cell_type": "markdown",
      "source": [
        "#**4. Введение в нейронные сети с помощью Scikit-Learn в Python**\n"
      ],
      "metadata": {
        "id": "k0e8D_wpAuVz"
      },
      "id": "k0e8D_wpAuVz"
    },
    {
      "cell_type": "markdown",
      "source": [
        "Теперь мы знаем, что такое нейронные сети и какие шаги необходимо\n",
        "выполнить, чтобы построить простую нейронную сеть с плотными связями.\n",
        "В этом разделе мы попытаемся построить простую нейронную сеть, которая\n",
        "предсказывает класс, к которому принадлежит данное растение ириса. Мы\n",
        "будем использовать библиотеку Python Scikit-Learn для создания нашей\n",
        "нейронной сети.\n",
        "\n",
        "Sklearn предоставляет 2 оценщика для задач классификации и\n",
        "регрессии соответственно:\n",
        "- MLPClassifier;\n",
        "- MLPRegressor\n",
        "\n",
        "Начнем с импорта необходимых библиотек."
      ],
      "metadata": {
        "id": "u9B6kn_7A0Fk"
      },
      "id": "u9B6kn_7A0Fk"
    },
    {
      "cell_type": "code",
      "execution_count": null,
      "id": "e895d11c",
      "metadata": {
        "id": "e895d11c"
      },
      "outputs": [],
      "source": [
        "import numpy as np\n",
        "import pandas as pd\n",
        "import matplotlib.pyplot as plt\n",
        "import sklearn"
      ]
    },
    {
      "cell_type": "code",
      "execution_count": null,
      "id": "88e28068",
      "metadata": {
        "colab": {
          "base_uri": "https://localhost:8080/"
        },
        "id": "88e28068",
        "outputId": "1b1928c5-7801-4ea2-ba2f-1017b9c73b1f"
      },
      "outputs": [
        {
          "output_type": "stream",
          "name": "stdout",
          "text": [
            "Collecting bottleneck\n",
            "  Downloading Bottleneck-1.3.8-cp310-cp310-manylinux_2_5_x86_64.manylinux1_x86_64.manylinux_2_17_x86_64.manylinux2014_x86_64.whl (354 kB)\n",
            "\u001b[?25l     \u001b[90m━━━━━━━━━━━━━━━━━━━━━━━━━━━━━━━━━━━━━━━━\u001b[0m \u001b[32m0.0/354.1 kB\u001b[0m \u001b[31m?\u001b[0m eta \u001b[36m-:--:--\u001b[0m\r\u001b[2K     \u001b[91m━━━━━━━━━━━━━━━━━━━━━━━━━━━━━━━━━━━━━━━\u001b[0m\u001b[90m╺\u001b[0m \u001b[32m348.2/354.1 kB\u001b[0m \u001b[31m10.6 MB/s\u001b[0m eta \u001b[36m0:00:01\u001b[0m\r\u001b[2K     \u001b[90m━━━━━━━━━━━━━━━━━━━━━━━━━━━━━━━━━━━━━━━━\u001b[0m \u001b[32m354.1/354.1 kB\u001b[0m \u001b[31m8.1 MB/s\u001b[0m eta \u001b[36m0:00:00\u001b[0m\n",
            "\u001b[?25hRequirement already satisfied: numpy in /usr/local/lib/python3.10/dist-packages (from bottleneck) (1.25.2)\n",
            "Installing collected packages: bottleneck\n",
            "Successfully installed bottleneck-1.3.8\n"
          ]
        }
      ],
      "source": [
        "!pip install --upgrade bottleneck"
      ]
    },
    {
      "cell_type": "code",
      "execution_count": null,
      "id": "6fb4c51f",
      "metadata": {
        "colab": {
          "base_uri": "https://localhost:8080/"
        },
        "id": "6fb4c51f",
        "outputId": "20cf3b93-9e5b-4966-8b7f-0243c32bec10"
      },
      "outputs": [
        {
          "output_type": "stream",
          "name": "stdout",
          "text": [
            "Requirement already satisfied: scikit-learn in /usr/local/lib/python3.10/dist-packages (1.4.2)\n",
            "Requirement already satisfied: numpy>=1.19.5 in /usr/local/lib/python3.10/dist-packages (from scikit-learn) (1.25.2)\n",
            "Requirement already satisfied: scipy>=1.6.0 in /usr/local/lib/python3.10/dist-packages (from scikit-learn) (1.11.4)\n",
            "Requirement already satisfied: joblib>=1.2.0 in /usr/local/lib/python3.10/dist-packages (from scikit-learn) (1.4.0)\n",
            "Requirement already satisfied: threadpoolctl>=2.0.0 in /usr/local/lib/python3.10/dist-packages (from scikit-learn) (3.4.0)\n"
          ]
        }
      ],
      "source": [
        "!pip install --upgrade scikit-learn"
      ]
    },
    {
      "cell_type": "markdown",
      "source": [
        "##**MLPClassifier**"
      ],
      "metadata": {
        "id": "t5vygkYlBLTs"
      },
      "id": "t5vygkYlBLTs"
    },
    {
      "cell_type": "markdown",
      "source": [
        "Загрузка данных\n",
        "\n",
        "Мы будем загружать два набора данных.\n",
        "\n",
        "Набор данных цифр: мы будем использовать набор данных цифр,\n",
        "который имеет изображения размером 8x8 для цифр 0-9. Ниже мы будем\n",
        "использовать цифровые данные для задач классификации.\n",
        "\n",
        "Набор данных о жилье в Бостоне: мы будем использовать набор\n",
        "данных о жилье в Бостоне, который содержит информацию о различных\n",
        "свойствах дома, таких как среднее количество комнат, уровень преступности\n",
        "на душу населения в городе и т. д. Мы будем использовать его для задач\n",
        "регрессии.\n",
        "\n",
        "Sklearn предоставляет оба этих набора данных. Мы можем загрузить\n",
        "их, вызвав методы load_digits() и load_boston()."
      ],
      "metadata": {
        "id": "_bcjw2WXBNWn"
      },
      "id": "_bcjw2WXBNWn"
    },
    {
      "cell_type": "code",
      "execution_count": null,
      "id": "dfadde84",
      "metadata": {
        "id": "dfadde84"
      },
      "outputs": [],
      "source": [
        "from sklearn.datasets import load_digits\n",
        "from sklearn.datasets import fetch_openml"
      ]
    },
    {
      "cell_type": "code",
      "source": [
        "digits = load_digits()\n",
        "X_digits, Y_digits = digits.data, digits.target\n",
        "print('Размер датасета digits: ', X_digits.shape, Y_digits.shape)"
      ],
      "metadata": {
        "colab": {
          "base_uri": "https://localhost:8080/"
        },
        "id": "-0--3YcfBvHY",
        "outputId": "adf338bc-9036-4ace-9dab-82b8ae17a83e"
      },
      "id": "-0--3YcfBvHY",
      "execution_count": null,
      "outputs": [
        {
          "output_type": "stream",
          "name": "stdout",
          "text": [
            "Размер датасета digits:  (1797, 64) (1797,)\n"
          ]
        }
      ]
    },
    {
      "cell_type": "code",
      "execution_count": null,
      "id": "286fbb5f",
      "metadata": {
        "colab": {
          "base_uri": "https://localhost:8080/"
        },
        "id": "286fbb5f",
        "outputId": "2833cf70-6f47-4241-c701-944e33c644c4"
      },
      "outputs": [
        {
          "output_type": "stream",
          "name": "stderr",
          "text": [
            "/usr/local/lib/python3.10/dist-packages/sklearn/datasets/_openml.py:322: UserWarning: Multiple active versions of the dataset matching the name boston exist. Versions may be fundamentally different, returning version 1. Available versions:\n",
            "- version 1, status: active\n",
            "  url: https://www.openml.org/search?type=data&id=531\n",
            "- version 2, status: active\n",
            "  url: https://www.openml.org/search?type=data&id=853\n",
            "\n",
            "  warn(warning_msg)\n"
          ]
        },
        {
          "output_type": "stream",
          "name": "stdout",
          "text": [
            "Размер датасета boston:  (506, 13) (506,)\n"
          ]
        }
      ],
      "source": [
        "boston = fetch_openml(name='boston')\n",
        "X_boston, Y_boston = boston.data, boston.target\n",
        "print('Размер датасета boston: ', X_boston.shape, Y_boston.shape)"
      ]
    },
    {
      "cell_type": "markdown",
      "source": [
        "Классификация\n",
        "\n",
        "MLPClassifier — это клвсс, доступный как часть модуля neuro_network\n",
        "sklearn для выполнения задач классификации с использованием\n",
        "многослойного персептрона.\n",
        "\n",
        "Как обычно разделим набор данных на две части:\n",
        "- данные обучения, которые будут использоваться для модели\n",
        "обучения;\n",
        "- тестовые данные, по которым будет проверяться точность\n",
        "обученной модели.\n",
        "\n",
        "Функция train_test_split модуля model_selection sklearn поможет нам\n",
        "разделить данные на два набора: 80% для обучения и 20% для тестирования.\n",
        "\n",
        "Мы также используем seed(random_state=123) с train_test_split, чтобы мы\n",
        "всегда получали одно и то же разделение и могли сравнивать и\n",
        "воспроизволить результаты в будущем."
      ],
      "metadata": {
        "id": "tGwG92E3B0SL"
      },
      "id": "tGwG92E3B0SL"
    },
    {
      "cell_type": "code",
      "execution_count": null,
      "id": "c0b1e46d",
      "metadata": {
        "scrolled": true,
        "colab": {
          "base_uri": "https://localhost:8080/"
        },
        "id": "c0b1e46d",
        "outputId": "7f425dca-cfa6-4f1b-87b5-9eecda8851a4"
      },
      "outputs": [
        {
          "output_type": "stream",
          "name": "stdout",
          "text": [
            "Requirement already satisfied: scikit-learn in /usr/local/lib/python3.10/dist-packages (1.4.2)\n",
            "Requirement already satisfied: numpy>=1.19.5 in /usr/local/lib/python3.10/dist-packages (from scikit-learn) (1.25.2)\n",
            "Requirement already satisfied: scipy>=1.6.0 in /usr/local/lib/python3.10/dist-packages (from scikit-learn) (1.11.4)\n",
            "Requirement already satisfied: joblib>=1.2.0 in /usr/local/lib/python3.10/dist-packages (from scikit-learn) (1.4.0)\n",
            "Requirement already satisfied: threadpoolctl>=2.0.0 in /usr/local/lib/python3.10/dist-packages (from scikit-learn) (3.4.0)\n"
          ]
        }
      ],
      "source": [
        "!pip install --upgrade scikit-learn"
      ]
    },
    {
      "cell_type": "code",
      "execution_count": null,
      "id": "1a7985b1",
      "metadata": {
        "colab": {
          "base_uri": "https://localhost:8080/"
        },
        "id": "1a7985b1",
        "outputId": "9f0394af-8116-4a8c-83ac-a92a17034824"
      },
      "outputs": [
        {
          "output_type": "stream",
          "name": "stdout",
          "text": [
            "Train/Test sizes:  (1437, 64) (360, 64) (1437,) (360,)\n"
          ]
        }
      ],
      "source": [
        "from sklearn.model_selection import train_test_split\n",
        "\n",
        "X_train, X_test, Y_train, Y_test = train_test_split(X_digits, Y_digits, train_size = 0.80, test_size = 0.20,\n",
        "                                                    stratify = Y_digits, random_state = 123)\n",
        "print('Train/Test sizes: ', X_train.shape, X_test.shape, Y_train.shape, Y_test.shape)"
      ]
    },
    {
      "cell_type": "markdown",
      "source": [
        "Для начала натренируем модель MLPClassifier с параметрами по умолчанию\n",
        "для тренировочных данных"
      ],
      "metadata": {
        "id": "77T97bTzCWDB"
      },
      "id": "77T97bTzCWDB"
    },
    {
      "cell_type": "code",
      "execution_count": null,
      "id": "e73b51e9",
      "metadata": {
        "colab": {
          "base_uri": "https://localhost:8080/",
          "height": 80
        },
        "id": "e73b51e9",
        "outputId": "2ff8acf0-27c3-40c2-d441-0d1bd7a37c10"
      },
      "outputs": [
        {
          "output_type": "execute_result",
          "data": {
            "text/plain": [
              "MLPClassifier(random_state=123)"
            ],
            "text/html": [
              "<style>#sk-container-id-1 {\n",
              "  /* Definition of color scheme common for light and dark mode */\n",
              "  --sklearn-color-text: black;\n",
              "  --sklearn-color-line: gray;\n",
              "  /* Definition of color scheme for unfitted estimators */\n",
              "  --sklearn-color-unfitted-level-0: #fff5e6;\n",
              "  --sklearn-color-unfitted-level-1: #f6e4d2;\n",
              "  --sklearn-color-unfitted-level-2: #ffe0b3;\n",
              "  --sklearn-color-unfitted-level-3: chocolate;\n",
              "  /* Definition of color scheme for fitted estimators */\n",
              "  --sklearn-color-fitted-level-0: #f0f8ff;\n",
              "  --sklearn-color-fitted-level-1: #d4ebff;\n",
              "  --sklearn-color-fitted-level-2: #b3dbfd;\n",
              "  --sklearn-color-fitted-level-3: cornflowerblue;\n",
              "\n",
              "  /* Specific color for light theme */\n",
              "  --sklearn-color-text-on-default-background: var(--sg-text-color, var(--theme-code-foreground, var(--jp-content-font-color1, black)));\n",
              "  --sklearn-color-background: var(--sg-background-color, var(--theme-background, var(--jp-layout-color0, white)));\n",
              "  --sklearn-color-border-box: var(--sg-text-color, var(--theme-code-foreground, var(--jp-content-font-color1, black)));\n",
              "  --sklearn-color-icon: #696969;\n",
              "\n",
              "  @media (prefers-color-scheme: dark) {\n",
              "    /* Redefinition of color scheme for dark theme */\n",
              "    --sklearn-color-text-on-default-background: var(--sg-text-color, var(--theme-code-foreground, var(--jp-content-font-color1, white)));\n",
              "    --sklearn-color-background: var(--sg-background-color, var(--theme-background, var(--jp-layout-color0, #111)));\n",
              "    --sklearn-color-border-box: var(--sg-text-color, var(--theme-code-foreground, var(--jp-content-font-color1, white)));\n",
              "    --sklearn-color-icon: #878787;\n",
              "  }\n",
              "}\n",
              "\n",
              "#sk-container-id-1 {\n",
              "  color: var(--sklearn-color-text);\n",
              "}\n",
              "\n",
              "#sk-container-id-1 pre {\n",
              "  padding: 0;\n",
              "}\n",
              "\n",
              "#sk-container-id-1 input.sk-hidden--visually {\n",
              "  border: 0;\n",
              "  clip: rect(1px 1px 1px 1px);\n",
              "  clip: rect(1px, 1px, 1px, 1px);\n",
              "  height: 1px;\n",
              "  margin: -1px;\n",
              "  overflow: hidden;\n",
              "  padding: 0;\n",
              "  position: absolute;\n",
              "  width: 1px;\n",
              "}\n",
              "\n",
              "#sk-container-id-1 div.sk-dashed-wrapped {\n",
              "  border: 1px dashed var(--sklearn-color-line);\n",
              "  margin: 0 0.4em 0.5em 0.4em;\n",
              "  box-sizing: border-box;\n",
              "  padding-bottom: 0.4em;\n",
              "  background-color: var(--sklearn-color-background);\n",
              "}\n",
              "\n",
              "#sk-container-id-1 div.sk-container {\n",
              "  /* jupyter's `normalize.less` sets `[hidden] { display: none; }`\n",
              "     but bootstrap.min.css set `[hidden] { display: none !important; }`\n",
              "     so we also need the `!important` here to be able to override the\n",
              "     default hidden behavior on the sphinx rendered scikit-learn.org.\n",
              "     See: https://github.com/scikit-learn/scikit-learn/issues/21755 */\n",
              "  display: inline-block !important;\n",
              "  position: relative;\n",
              "}\n",
              "\n",
              "#sk-container-id-1 div.sk-text-repr-fallback {\n",
              "  display: none;\n",
              "}\n",
              "\n",
              "div.sk-parallel-item,\n",
              "div.sk-serial,\n",
              "div.sk-item {\n",
              "  /* draw centered vertical line to link estimators */\n",
              "  background-image: linear-gradient(var(--sklearn-color-text-on-default-background), var(--sklearn-color-text-on-default-background));\n",
              "  background-size: 2px 100%;\n",
              "  background-repeat: no-repeat;\n",
              "  background-position: center center;\n",
              "}\n",
              "\n",
              "/* Parallel-specific style estimator block */\n",
              "\n",
              "#sk-container-id-1 div.sk-parallel-item::after {\n",
              "  content: \"\";\n",
              "  width: 100%;\n",
              "  border-bottom: 2px solid var(--sklearn-color-text-on-default-background);\n",
              "  flex-grow: 1;\n",
              "}\n",
              "\n",
              "#sk-container-id-1 div.sk-parallel {\n",
              "  display: flex;\n",
              "  align-items: stretch;\n",
              "  justify-content: center;\n",
              "  background-color: var(--sklearn-color-background);\n",
              "  position: relative;\n",
              "}\n",
              "\n",
              "#sk-container-id-1 div.sk-parallel-item {\n",
              "  display: flex;\n",
              "  flex-direction: column;\n",
              "}\n",
              "\n",
              "#sk-container-id-1 div.sk-parallel-item:first-child::after {\n",
              "  align-self: flex-end;\n",
              "  width: 50%;\n",
              "}\n",
              "\n",
              "#sk-container-id-1 div.sk-parallel-item:last-child::after {\n",
              "  align-self: flex-start;\n",
              "  width: 50%;\n",
              "}\n",
              "\n",
              "#sk-container-id-1 div.sk-parallel-item:only-child::after {\n",
              "  width: 0;\n",
              "}\n",
              "\n",
              "/* Serial-specific style estimator block */\n",
              "\n",
              "#sk-container-id-1 div.sk-serial {\n",
              "  display: flex;\n",
              "  flex-direction: column;\n",
              "  align-items: center;\n",
              "  background-color: var(--sklearn-color-background);\n",
              "  padding-right: 1em;\n",
              "  padding-left: 1em;\n",
              "}\n",
              "\n",
              "\n",
              "/* Toggleable style: style used for estimator/Pipeline/ColumnTransformer box that is\n",
              "clickable and can be expanded/collapsed.\n",
              "- Pipeline and ColumnTransformer use this feature and define the default style\n",
              "- Estimators will overwrite some part of the style using the `sk-estimator` class\n",
              "*/\n",
              "\n",
              "/* Pipeline and ColumnTransformer style (default) */\n",
              "\n",
              "#sk-container-id-1 div.sk-toggleable {\n",
              "  /* Default theme specific background. It is overwritten whether we have a\n",
              "  specific estimator or a Pipeline/ColumnTransformer */\n",
              "  background-color: var(--sklearn-color-background);\n",
              "}\n",
              "\n",
              "/* Toggleable label */\n",
              "#sk-container-id-1 label.sk-toggleable__label {\n",
              "  cursor: pointer;\n",
              "  display: block;\n",
              "  width: 100%;\n",
              "  margin-bottom: 0;\n",
              "  padding: 0.5em;\n",
              "  box-sizing: border-box;\n",
              "  text-align: center;\n",
              "}\n",
              "\n",
              "#sk-container-id-1 label.sk-toggleable__label-arrow:before {\n",
              "  /* Arrow on the left of the label */\n",
              "  content: \"▸\";\n",
              "  float: left;\n",
              "  margin-right: 0.25em;\n",
              "  color: var(--sklearn-color-icon);\n",
              "}\n",
              "\n",
              "#sk-container-id-1 label.sk-toggleable__label-arrow:hover:before {\n",
              "  color: var(--sklearn-color-text);\n",
              "}\n",
              "\n",
              "/* Toggleable content - dropdown */\n",
              "\n",
              "#sk-container-id-1 div.sk-toggleable__content {\n",
              "  max-height: 0;\n",
              "  max-width: 0;\n",
              "  overflow: hidden;\n",
              "  text-align: left;\n",
              "  /* unfitted */\n",
              "  background-color: var(--sklearn-color-unfitted-level-0);\n",
              "}\n",
              "\n",
              "#sk-container-id-1 div.sk-toggleable__content.fitted {\n",
              "  /* fitted */\n",
              "  background-color: var(--sklearn-color-fitted-level-0);\n",
              "}\n",
              "\n",
              "#sk-container-id-1 div.sk-toggleable__content pre {\n",
              "  margin: 0.2em;\n",
              "  border-radius: 0.25em;\n",
              "  color: var(--sklearn-color-text);\n",
              "  /* unfitted */\n",
              "  background-color: var(--sklearn-color-unfitted-level-0);\n",
              "}\n",
              "\n",
              "#sk-container-id-1 div.sk-toggleable__content.fitted pre {\n",
              "  /* unfitted */\n",
              "  background-color: var(--sklearn-color-fitted-level-0);\n",
              "}\n",
              "\n",
              "#sk-container-id-1 input.sk-toggleable__control:checked~div.sk-toggleable__content {\n",
              "  /* Expand drop-down */\n",
              "  max-height: 200px;\n",
              "  max-width: 100%;\n",
              "  overflow: auto;\n",
              "}\n",
              "\n",
              "#sk-container-id-1 input.sk-toggleable__control:checked~label.sk-toggleable__label-arrow:before {\n",
              "  content: \"▾\";\n",
              "}\n",
              "\n",
              "/* Pipeline/ColumnTransformer-specific style */\n",
              "\n",
              "#sk-container-id-1 div.sk-label input.sk-toggleable__control:checked~label.sk-toggleable__label {\n",
              "  color: var(--sklearn-color-text);\n",
              "  background-color: var(--sklearn-color-unfitted-level-2);\n",
              "}\n",
              "\n",
              "#sk-container-id-1 div.sk-label.fitted input.sk-toggleable__control:checked~label.sk-toggleable__label {\n",
              "  background-color: var(--sklearn-color-fitted-level-2);\n",
              "}\n",
              "\n",
              "/* Estimator-specific style */\n",
              "\n",
              "/* Colorize estimator box */\n",
              "#sk-container-id-1 div.sk-estimator input.sk-toggleable__control:checked~label.sk-toggleable__label {\n",
              "  /* unfitted */\n",
              "  background-color: var(--sklearn-color-unfitted-level-2);\n",
              "}\n",
              "\n",
              "#sk-container-id-1 div.sk-estimator.fitted input.sk-toggleable__control:checked~label.sk-toggleable__label {\n",
              "  /* fitted */\n",
              "  background-color: var(--sklearn-color-fitted-level-2);\n",
              "}\n",
              "\n",
              "#sk-container-id-1 div.sk-label label.sk-toggleable__label,\n",
              "#sk-container-id-1 div.sk-label label {\n",
              "  /* The background is the default theme color */\n",
              "  color: var(--sklearn-color-text-on-default-background);\n",
              "}\n",
              "\n",
              "/* On hover, darken the color of the background */\n",
              "#sk-container-id-1 div.sk-label:hover label.sk-toggleable__label {\n",
              "  color: var(--sklearn-color-text);\n",
              "  background-color: var(--sklearn-color-unfitted-level-2);\n",
              "}\n",
              "\n",
              "/* Label box, darken color on hover, fitted */\n",
              "#sk-container-id-1 div.sk-label.fitted:hover label.sk-toggleable__label.fitted {\n",
              "  color: var(--sklearn-color-text);\n",
              "  background-color: var(--sklearn-color-fitted-level-2);\n",
              "}\n",
              "\n",
              "/* Estimator label */\n",
              "\n",
              "#sk-container-id-1 div.sk-label label {\n",
              "  font-family: monospace;\n",
              "  font-weight: bold;\n",
              "  display: inline-block;\n",
              "  line-height: 1.2em;\n",
              "}\n",
              "\n",
              "#sk-container-id-1 div.sk-label-container {\n",
              "  text-align: center;\n",
              "}\n",
              "\n",
              "/* Estimator-specific */\n",
              "#sk-container-id-1 div.sk-estimator {\n",
              "  font-family: monospace;\n",
              "  border: 1px dotted var(--sklearn-color-border-box);\n",
              "  border-radius: 0.25em;\n",
              "  box-sizing: border-box;\n",
              "  margin-bottom: 0.5em;\n",
              "  /* unfitted */\n",
              "  background-color: var(--sklearn-color-unfitted-level-0);\n",
              "}\n",
              "\n",
              "#sk-container-id-1 div.sk-estimator.fitted {\n",
              "  /* fitted */\n",
              "  background-color: var(--sklearn-color-fitted-level-0);\n",
              "}\n",
              "\n",
              "/* on hover */\n",
              "#sk-container-id-1 div.sk-estimator:hover {\n",
              "  /* unfitted */\n",
              "  background-color: var(--sklearn-color-unfitted-level-2);\n",
              "}\n",
              "\n",
              "#sk-container-id-1 div.sk-estimator.fitted:hover {\n",
              "  /* fitted */\n",
              "  background-color: var(--sklearn-color-fitted-level-2);\n",
              "}\n",
              "\n",
              "/* Specification for estimator info (e.g. \"i\" and \"?\") */\n",
              "\n",
              "/* Common style for \"i\" and \"?\" */\n",
              "\n",
              ".sk-estimator-doc-link,\n",
              "a:link.sk-estimator-doc-link,\n",
              "a:visited.sk-estimator-doc-link {\n",
              "  float: right;\n",
              "  font-size: smaller;\n",
              "  line-height: 1em;\n",
              "  font-family: monospace;\n",
              "  background-color: var(--sklearn-color-background);\n",
              "  border-radius: 1em;\n",
              "  height: 1em;\n",
              "  width: 1em;\n",
              "  text-decoration: none !important;\n",
              "  margin-left: 1ex;\n",
              "  /* unfitted */\n",
              "  border: var(--sklearn-color-unfitted-level-1) 1pt solid;\n",
              "  color: var(--sklearn-color-unfitted-level-1);\n",
              "}\n",
              "\n",
              ".sk-estimator-doc-link.fitted,\n",
              "a:link.sk-estimator-doc-link.fitted,\n",
              "a:visited.sk-estimator-doc-link.fitted {\n",
              "  /* fitted */\n",
              "  border: var(--sklearn-color-fitted-level-1) 1pt solid;\n",
              "  color: var(--sklearn-color-fitted-level-1);\n",
              "}\n",
              "\n",
              "/* On hover */\n",
              "div.sk-estimator:hover .sk-estimator-doc-link:hover,\n",
              ".sk-estimator-doc-link:hover,\n",
              "div.sk-label-container:hover .sk-estimator-doc-link:hover,\n",
              ".sk-estimator-doc-link:hover {\n",
              "  /* unfitted */\n",
              "  background-color: var(--sklearn-color-unfitted-level-3);\n",
              "  color: var(--sklearn-color-background);\n",
              "  text-decoration: none;\n",
              "}\n",
              "\n",
              "div.sk-estimator.fitted:hover .sk-estimator-doc-link.fitted:hover,\n",
              ".sk-estimator-doc-link.fitted:hover,\n",
              "div.sk-label-container:hover .sk-estimator-doc-link.fitted:hover,\n",
              ".sk-estimator-doc-link.fitted:hover {\n",
              "  /* fitted */\n",
              "  background-color: var(--sklearn-color-fitted-level-3);\n",
              "  color: var(--sklearn-color-background);\n",
              "  text-decoration: none;\n",
              "}\n",
              "\n",
              "/* Span, style for the box shown on hovering the info icon */\n",
              ".sk-estimator-doc-link span {\n",
              "  display: none;\n",
              "  z-index: 9999;\n",
              "  position: relative;\n",
              "  font-weight: normal;\n",
              "  right: .2ex;\n",
              "  padding: .5ex;\n",
              "  margin: .5ex;\n",
              "  width: min-content;\n",
              "  min-width: 20ex;\n",
              "  max-width: 50ex;\n",
              "  color: var(--sklearn-color-text);\n",
              "  box-shadow: 2pt 2pt 4pt #999;\n",
              "  /* unfitted */\n",
              "  background: var(--sklearn-color-unfitted-level-0);\n",
              "  border: .5pt solid var(--sklearn-color-unfitted-level-3);\n",
              "}\n",
              "\n",
              ".sk-estimator-doc-link.fitted span {\n",
              "  /* fitted */\n",
              "  background: var(--sklearn-color-fitted-level-0);\n",
              "  border: var(--sklearn-color-fitted-level-3);\n",
              "}\n",
              "\n",
              ".sk-estimator-doc-link:hover span {\n",
              "  display: block;\n",
              "}\n",
              "\n",
              "/* \"?\"-specific style due to the `<a>` HTML tag */\n",
              "\n",
              "#sk-container-id-1 a.estimator_doc_link {\n",
              "  float: right;\n",
              "  font-size: 1rem;\n",
              "  line-height: 1em;\n",
              "  font-family: monospace;\n",
              "  background-color: var(--sklearn-color-background);\n",
              "  border-radius: 1rem;\n",
              "  height: 1rem;\n",
              "  width: 1rem;\n",
              "  text-decoration: none;\n",
              "  /* unfitted */\n",
              "  color: var(--sklearn-color-unfitted-level-1);\n",
              "  border: var(--sklearn-color-unfitted-level-1) 1pt solid;\n",
              "}\n",
              "\n",
              "#sk-container-id-1 a.estimator_doc_link.fitted {\n",
              "  /* fitted */\n",
              "  border: var(--sklearn-color-fitted-level-1) 1pt solid;\n",
              "  color: var(--sklearn-color-fitted-level-1);\n",
              "}\n",
              "\n",
              "/* On hover */\n",
              "#sk-container-id-1 a.estimator_doc_link:hover {\n",
              "  /* unfitted */\n",
              "  background-color: var(--sklearn-color-unfitted-level-3);\n",
              "  color: var(--sklearn-color-background);\n",
              "  text-decoration: none;\n",
              "}\n",
              "\n",
              "#sk-container-id-1 a.estimator_doc_link.fitted:hover {\n",
              "  /* fitted */\n",
              "  background-color: var(--sklearn-color-fitted-level-3);\n",
              "}\n",
              "</style><div id=\"sk-container-id-1\" class=\"sk-top-container\"><div class=\"sk-text-repr-fallback\"><pre>MLPClassifier(random_state=123)</pre><b>In a Jupyter environment, please rerun this cell to show the HTML representation or trust the notebook. <br />On GitHub, the HTML representation is unable to render, please try loading this page with nbviewer.org.</b></div><div class=\"sk-container\" hidden><div class=\"sk-item\"><div class=\"sk-estimator fitted sk-toggleable\"><input class=\"sk-toggleable__control sk-hidden--visually\" id=\"sk-estimator-id-1\" type=\"checkbox\" checked><label for=\"sk-estimator-id-1\" class=\"sk-toggleable__label fitted sk-toggleable__label-arrow fitted\">&nbsp;&nbsp;MLPClassifier<a class=\"sk-estimator-doc-link fitted\" rel=\"noreferrer\" target=\"_blank\" href=\"https://scikit-learn.org/1.4/modules/generated/sklearn.neural_network.MLPClassifier.html\">?<span>Documentation for MLPClassifier</span></a><span class=\"sk-estimator-doc-link fitted\">i<span>Fitted</span></span></label><div class=\"sk-toggleable__content fitted\"><pre>MLPClassifier(random_state=123)</pre></div> </div></div></div></div>"
            ]
          },
          "metadata": {},
          "execution_count": 9
        }
      ],
      "source": [
        "from sklearn.neural_network import MLPClassifier\n",
        "\n",
        "mlp_classifier = MLPClassifier(random_state = 123)\n",
        "mlp_classifier.fit(X_train, Y_train)"
      ]
    },
    {
      "cell_type": "code",
      "execution_count": null,
      "id": "10db63ac",
      "metadata": {
        "colab": {
          "base_uri": "https://localhost:8080/"
        },
        "id": "10db63ac",
        "outputId": "8f3cf43e-f415-4595-b25c-f8b0aadd794e"
      },
      "outputs": [
        {
          "output_type": "stream",
          "name": "stdout",
          "text": [
            "[5 9 9 6 1 6 6 9 8 7 4 2 1 4 3]\n",
            "[5 9 9 6 1 6 6 9 8 7 4 2 1 4 3]\n",
            "Test Accuracy: 0.983\n",
            "Training Accuracy: 1.000\n"
          ]
        }
      ],
      "source": [
        "Y_preds = mlp_classifier.predict(X_test)\n",
        "\n",
        "print(Y_preds[:15])\n",
        "print(Y_test[:15])\n",
        "\n",
        "# Метод Score для оценки точности моделей классификации.\n",
        "print('Test Accuracy: %.3f'%mlp_classifier.score(X_test, Y_test))\n",
        "print('Training Accuracy: %.3f'%mlp_classifier.score(X_train, Y_train))"
      ]
    },
    {
      "cell_type": "markdown",
      "source": [
        "Cоздадим метод plot_confusion_matrix(), который принимает исходные и\n",
        "предсказанные метки данных по модели. Затем он строит матрицу путаницы,\n",
        "используя matplotlib."
      ],
      "metadata": {
        "id": "8N41LhEfDni4"
      },
      "id": "8N41LhEfDni4"
    },
    {
      "cell_type": "code",
      "execution_count": null,
      "id": "155dac26",
      "metadata": {
        "colab": {
          "base_uri": "https://localhost:8080/",
          "height": 510
        },
        "id": "155dac26",
        "outputId": "f1560563-4c15-4a38-e602-40971a1fc025"
      },
      "outputs": [
        {
          "output_type": "display_data",
          "data": {
            "text/plain": [
              "<Figure size 600x600 with 2 Axes>"
            ],
            "image/png": "[encoded data removed]"
          },
          "metadata": {}
        }
      ],
      "source": [
        "from sklearn.metrics import confusion_matrix\n",
        "from matplotlib import pyplot as plt\n",
        "\n",
        "def plot_confusion_matrix(Y_test, Y_preds):\n",
        "    conf_mat = confusion_matrix(Y_test, Y_preds)\n",
        "    fig = plt.figure(figsize=(6,6))\n",
        "\n",
        "    plt.matshow(conf_mat, cmap=plt.cm.Blues, fignum=1)\n",
        "    plt.yticks(range(10), range(10))\n",
        "    plt.xticks(range(10), range(10))\n",
        "    plt.colorbar();\n",
        "\n",
        "    for i in range(10):\n",
        "        for j in range(10):\n",
        "            plt.text(i-0.2,j+0.1, str(conf_mat[j, i]), color=\"tab:red\")\n",
        "\n",
        "plot_confusion_matrix(Y_test, mlp_classifier.predict(X_test))"
      ]
    },
    {
      "cell_type": "markdown",
      "source": [
        "Ниже приведен список важных атрибутов, доступных с MLPClassifier, которые могут предоставить значимую информацию после обучения\n",
        "модели.\n",
        "- loss_ — возвращает убыток после завершения процесса обучения.\n",
        "- coefs_ — возвращает массив длины n_layers-1, где каждый элемент\n",
        "представляет веса, связанные с уровнем i.\n",
        "- intercepts_ — возвращает массив длины n_layers-1, где каждый\n",
        "элемент представляет собой перехват, связанный с персептронами\n",
        "слоя i.\n",
        "- n_iter_ — количество итераций, для которых выполнялась оценка.\n",
        "- out_activation_ — возвращает имя функции активации выходного\n",
        "слоя.\n"
      ],
      "metadata": {
        "id": "UXCA0X6fD2gl"
      },
      "id": "UXCA0X6fD2gl"
    },
    {
      "cell_type": "code",
      "execution_count": null,
      "id": "a37872f4",
      "metadata": {
        "colab": {
          "base_uri": "https://localhost:8080/"
        },
        "id": "a37872f4",
        "outputId": "2718d794-7e6b-47d7-92c4-2b0baa900c11"
      },
      "outputs": [
        {
          "output_type": "stream",
          "name": "stdout",
          "text": [
            "Loss 0.0034728684994180608\n",
            "Number of Coefs:  2\n",
            "Number of Intercepts:  2\n",
            "Number of Iterations for Which Estimator Ran :  125\n",
            "Name of Output Layer Activation Function:  softmax\n"
          ]
        }
      ],
      "source": [
        "print(\"Loss\", mlp_classifier.loss_)\n",
        "print(\"Number of Coefs: \", len(mlp_classifier.coefs_))\n",
        "print(\"Number of Intercepts: \", len(mlp_classifier.intercepts_))\n",
        "print(\"Number of Iterations for Which Estimator Ran : \", mlp_classifier.n_iter_)\n",
        "print(\"Name of Output Layer Activation Function: \", mlp_classifier.out_activation_)"
      ]
    },
    {
      "cell_type": "markdown",
      "id": "5120b15f",
      "metadata": {
        "id": "5120b15f"
      },
      "source": [
        "##**MLPRegressor**"
      ]
    },
    {
      "cell_type": "markdown",
      "source": [
        "MLPRegressor — это класс, доступный как часть библиотеки\n",
        "neuro_network sklearn для выполнения задач регрессии с использованием\n",
        "многослойного персептрона. Также разделим набор данных на две части:\n",
        "\n",
        "- данные обучения (80%), которые будут использоваться для\n",
        "модели обучения;\n",
        "- тестовые данные (20%), по которым будет проверяться точность\n",
        "обученной модели."
      ],
      "metadata": {
        "id": "Q8u8gejFEItj"
      },
      "id": "Q8u8gejFEItj"
    },
    {
      "cell_type": "code",
      "execution_count": null,
      "id": "436c2e5d",
      "metadata": {
        "id": "436c2e5d"
      },
      "outputs": [],
      "source": [
        "import numpy as np\n",
        "\n",
        "X_boston = np.array(X_boston)\n",
        "Y_boston = np.array(Y_boston)"
      ]
    },
    {
      "cell_type": "code",
      "execution_count": null,
      "id": "6f24aad6",
      "metadata": {
        "colab": {
          "base_uri": "https://localhost:8080/"
        },
        "id": "6f24aad6",
        "outputId": "f328aad5-6eb9-47c2-ec1a-a9d7be62df5f"
      },
      "outputs": [
        {
          "output_type": "stream",
          "name": "stdout",
          "text": [
            "Train|Test sizes:  (404, 13) (102, 13) (404,) (102,)\n"
          ]
        }
      ],
      "source": [
        "X_train, X_test, Y_train, Y_test = train_test_split(X_boston, Y_boston, train_size = 0.80, test_size = 0.20, random_state = 123)\n",
        "print('Train|Test sizes: ', X_train.shape, X_test.shape, Y_train.shape, Y_test.shape)"
      ]
    },
    {
      "cell_type": "code",
      "execution_count": null,
      "id": "32b8b19f",
      "metadata": {
        "colab": {
          "base_uri": "https://localhost:8080/",
          "height": 80
        },
        "id": "32b8b19f",
        "outputId": "12590470-8c07-45e2-be9b-ce965adb9630"
      },
      "outputs": [
        {
          "output_type": "execute_result",
          "data": {
            "text/plain": [
              "MLPRegressor(random_state=123)"
            ],
            "text/html": [
              "<style>#sk-container-id-2 {\n",
              "  /* Definition of color scheme common for light and dark mode */\n",
              "  --sklearn-color-text: black;\n",
              "  --sklearn-color-line: gray;\n",
              "  /* Definition of color scheme for unfitted estimators */\n",
              "  --sklearn-color-unfitted-level-0: #fff5e6;\n",
              "  --sklearn-color-unfitted-level-1: #f6e4d2;\n",
              "  --sklearn-color-unfitted-level-2: #ffe0b3;\n",
              "  --sklearn-color-unfitted-level-3: chocolate;\n",
              "  /* Definition of color scheme for fitted estimators */\n",
              "  --sklearn-color-fitted-level-0: #f0f8ff;\n",
              "  --sklearn-color-fitted-level-1: #d4ebff;\n",
              "  --sklearn-color-fitted-level-2: #b3dbfd;\n",
              "  --sklearn-color-fitted-level-3: cornflowerblue;\n",
              "\n",
              "  /* Specific color for light theme */\n",
              "  --sklearn-color-text-on-default-background: var(--sg-text-color, var(--theme-code-foreground, var(--jp-content-font-color1, black)));\n",
              "  --sklearn-color-background: var(--sg-background-color, var(--theme-background, var(--jp-layout-color0, white)));\n",
              "  --sklearn-color-border-box: var(--sg-text-color, var(--theme-code-foreground, var(--jp-content-font-color1, black)));\n",
              "  --sklearn-color-icon: #696969;\n",
              "\n",
              "  @media (prefers-color-scheme: dark) {\n",
              "    /* Redefinition of color scheme for dark theme */\n",
              "    --sklearn-color-text-on-default-background: var(--sg-text-color, var(--theme-code-foreground, var(--jp-content-font-color1, white)));\n",
              "    --sklearn-color-background: var(--sg-background-color, var(--theme-background, var(--jp-layout-color0, #111)));\n",
              "    --sklearn-color-border-box: var(--sg-text-color, var(--theme-code-foreground, var(--jp-content-font-color1, white)));\n",
              "    --sklearn-color-icon: #878787;\n",
              "  }\n",
              "}\n",
              "\n",
              "#sk-container-id-2 {\n",
              "  color: var(--sklearn-color-text);\n",
              "}\n",
              "\n",
              "#sk-container-id-2 pre {\n",
              "  padding: 0;\n",
              "}\n",
              "\n",
              "#sk-container-id-2 input.sk-hidden--visually {\n",
              "  border: 0;\n",
              "  clip: rect(1px 1px 1px 1px);\n",
              "  clip: rect(1px, 1px, 1px, 1px);\n",
              "  height: 1px;\n",
              "  margin: -1px;\n",
              "  overflow: hidden;\n",
              "  padding: 0;\n",
              "  position: absolute;\n",
              "  width: 1px;\n",
              "}\n",
              "\n",
              "#sk-container-id-2 div.sk-dashed-wrapped {\n",
              "  border: 1px dashed var(--sklearn-color-line);\n",
              "  margin: 0 0.4em 0.5em 0.4em;\n",
              "  box-sizing: border-box;\n",
              "  padding-bottom: 0.4em;\n",
              "  background-color: var(--sklearn-color-background);\n",
              "}\n",
              "\n",
              "#sk-container-id-2 div.sk-container {\n",
              "  /* jupyter's `normalize.less` sets `[hidden] { display: none; }`\n",
              "     but bootstrap.min.css set `[hidden] { display: none !important; }`\n",
              "     so we also need the `!important` here to be able to override the\n",
              "     default hidden behavior on the sphinx rendered scikit-learn.org.\n",
              "     See: https://github.com/scikit-learn/scikit-learn/issues/21755 */\n",
              "  display: inline-block !important;\n",
              "  position: relative;\n",
              "}\n",
              "\n",
              "#sk-container-id-2 div.sk-text-repr-fallback {\n",
              "  display: none;\n",
              "}\n",
              "\n",
              "div.sk-parallel-item,\n",
              "div.sk-serial,\n",
              "div.sk-item {\n",
              "  /* draw centered vertical line to link estimators */\n",
              "  background-image: linear-gradient(var(--sklearn-color-text-on-default-background), var(--sklearn-color-text-on-default-background));\n",
              "  background-size: 2px 100%;\n",
              "  background-repeat: no-repeat;\n",
              "  background-position: center center;\n",
              "}\n",
              "\n",
              "/* Parallel-specific style estimator block */\n",
              "\n",
              "#sk-container-id-2 div.sk-parallel-item::after {\n",
              "  content: \"\";\n",
              "  width: 100%;\n",
              "  border-bottom: 2px solid var(--sklearn-color-text-on-default-background);\n",
              "  flex-grow: 1;\n",
              "}\n",
              "\n",
              "#sk-container-id-2 div.sk-parallel {\n",
              "  display: flex;\n",
              "  align-items: stretch;\n",
              "  justify-content: center;\n",
              "  background-color: var(--sklearn-color-background);\n",
              "  position: relative;\n",
              "}\n",
              "\n",
              "#sk-container-id-2 div.sk-parallel-item {\n",
              "  display: flex;\n",
              "  flex-direction: column;\n",
              "}\n",
              "\n",
              "#sk-container-id-2 div.sk-parallel-item:first-child::after {\n",
              "  align-self: flex-end;\n",
              "  width: 50%;\n",
              "}\n",
              "\n",
              "#sk-container-id-2 div.sk-parallel-item:last-child::after {\n",
              "  align-self: flex-start;\n",
              "  width: 50%;\n",
              "}\n",
              "\n",
              "#sk-container-id-2 div.sk-parallel-item:only-child::after {\n",
              "  width: 0;\n",
              "}\n",
              "\n",
              "/* Serial-specific style estimator block */\n",
              "\n",
              "#sk-container-id-2 div.sk-serial {\n",
              "  display: flex;\n",
              "  flex-direction: column;\n",
              "  align-items: center;\n",
              "  background-color: var(--sklearn-color-background);\n",
              "  padding-right: 1em;\n",
              "  padding-left: 1em;\n",
              "}\n",
              "\n",
              "\n",
              "/* Toggleable style: style used for estimator/Pipeline/ColumnTransformer box that is\n",
              "clickable and can be expanded/collapsed.\n",
              "- Pipeline and ColumnTransformer use this feature and define the default style\n",
              "- Estimators will overwrite some part of the style using the `sk-estimator` class\n",
              "*/\n",
              "\n",
              "/* Pipeline and ColumnTransformer style (default) */\n",
              "\n",
              "#sk-container-id-2 div.sk-toggleable {\n",
              "  /* Default theme specific background. It is overwritten whether we have a\n",
              "  specific estimator or a Pipeline/ColumnTransformer */\n",
              "  background-color: var(--sklearn-color-background);\n",
              "}\n",
              "\n",
              "/* Toggleable label */\n",
              "#sk-container-id-2 label.sk-toggleable__label {\n",
              "  cursor: pointer;\n",
              "  display: block;\n",
              "  width: 100%;\n",
              "  margin-bottom: 0;\n",
              "  padding: 0.5em;\n",
              "  box-sizing: border-box;\n",
              "  text-align: center;\n",
              "}\n",
              "\n",
              "#sk-container-id-2 label.sk-toggleable__label-arrow:before {\n",
              "  /* Arrow on the left of the label */\n",
              "  content: \"▸\";\n",
              "  float: left;\n",
              "  margin-right: 0.25em;\n",
              "  color: var(--sklearn-color-icon);\n",
              "}\n",
              "\n",
              "#sk-container-id-2 label.sk-toggleable__label-arrow:hover:before {\n",
              "  color: var(--sklearn-color-text);\n",
              "}\n",
              "\n",
              "/* Toggleable content - dropdown */\n",
              "\n",
              "#sk-container-id-2 div.sk-toggleable__content {\n",
              "  max-height: 0;\n",
              "  max-width: 0;\n",
              "  overflow: hidden;\n",
              "  text-align: left;\n",
              "  /* unfitted */\n",
              "  background-color: var(--sklearn-color-unfitted-level-0);\n",
              "}\n",
              "\n",
              "#sk-container-id-2 div.sk-toggleable__content.fitted {\n",
              "  /* fitted */\n",
              "  background-color: var(--sklearn-color-fitted-level-0);\n",
              "}\n",
              "\n",
              "#sk-container-id-2 div.sk-toggleable__content pre {\n",
              "  margin: 0.2em;\n",
              "  border-radius: 0.25em;\n",
              "  color: var(--sklearn-color-text);\n",
              "  /* unfitted */\n",
              "  background-color: var(--sklearn-color-unfitted-level-0);\n",
              "}\n",
              "\n",
              "#sk-container-id-2 div.sk-toggleable__content.fitted pre {\n",
              "  /* unfitted */\n",
              "  background-color: var(--sklearn-color-fitted-level-0);\n",
              "}\n",
              "\n",
              "#sk-container-id-2 input.sk-toggleable__control:checked~div.sk-toggleable__content {\n",
              "  /* Expand drop-down */\n",
              "  max-height: 200px;\n",
              "  max-width: 100%;\n",
              "  overflow: auto;\n",
              "}\n",
              "\n",
              "#sk-container-id-2 input.sk-toggleable__control:checked~label.sk-toggleable__label-arrow:before {\n",
              "  content: \"▾\";\n",
              "}\n",
              "\n",
              "/* Pipeline/ColumnTransformer-specific style */\n",
              "\n",
              "#sk-container-id-2 div.sk-label input.sk-toggleable__control:checked~label.sk-toggleable__label {\n",
              "  color: var(--sklearn-color-text);\n",
              "  background-color: var(--sklearn-color-unfitted-level-2);\n",
              "}\n",
              "\n",
              "#sk-container-id-2 div.sk-label.fitted input.sk-toggleable__control:checked~label.sk-toggleable__label {\n",
              "  background-color: var(--sklearn-color-fitted-level-2);\n",
              "}\n",
              "\n",
              "/* Estimator-specific style */\n",
              "\n",
              "/* Colorize estimator box */\n",
              "#sk-container-id-2 div.sk-estimator input.sk-toggleable__control:checked~label.sk-toggleable__label {\n",
              "  /* unfitted */\n",
              "  background-color: var(--sklearn-color-unfitted-level-2);\n",
              "}\n",
              "\n",
              "#sk-container-id-2 div.sk-estimator.fitted input.sk-toggleable__control:checked~label.sk-toggleable__label {\n",
              "  /* fitted */\n",
              "  background-color: var(--sklearn-color-fitted-level-2);\n",
              "}\n",
              "\n",
              "#sk-container-id-2 div.sk-label label.sk-toggleable__label,\n",
              "#sk-container-id-2 div.sk-label label {\n",
              "  /* The background is the default theme color */\n",
              "  color: var(--sklearn-color-text-on-default-background);\n",
              "}\n",
              "\n",
              "/* On hover, darken the color of the background */\n",
              "#sk-container-id-2 div.sk-label:hover label.sk-toggleable__label {\n",
              "  color: var(--sklearn-color-text);\n",
              "  background-color: var(--sklearn-color-unfitted-level-2);\n",
              "}\n",
              "\n",
              "/* Label box, darken color on hover, fitted */\n",
              "#sk-container-id-2 div.sk-label.fitted:hover label.sk-toggleable__label.fitted {\n",
              "  color: var(--sklearn-color-text);\n",
              "  background-color: var(--sklearn-color-fitted-level-2);\n",
              "}\n",
              "\n",
              "/* Estimator label */\n",
              "\n",
              "#sk-container-id-2 div.sk-label label {\n",
              "  font-family: monospace;\n",
              "  font-weight: bold;\n",
              "  display: inline-block;\n",
              "  line-height: 1.2em;\n",
              "}\n",
              "\n",
              "#sk-container-id-2 div.sk-label-container {\n",
              "  text-align: center;\n",
              "}\n",
              "\n",
              "/* Estimator-specific */\n",
              "#sk-container-id-2 div.sk-estimator {\n",
              "  font-family: monospace;\n",
              "  border: 1px dotted var(--sklearn-color-border-box);\n",
              "  border-radius: 0.25em;\n",
              "  box-sizing: border-box;\n",
              "  margin-bottom: 0.5em;\n",
              "  /* unfitted */\n",
              "  background-color: var(--sklearn-color-unfitted-level-0);\n",
              "}\n",
              "\n",
              "#sk-container-id-2 div.sk-estimator.fitted {\n",
              "  /* fitted */\n",
              "  background-color: var(--sklearn-color-fitted-level-0);\n",
              "}\n",
              "\n",
              "/* on hover */\n",
              "#sk-container-id-2 div.sk-estimator:hover {\n",
              "  /* unfitted */\n",
              "  background-color: var(--sklearn-color-unfitted-level-2);\n",
              "}\n",
              "\n",
              "#sk-container-id-2 div.sk-estimator.fitted:hover {\n",
              "  /* fitted */\n",
              "  background-color: var(--sklearn-color-fitted-level-2);\n",
              "}\n",
              "\n",
              "/* Specification for estimator info (e.g. \"i\" and \"?\") */\n",
              "\n",
              "/* Common style for \"i\" and \"?\" */\n",
              "\n",
              ".sk-estimator-doc-link,\n",
              "a:link.sk-estimator-doc-link,\n",
              "a:visited.sk-estimator-doc-link {\n",
              "  float: right;\n",
              "  font-size: smaller;\n",
              "  line-height: 1em;\n",
              "  font-family: monospace;\n",
              "  background-color: var(--sklearn-color-background);\n",
              "  border-radius: 1em;\n",
              "  height: 1em;\n",
              "  width: 1em;\n",
              "  text-decoration: none !important;\n",
              "  margin-left: 1ex;\n",
              "  /* unfitted */\n",
              "  border: var(--sklearn-color-unfitted-level-1) 1pt solid;\n",
              "  color: var(--sklearn-color-unfitted-level-1);\n",
              "}\n",
              "\n",
              ".sk-estimator-doc-link.fitted,\n",
              "a:link.sk-estimator-doc-link.fitted,\n",
              "a:visited.sk-estimator-doc-link.fitted {\n",
              "  /* fitted */\n",
              "  border: var(--sklearn-color-fitted-level-1) 1pt solid;\n",
              "  color: var(--sklearn-color-fitted-level-1);\n",
              "}\n",
              "\n",
              "/* On hover */\n",
              "div.sk-estimator:hover .sk-estimator-doc-link:hover,\n",
              ".sk-estimator-doc-link:hover,\n",
              "div.sk-label-container:hover .sk-estimator-doc-link:hover,\n",
              ".sk-estimator-doc-link:hover {\n",
              "  /* unfitted */\n",
              "  background-color: var(--sklearn-color-unfitted-level-3);\n",
              "  color: var(--sklearn-color-background);\n",
              "  text-decoration: none;\n",
              "}\n",
              "\n",
              "div.sk-estimator.fitted:hover .sk-estimator-doc-link.fitted:hover,\n",
              ".sk-estimator-doc-link.fitted:hover,\n",
              "div.sk-label-container:hover .sk-estimator-doc-link.fitted:hover,\n",
              ".sk-estimator-doc-link.fitted:hover {\n",
              "  /* fitted */\n",
              "  background-color: var(--sklearn-color-fitted-level-3);\n",
              "  color: var(--sklearn-color-background);\n",
              "  text-decoration: none;\n",
              "}\n",
              "\n",
              "/* Span, style for the box shown on hovering the info icon */\n",
              ".sk-estimator-doc-link span {\n",
              "  display: none;\n",
              "  z-index: 9999;\n",
              "  position: relative;\n",
              "  font-weight: normal;\n",
              "  right: .2ex;\n",
              "  padding: .5ex;\n",
              "  margin: .5ex;\n",
              "  width: min-content;\n",
              "  min-width: 20ex;\n",
              "  max-width: 50ex;\n",
              "  color: var(--sklearn-color-text);\n",
              "  box-shadow: 2pt 2pt 4pt #999;\n",
              "  /* unfitted */\n",
              "  background: var(--sklearn-color-unfitted-level-0);\n",
              "  border: .5pt solid var(--sklearn-color-unfitted-level-3);\n",
              "}\n",
              "\n",
              ".sk-estimator-doc-link.fitted span {\n",
              "  /* fitted */\n",
              "  background: var(--sklearn-color-fitted-level-0);\n",
              "  border: var(--sklearn-color-fitted-level-3);\n",
              "}\n",
              "\n",
              ".sk-estimator-doc-link:hover span {\n",
              "  display: block;\n",
              "}\n",
              "\n",
              "/* \"?\"-specific style due to the `<a>` HTML tag */\n",
              "\n",
              "#sk-container-id-2 a.estimator_doc_link {\n",
              "  float: right;\n",
              "  font-size: 1rem;\n",
              "  line-height: 1em;\n",
              "  font-family: monospace;\n",
              "  background-color: var(--sklearn-color-background);\n",
              "  border-radius: 1rem;\n",
              "  height: 1rem;\n",
              "  width: 1rem;\n",
              "  text-decoration: none;\n",
              "  /* unfitted */\n",
              "  color: var(--sklearn-color-unfitted-level-1);\n",
              "  border: var(--sklearn-color-unfitted-level-1) 1pt solid;\n",
              "}\n",
              "\n",
              "#sk-container-id-2 a.estimator_doc_link.fitted {\n",
              "  /* fitted */\n",
              "  border: var(--sklearn-color-fitted-level-1) 1pt solid;\n",
              "  color: var(--sklearn-color-fitted-level-1);\n",
              "}\n",
              "\n",
              "/* On hover */\n",
              "#sk-container-id-2 a.estimator_doc_link:hover {\n",
              "  /* unfitted */\n",
              "  background-color: var(--sklearn-color-unfitted-level-3);\n",
              "  color: var(--sklearn-color-background);\n",
              "  text-decoration: none;\n",
              "}\n",
              "\n",
              "#sk-container-id-2 a.estimator_doc_link.fitted:hover {\n",
              "  /* fitted */\n",
              "  background-color: var(--sklearn-color-fitted-level-3);\n",
              "}\n",
              "</style><div id=\"sk-container-id-2\" class=\"sk-top-container\"><div class=\"sk-text-repr-fallback\"><pre>MLPRegressor(random_state=123)</pre><b>In a Jupyter environment, please rerun this cell to show the HTML representation or trust the notebook. <br />On GitHub, the HTML representation is unable to render, please try loading this page with nbviewer.org.</b></div><div class=\"sk-container\" hidden><div class=\"sk-item\"><div class=\"sk-estimator fitted sk-toggleable\"><input class=\"sk-toggleable__control sk-hidden--visually\" id=\"sk-estimator-id-2\" type=\"checkbox\" checked><label for=\"sk-estimator-id-2\" class=\"sk-toggleable__label fitted sk-toggleable__label-arrow fitted\">&nbsp;&nbsp;MLPRegressor<a class=\"sk-estimator-doc-link fitted\" rel=\"noreferrer\" target=\"_blank\" href=\"https://scikit-learn.org/1.4/modules/generated/sklearn.neural_network.MLPRegressor.html\">?<span>Documentation for MLPRegressor</span></a><span class=\"sk-estimator-doc-link fitted\">i<span>Fitted</span></span></label><div class=\"sk-toggleable__content fitted\"><pre>MLPRegressor(random_state=123)</pre></div> </div></div></div></div>"
            ]
          },
          "metadata": {},
          "execution_count": 20
        }
      ],
      "source": [
        "from sklearn.neural_network import MLPRegressor\n",
        "\n",
        "mlp_regressor = MLPRegressor(random_state = 123)\n",
        "mlp_regressor.fit(X_train, Y_train)"
      ]
    },
    {
      "cell_type": "code",
      "execution_count": null,
      "id": "5a3ed01e",
      "metadata": {
        "colab": {
          "base_uri": "https://localhost:8080/"
        },
        "id": "5a3ed01e",
        "outputId": "1a527174-8fd9-4d04-a4ba-ff26f4287e53"
      },
      "outputs": [
        {
          "output_type": "stream",
          "name": "stdout",
          "text": [
            "[ 7.32543601 24.33417853 32.46700507 15.19086054 25.6749167  25.07797685\n",
            " 27.20985668  2.62269853 15.25691994 28.02637784]\n",
            "[15.  26.6 45.4 20.8 34.9 21.9 28.7  7.2 20.  32.2]\n",
            "Test R^2 Score: 0.462\n",
            "Training R^2 Score: 0.510\n"
          ]
        }
      ],
      "source": [
        "Y_preds = mlp_regressor.predict(X_test)\n",
        "\n",
        "print(Y_preds[:10])\n",
        "print(Y_test[:10])\n",
        "\n",
        "# Метод Score оценивает точность моделей классификации.\n",
        "print('Test R^2 Score: %.3f'%mlp_regressor.score(X_test, Y_test))\n",
        "print('Training R^2 Score: %.3f'%mlp_regressor.score(X_train, Y_train))"
      ]
    },
    {
      "cell_type": "markdown",
      "source": [
        "MLPRegressor имеет все атрибуты такие же, как и у MLPClassifier:"
      ],
      "metadata": {
        "id": "-tMhaXGsEWWS"
      },
      "id": "-tMhaXGsEWWS"
    },
    {
      "cell_type": "code",
      "execution_count": null,
      "id": "03176bc0",
      "metadata": {
        "colab": {
          "base_uri": "https://localhost:8080/"
        },
        "id": "03176bc0",
        "outputId": "3156e8ad-e464-4adb-c79a-38ad81afed91"
      },
      "outputs": [
        {
          "output_type": "stream",
          "name": "stdout",
          "text": [
            "Loss:  28.538174061119584\n"
          ]
        }
      ],
      "source": [
        "print('Loss: ', mlp_regressor.loss_)"
      ]
    },
    {
      "cell_type": "code",
      "execution_count": null,
      "id": "80fc5090",
      "metadata": {
        "colab": {
          "base_uri": "https://localhost:8080/"
        },
        "id": "80fc5090",
        "outputId": "b80e451f-7542-45bb-de22-9c37a1da9124"
      },
      "outputs": [
        {
          "output_type": "stream",
          "name": "stdout",
          "text": [
            "Number of coefs:  2\n"
          ]
        },
        {
          "output_type": "execute_result",
          "data": {
            "text/plain": [
              "[(13, 100), (100, 1)]"
            ]
          },
          "metadata": {},
          "execution_count": 23
        }
      ],
      "source": [
        "print('Number of coefs: ', len(mlp_regressor.coefs_))\n",
        "[weights.shape for weights in mlp_regressor.coefs_]"
      ]
    },
    {
      "cell_type": "code",
      "execution_count": null,
      "id": "60ed5a2f",
      "metadata": {
        "colab": {
          "base_uri": "https://localhost:8080/"
        },
        "id": "60ed5a2f",
        "outputId": "67b530b7-855c-4816-9d02-ba93c7359e3a"
      },
      "outputs": [
        {
          "output_type": "stream",
          "name": "stdout",
          "text": [
            "Number of Iteretions for Which Estimator Ran:  130\n"
          ]
        }
      ],
      "source": [
        "print('Number of Iteretions for Which Estimator Ran: ', mlp_regressor.n_iter_)"
      ]
    },
    {
      "cell_type": "code",
      "execution_count": null,
      "id": "e3630ada",
      "metadata": {
        "colab": {
          "base_uri": "https://localhost:8080/"
        },
        "id": "e3630ada",
        "outputId": "10384335-a76f-4781-a514-189bff262911"
      },
      "outputs": [
        {
          "output_type": "stream",
          "name": "stdout",
          "text": [
            "Name of Output Layer Activation Function:  identity\n"
          ]
        }
      ],
      "source": [
        "print('Name of Output Layer Activation Function: ', mlp_regressor.out_activation_)"
      ]
    },
    {
      "cell_type": "markdown",
      "id": "b10bc135",
      "metadata": {
        "id": "b10bc135"
      },
      "source": [
        "#**Задание 3**\n",
        "\n",
        "Используйте классы MLPClassified и MLPRegressor для классификации и регрессии произвольных данных из интернета. Проведите анализ атрибуты, полученных моделей.\n",
        "\n",
        "Для классификации можете взять набор данных Ирисов:\n",
        "https://gist.githubusercontent.com/netj/8836201/raw/6f9306ad21398ea43cba4f7d537619d0e07d5ae3/iris.csv\n",
        "\n",
        "а для регрессии датасет зависимости заработной платы от опыта работы:\n",
        "https://raw.githubusercontent.com/AnnaShestova/salary-years-simple-linearregression/master/Salary_Data.csv"
      ]
    },
    {
      "cell_type": "markdown",
      "source": [
        "##**Решение**"
      ],
      "metadata": {
        "id": "ql2_5FwpE7e8"
      },
      "id": "ql2_5FwpE7e8"
    },
    {
      "cell_type": "code",
      "execution_count": null,
      "id": "e3156d09",
      "metadata": {
        "id": "e3156d09"
      },
      "outputs": [],
      "source": [
        "import pandas as pd\n",
        "from sklearn.model_selection import train_test_split\n",
        "from sklearn.neural_network import MLPClassifier\n",
        "from sklearn.metrics import accuracy_score\n",
        "from sklearn.neural_network import MLPRegressor\n",
        "from sklearn.metrics import r2_score"
      ]
    },
    {
      "cell_type": "code",
      "execution_count": null,
      "id": "306174c9",
      "metadata": {
        "id": "306174c9"
      },
      "outputs": [],
      "source": [
        "iris_url = 'https://gist.githubusercontent.com/netj/8836201/raw/6f9306ad21398ea43cba4f7d537619d0e07d5ae3/iris.csv'"
      ]
    },
    {
      "cell_type": "code",
      "execution_count": null,
      "id": "0fb3b51e",
      "metadata": {
        "id": "0fb3b51e"
      },
      "outputs": [],
      "source": [
        "iris_data = pd.read_csv(iris_url)"
      ]
    },
    {
      "cell_type": "code",
      "execution_count": null,
      "id": "c1803aa7",
      "metadata": {
        "colab": {
          "base_uri": "https://localhost:8080/",
          "height": 424
        },
        "id": "c1803aa7",
        "outputId": "db3d6aaf-d40f-4a88-9b65-0940f34164a1"
      },
      "outputs": [
        {
          "output_type": "execute_result",
          "data": {
            "text/plain": [
              "     sepal.length  sepal.width  petal.length  petal.width    variety\n",
              "0             5.1          3.5           1.4          0.2     Setosa\n",
              "1             4.9          3.0           1.4          0.2     Setosa\n",
              "2             4.7          3.2           1.3          0.2     Setosa\n",
              "3             4.6          3.1           1.5          0.2     Setosa\n",
              "4             5.0          3.6           1.4          0.2     Setosa\n",
              "..            ...          ...           ...          ...        ...\n",
              "145           6.7          3.0           5.2          2.3  Virginica\n",
              "146           6.3          2.5           5.0          1.9  Virginica\n",
              "147           6.5          3.0           5.2          2.0  Virginica\n",
              "148           6.2          3.4           5.4          2.3  Virginica\n",
              "149           5.9          3.0           5.1          1.8  Virginica\n",
              "\n",
              "[150 rows x 5 columns]"
            ],
            "text/html": [
              "\n",
              "  <div id=\"df-92d62b47-0713-40af-ba19-74a750c28109\" class=\"colab-df-container\">\n",
              "    <div>\n",
              "<style scoped>\n",
              "    .dataframe tbody tr th:only-of-type {\n",
              "        vertical-align: middle;\n",
              "    }\n",
              "\n",
              "    .dataframe tbody tr th {\n",
              "        vertical-align: top;\n",
              "    }\n",
              "\n",
              "    .dataframe thead th {\n",
              "        text-align: right;\n",
              "    }\n",
              "</style>\n",
              "<table border=\"1\" class=\"dataframe\">\n",
              "  <thead>\n",
              "    <tr style=\"text-align: right;\">\n",
              "      <th></th>\n",
              "      <th>sepal.length</th>\n",
              "      <th>sepal.width</th>\n",
              "      <th>petal.length</th>\n",
              "      <th>petal.width</th>\n",
              "      <th>variety</th>\n",
              "    </tr>\n",
              "  </thead>\n",
              "  <tbody>\n",
              "    <tr>\n",
              "      <th>0</th>\n",
              "      <td>5.1</td>\n",
              "      <td>3.5</td>\n",
              "      <td>1.4</td>\n",
              "      <td>0.2</td>\n",
              "      <td>Setosa</td>\n",
              "    </tr>\n",
              "    <tr>\n",
              "      <th>1</th>\n",
              "      <td>4.9</td>\n",
              "      <td>3.0</td>\n",
              "      <td>1.4</td>\n",
              "      <td>0.2</td>\n",
              "      <td>Setosa</td>\n",
              "    </tr>\n",
              "    <tr>\n",
              "      <th>2</th>\n",
              "      <td>4.7</td>\n",
              "      <td>3.2</td>\n",
              "      <td>1.3</td>\n",
              "      <td>0.2</td>\n",
              "      <td>Setosa</td>\n",
              "    </tr>\n",
              "    <tr>\n",
              "      <th>3</th>\n",
              "      <td>4.6</td>\n",
              "      <td>3.1</td>\n",
              "      <td>1.5</td>\n",
              "      <td>0.2</td>\n",
              "      <td>Setosa</td>\n",
              "    </tr>\n",
              "    <tr>\n",
              "      <th>4</th>\n",
              "      <td>5.0</td>\n",
              "      <td>3.6</td>\n",
              "      <td>1.4</td>\n",
              "      <td>0.2</td>\n",
              "      <td>Setosa</td>\n",
              "    </tr>\n",
              "    <tr>\n",
              "      <th>...</th>\n",
              "      <td>...</td>\n",
              "      <td>...</td>\n",
              "      <td>...</td>\n",
              "      <td>...</td>\n",
              "      <td>...</td>\n",
              "    </tr>\n",
              "    <tr>\n",
              "      <th>145</th>\n",
              "      <td>6.7</td>\n",
              "      <td>3.0</td>\n",
              "      <td>5.2</td>\n",
              "      <td>2.3</td>\n",
              "      <td>Virginica</td>\n",
              "    </tr>\n",
              "    <tr>\n",
              "      <th>146</th>\n",
              "      <td>6.3</td>\n",
              "      <td>2.5</td>\n",
              "      <td>5.0</td>\n",
              "      <td>1.9</td>\n",
              "      <td>Virginica</td>\n",
              "    </tr>\n",
              "    <tr>\n",
              "      <th>147</th>\n",
              "      <td>6.5</td>\n",
              "      <td>3.0</td>\n",
              "      <td>5.2</td>\n",
              "      <td>2.0</td>\n",
              "      <td>Virginica</td>\n",
              "    </tr>\n",
              "    <tr>\n",
              "      <th>148</th>\n",
              "      <td>6.2</td>\n",
              "      <td>3.4</td>\n",
              "      <td>5.4</td>\n",
              "      <td>2.3</td>\n",
              "      <td>Virginica</td>\n",
              "    </tr>\n",
              "    <tr>\n",
              "      <th>149</th>\n",
              "      <td>5.9</td>\n",
              "      <td>3.0</td>\n",
              "      <td>5.1</td>\n",
              "      <td>1.8</td>\n",
              "      <td>Virginica</td>\n",
              "    </tr>\n",
              "  </tbody>\n",
              "</table>\n",
              "<p>150 rows × 5 columns</p>\n",
              "</div>\n",
              "    <div class=\"colab-df-buttons\">\n",
              "\n",
              "  <div class=\"colab-df-container\">\n",
              "    <button class=\"colab-df-convert\" onclick=\"convertToInteractive('df-92d62b47-0713-40af-ba19-74a750c28109')\"\n",
              "            title=\"Convert this dataframe to an interactive table.\"\n",
              "            style=\"display:none;\">\n",
              "\n",
              "  <svg xmlns=\"http://www.w3.org/2000/svg\" height=\"24px\" viewBox=\"0 -960 960 960\">\n",
              "    <path d=\"M120-120v-720h720v720H120Zm60-500h600v-160H180v160Zm220 220h160v-160H400v160Zm0 220h160v-160H400v160ZM180-400h160v-160H180v160Zm440 0h160v-160H620v160ZM180-180h160v-160H180v160Zm440 0h160v-160H620v160Z\"/>\n",
              "  </svg>\n",
              "    </button>\n",
              "\n",
              "  <style>\n",
              "    .colab-df-container {\n",
              "      display:flex;\n",
              "      gap: 12px;\n",
              "    }\n",
              "\n",
              "    .colab-df-convert {\n",
              "      background-color: #E8F0FE;\n",
              "      border: none;\n",
              "      border-radius: 50%;\n",
              "      cursor: pointer;\n",
              "      display: none;\n",
              "      fill: #1967D2;\n",
              "      height: 32px;\n",
              "      padding: 0 0 0 0;\n",
              "      width: 32px;\n",
              "    }\n",
              "\n",
              "    .colab-df-convert:hover {\n",
              "      background-color: #E2EBFA;\n",
              "      box-shadow: 0px 1px 2px rgba(60, 64, 67, 0.3), 0px 1px 3px 1px rgba(60, 64, 67, 0.15);\n",
              "      fill: #174EA6;\n",
              "    }\n",
              "\n",
              "    .colab-df-buttons div {\n",
              "      margin-bottom: 4px;\n",
              "    }\n",
              "\n",
              "    [theme=dark] .colab-df-convert {\n",
              "      background-color: #3B4455;\n",
              "      fill: #D2E3FC;\n",
              "    }\n",
              "\n",
              "    [theme=dark] .colab-df-convert:hover {\n",
              "      background-color: #434B5C;\n",
              "      box-shadow: 0px 1px 3px 1px rgba(0, 0, 0, 0.15);\n",
              "      filter: drop-shadow(0px 1px 2px rgba(0, 0, 0, 0.3));\n",
              "      fill: #FFFFFF;\n",
              "    }\n",
              "  </style>\n",
              "\n",
              "    <script>\n",
              "      const buttonEl =\n",
              "        document.querySelector('#df-92d62b47-0713-40af-ba19-74a750c28109 button.colab-df-convert');\n",
              "      buttonEl.style.display =\n",
              "        google.colab.kernel.accessAllowed ? 'block' : 'none';\n",
              "\n",
              "      async function convertToInteractive(key) {\n",
              "        const element = document.querySelector('#df-92d62b47-0713-40af-ba19-74a750c28109');\n",
              "        const dataTable =\n",
              "          await google.colab.kernel.invokeFunction('convertToInteractive',\n",
              "                                                    [key], {});\n",
              "        if (!dataTable) return;\n",
              "\n",
              "        const docLinkHtml = 'Like what you see? Visit the ' +\n",
              "          '<a target=\"_blank\" href=https://colab.research.google.com/notebooks/data_table.ipynb>data table notebook</a>'\n",
              "          + ' to learn more about interactive tables.';\n",
              "        element.innerHTML = '';\n",
              "        dataTable['output_type'] = 'display_data';\n",
              "        await google.colab.output.renderOutput(dataTable, element);\n",
              "        const docLink = document.createElement('div');\n",
              "        docLink.innerHTML = docLinkHtml;\n",
              "        element.appendChild(docLink);\n",
              "      }\n",
              "    </script>\n",
              "  </div>\n",
              "\n",
              "\n",
              "<div id=\"df-6b917eae-aeb7-4bff-8f1e-fe6222d921dd\">\n",
              "  <button class=\"colab-df-quickchart\" onclick=\"quickchart('df-6b917eae-aeb7-4bff-8f1e-fe6222d921dd')\"\n",
              "            title=\"Suggest charts\"\n",
              "            style=\"display:none;\">\n",
              "\n",
              "<svg xmlns=\"http://www.w3.org/2000/svg\" height=\"24px\"viewBox=\"0 0 24 24\"\n",
              "     width=\"24px\">\n",
              "    <g>\n",
              "        <path d=\"M19 3H5c-1.1 0-2 .9-2 2v14c0 1.1.9 2 2 2h14c1.1 0 2-.9 2-2V5c0-1.1-.9-2-2-2zM9 17H7v-7h2v7zm4 0h-2V7h2v10zm4 0h-2v-4h2v4z\"/>\n",
              "    </g>\n",
              "</svg>\n",
              "  </button>\n",
              "\n",
              "<style>\n",
              "  .colab-df-quickchart {\n",
              "      --bg-color: #E8F0FE;\n",
              "      --fill-color: #1967D2;\n",
              "      --hover-bg-color: #E2EBFA;\n",
              "      --hover-fill-color: #174EA6;\n",
              "      --disabled-fill-color: #AAA;\n",
              "      --disabled-bg-color: #DDD;\n",
              "  }\n",
              "\n",
              "  [theme=dark] .colab-df-quickchart {\n",
              "      --bg-color: #3B4455;\n",
              "      --fill-color: #D2E3FC;\n",
              "      --hover-bg-color: #434B5C;\n",
              "      --hover-fill-color: #FFFFFF;\n",
              "      --disabled-bg-color: #3B4455;\n",
              "      --disabled-fill-color: #666;\n",
              "  }\n",
              "\n",
              "  .colab-df-quickchart {\n",
              "    background-color: var(--bg-color);\n",
              "    border: none;\n",
              "    border-radius: 50%;\n",
              "    cursor: pointer;\n",
              "    display: none;\n",
              "    fill: var(--fill-color);\n",
              "    height: 32px;\n",
              "    padding: 0;\n",
              "    width: 32px;\n",
              "  }\n",
              "\n",
              "  .colab-df-quickchart:hover {\n",
              "    background-color: var(--hover-bg-color);\n",
              "    box-shadow: 0 1px 2px rgba(60, 64, 67, 0.3), 0 1px 3px 1px rgba(60, 64, 67, 0.15);\n",
              "    fill: var(--button-hover-fill-color);\n",
              "  }\n",
              "\n",
              "  .colab-df-quickchart-complete:disabled,\n",
              "  .colab-df-quickchart-complete:disabled:hover {\n",
              "    background-color: var(--disabled-bg-color);\n",
              "    fill: var(--disabled-fill-color);\n",
              "    box-shadow: none;\n",
              "  }\n",
              "\n",
              "  .colab-df-spinner {\n",
              "    border: 2px solid var(--fill-color);\n",
              "    border-color: transparent;\n",
              "    border-bottom-color: var(--fill-color);\n",
              "    animation:\n",
              "      spin 1s steps(1) infinite;\n",
              "  }\n",
              "\n",
              "  @keyframes spin {\n",
              "    0% {\n",
              "      border-color: transparent;\n",
              "      border-bottom-color: var(--fill-color);\n",
              "      border-left-color: var(--fill-color);\n",
              "    }\n",
              "    20% {\n",
              "      border-color: transparent;\n",
              "      border-left-color: var(--fill-color);\n",
              "      border-top-color: var(--fill-color);\n",
              "    }\n",
              "    30% {\n",
              "      border-color: transparent;\n",
              "      border-left-color: var(--fill-color);\n",
              "      border-top-color: var(--fill-color);\n",
              "      border-right-color: var(--fill-color);\n",
              "    }\n",
              "    40% {\n",
              "      border-color: transparent;\n",
              "      border-right-color: var(--fill-color);\n",
              "      border-top-color: var(--fill-color);\n",
              "    }\n",
              "    60% {\n",
              "      border-color: transparent;\n",
              "      border-right-color: var(--fill-color);\n",
              "    }\n",
              "    80% {\n",
              "      border-color: transparent;\n",
              "      border-right-color: var(--fill-color);\n",
              "      border-bottom-color: var(--fill-color);\n",
              "    }\n",
              "    90% {\n",
              "      border-color: transparent;\n",
              "      border-bottom-color: var(--fill-color);\n",
              "    }\n",
              "  }\n",
              "</style>\n",
              "\n",
              "  <script>\n",
              "    async function quickchart(key) {\n",
              "      const quickchartButtonEl =\n",
              "        document.querySelector('#' + key + ' button');\n",
              "      quickchartButtonEl.disabled = true;  // To prevent multiple clicks.\n",
              "      quickchartButtonEl.classList.add('colab-df-spinner');\n",
              "      try {\n",
              "        const charts = await google.colab.kernel.invokeFunction(\n",
              "            'suggestCharts', [key], {});\n",
              "      } catch (error) {\n",
              "        console.error('Error during call to suggestCharts:', error);\n",
              "      }\n",
              "      quickchartButtonEl.classList.remove('colab-df-spinner');\n",
              "      quickchartButtonEl.classList.add('colab-df-quickchart-complete');\n",
              "    }\n",
              "    (() => {\n",
              "      let quickchartButtonEl =\n",
              "        document.querySelector('#df-6b917eae-aeb7-4bff-8f1e-fe6222d921dd button');\n",
              "      quickchartButtonEl.style.display =\n",
              "        google.colab.kernel.accessAllowed ? 'block' : 'none';\n",
              "    })();\n",
              "  </script>\n",
              "</div>\n",
              "    </div>\n",
              "  </div>\n"
            ],
            "application/vnd.google.colaboratory.intrinsic+json": {
              "type": "dataframe",
              "variable_name": "iris_data",
              "summary": "{\n  \"name\": \"iris_data\",\n  \"rows\": 150,\n  \"fields\": [\n    {\n      \"column\": \"sepal.length\",\n      \"properties\": {\n        \"dtype\": \"number\",\n        \"std\": 0.8280661279778629,\n        \"min\": 4.3,\n        \"max\": 7.9,\n        \"num_unique_values\": 35,\n        \"samples\": [\n          6.2,\n          4.5,\n          5.6\n        ],\n        \"semantic_type\": \"\",\n        \"description\": \"\"\n      }\n    },\n    {\n      \"column\": \"sepal.width\",\n      \"properties\": {\n        \"dtype\": \"number\",\n        \"std\": 0.435866284936698,\n        \"min\": 2.0,\n        \"max\": 4.4,\n        \"num_unique_values\": 23,\n        \"samples\": [\n          2.3,\n          4.0,\n          3.5\n        ],\n        \"semantic_type\": \"\",\n        \"description\": \"\"\n      }\n    },\n    {\n      \"column\": \"petal.length\",\n      \"properties\": {\n        \"dtype\": \"number\",\n        \"std\": 1.7652982332594667,\n        \"min\": 1.0,\n        \"max\": 6.9,\n        \"num_unique_values\": 43,\n        \"samples\": [\n          6.7,\n          3.8,\n          3.7\n        ],\n        \"semantic_type\": \"\",\n        \"description\": \"\"\n      }\n    },\n    {\n      \"column\": \"petal.width\",\n      \"properties\": {\n        \"dtype\": \"number\",\n        \"std\": 0.7622376689603465,\n        \"min\": 0.1,\n        \"max\": 2.5,\n        \"num_unique_values\": 22,\n        \"samples\": [\n          0.2,\n          1.2,\n          1.3\n        ],\n        \"semantic_type\": \"\",\n        \"description\": \"\"\n      }\n    },\n    {\n      \"column\": \"variety\",\n      \"properties\": {\n        \"dtype\": \"category\",\n        \"num_unique_values\": 3,\n        \"samples\": [\n          \"Setosa\",\n          \"Versicolor\",\n          \"Virginica\"\n        ],\n        \"semantic_type\": \"\",\n        \"description\": \"\"\n      }\n    }\n  ]\n}"
            }
          },
          "metadata": {},
          "execution_count": 29
        }
      ],
      "source": [
        "iris_data"
      ]
    },
    {
      "cell_type": "code",
      "execution_count": null,
      "id": "da8d61f8",
      "metadata": {
        "colab": {
          "base_uri": "https://localhost:8080/"
        },
        "id": "da8d61f8",
        "outputId": "8e93839e-dd19-48e6-be0d-122e34572bc2"
      },
      "outputs": [
        {
          "output_type": "stream",
          "name": "stdout",
          "text": [
            "Train|Test sizes:  (120, 4) (30, 4) (404,) (102,)\n",
            "Test Accuracy: 0.933\n"
          ]
        },
        {
          "output_type": "stream",
          "name": "stderr",
          "text": [
            "/usr/local/lib/python3.10/dist-packages/sklearn/neural_network/_multilayer_perceptron.py:691: ConvergenceWarning: Stochastic Optimizer: Maximum iterations (200) reached and the optimization hasn't converged yet.\n",
            "  warnings.warn(\n"
          ]
        }
      ],
      "source": [
        "# Разделение на матрицу признаков и целевую переменную\n",
        "X_iris_data = iris_data.drop('variety', axis=1)\n",
        "Y_iris_data  = iris_data['variety']\n",
        "\n",
        "# Разделение на обучающую и тестовую выборки\n",
        "X_train, X_test, y_train, y_test = train_test_split(X_iris_data, Y_iris_data,\n",
        "                                                    train_size=0.8, test_size=0.2,\n",
        "                                                    stratify=Y_iris_data, random_state=123)\n",
        "\n",
        "print('Train/Test sizes: ', X_train.shape, X_test.shape, Y_train.shape, Y_test.shape)\n",
        "\n",
        "# Инициализация и обучение модели\n",
        "mlp_classifier = MLPClassifier(random_state=123)\n",
        "mlp_classifier.fit(X_train, y_train)\n",
        "\n",
        "# Предсказание целевой переменной на тестовой выборке\n",
        "y_pred = mlp_classifier.predict(X_test)\n",
        "\n",
        "# Оценка точности модели\n",
        "accuracy = accuracy_score(y_test, y_pred)\n",
        "print('Test Accuracy: %.3f' % accuracy)"
      ]
    },
    {
      "cell_type": "code",
      "execution_count": null,
      "id": "6d4dd2c6",
      "metadata": {
        "id": "6d4dd2c6"
      },
      "outputs": [],
      "source": [
        "salary_url  = 'https://raw.githubusercontent.com/AnnaShestova/salary-years-simple-linear-regression/master/Salary_Data.csv'"
      ]
    },
    {
      "cell_type": "code",
      "execution_count": null,
      "id": "a5de35d3",
      "metadata": {
        "id": "a5de35d3"
      },
      "outputs": [],
      "source": [
        "salary_data = pd.read_csv(salary_url)"
      ]
    },
    {
      "cell_type": "code",
      "execution_count": null,
      "id": "137213ca",
      "metadata": {
        "colab": {
          "base_uri": "https://localhost:8080/",
          "height": 990
        },
        "id": "137213ca",
        "outputId": "0201ee8a-cf43-4686-e251-a9d5c82e9d03"
      },
      "outputs": [
        {
          "output_type": "execute_result",
          "data": {
            "text/plain": [
              "    YearsExperience    Salary\n",
              "0               1.1   39343.0\n",
              "1               1.3   46205.0\n",
              "2               1.5   37731.0\n",
              "3               2.0   43525.0\n",
              "4               2.2   39891.0\n",
              "5               2.9   56642.0\n",
              "6               3.0   60150.0\n",
              "7               3.2   54445.0\n",
              "8               3.2   64445.0\n",
              "9               3.7   57189.0\n",
              "10              3.9   63218.0\n",
              "11              4.0   55794.0\n",
              "12              4.0   56957.0\n",
              "13              4.1   57081.0\n",
              "14              4.5   61111.0\n",
              "15              4.9   67938.0\n",
              "16              5.1   66029.0\n",
              "17              5.3   83088.0\n",
              "18              5.9   81363.0\n",
              "19              6.0   93940.0\n",
              "20              6.8   91738.0\n",
              "21              7.1   98273.0\n",
              "22              7.9  101302.0\n",
              "23              8.2  113812.0\n",
              "24              8.7  109431.0\n",
              "25              9.0  105582.0\n",
              "26              9.5  116969.0\n",
              "27              9.6  112635.0\n",
              "28             10.3  122391.0\n",
              "29             10.5  121872.0"
            ],
            "text/html": [
              "\n",
              "  <div id=\"df-f38b00a6-29a7-4b18-8ea8-d42ca7360a94\" class=\"colab-df-container\">\n",
              "    <div>\n",
              "<style scoped>\n",
              "    .dataframe tbody tr th:only-of-type {\n",
              "        vertical-align: middle;\n",
              "    }\n",
              "\n",
              "    .dataframe tbody tr th {\n",
              "        vertical-align: top;\n",
              "    }\n",
              "\n",
              "    .dataframe thead th {\n",
              "        text-align: right;\n",
              "    }\n",
              "</style>\n",
              "<table border=\"1\" class=\"dataframe\">\n",
              "  <thead>\n",
              "    <tr style=\"text-align: right;\">\n",
              "      <th></th>\n",
              "      <th>YearsExperience</th>\n",
              "      <th>Salary</th>\n",
              "    </tr>\n",
              "  </thead>\n",
              "  <tbody>\n",
              "    <tr>\n",
              "      <th>0</th>\n",
              "      <td>1.1</td>\n",
              "      <td>39343.0</td>\n",
              "    </tr>\n",
              "    <tr>\n",
              "      <th>1</th>\n",
              "      <td>1.3</td>\n",
              "      <td>46205.0</td>\n",
              "    </tr>\n",
              "    <tr>\n",
              "      <th>2</th>\n",
              "      <td>1.5</td>\n",
              "      <td>37731.0</td>\n",
              "    </tr>\n",
              "    <tr>\n",
              "      <th>3</th>\n",
              "      <td>2.0</td>\n",
              "      <td>43525.0</td>\n",
              "    </tr>\n",
              "    <tr>\n",
              "      <th>4</th>\n",
              "      <td>2.2</td>\n",
              "      <td>39891.0</td>\n",
              "    </tr>\n",
              "    <tr>\n",
              "      <th>5</th>\n",
              "      <td>2.9</td>\n",
              "      <td>56642.0</td>\n",
              "    </tr>\n",
              "    <tr>\n",
              "      <th>6</th>\n",
              "      <td>3.0</td>\n",
              "      <td>60150.0</td>\n",
              "    </tr>\n",
              "    <tr>\n",
              "      <th>7</th>\n",
              "      <td>3.2</td>\n",
              "      <td>54445.0</td>\n",
              "    </tr>\n",
              "    <tr>\n",
              "      <th>8</th>\n",
              "      <td>3.2</td>\n",
              "      <td>64445.0</td>\n",
              "    </tr>\n",
              "    <tr>\n",
              "      <th>9</th>\n",
              "      <td>3.7</td>\n",
              "      <td>57189.0</td>\n",
              "    </tr>\n",
              "    <tr>\n",
              "      <th>10</th>\n",
              "      <td>3.9</td>\n",
              "      <td>63218.0</td>\n",
              "    </tr>\n",
              "    <tr>\n",
              "      <th>11</th>\n",
              "      <td>4.0</td>\n",
              "      <td>55794.0</td>\n",
              "    </tr>\n",
              "    <tr>\n",
              "      <th>12</th>\n",
              "      <td>4.0</td>\n",
              "      <td>56957.0</td>\n",
              "    </tr>\n",
              "    <tr>\n",
              "      <th>13</th>\n",
              "      <td>4.1</td>\n",
              "      <td>57081.0</td>\n",
              "    </tr>\n",
              "    <tr>\n",
              "      <th>14</th>\n",
              "      <td>4.5</td>\n",
              "      <td>61111.0</td>\n",
              "    </tr>\n",
              "    <tr>\n",
              "      <th>15</th>\n",
              "      <td>4.9</td>\n",
              "      <td>67938.0</td>\n",
              "    </tr>\n",
              "    <tr>\n",
              "      <th>16</th>\n",
              "      <td>5.1</td>\n",
              "      <td>66029.0</td>\n",
              "    </tr>\n",
              "    <tr>\n",
              "      <th>17</th>\n",
              "      <td>5.3</td>\n",
              "      <td>83088.0</td>\n",
              "    </tr>\n",
              "    <tr>\n",
              "      <th>18</th>\n",
              "      <td>5.9</td>\n",
              "      <td>81363.0</td>\n",
              "    </tr>\n",
              "    <tr>\n",
              "      <th>19</th>\n",
              "      <td>6.0</td>\n",
              "      <td>93940.0</td>\n",
              "    </tr>\n",
              "    <tr>\n",
              "      <th>20</th>\n",
              "      <td>6.8</td>\n",
              "      <td>91738.0</td>\n",
              "    </tr>\n",
              "    <tr>\n",
              "      <th>21</th>\n",
              "      <td>7.1</td>\n",
              "      <td>98273.0</td>\n",
              "    </tr>\n",
              "    <tr>\n",
              "      <th>22</th>\n",
              "      <td>7.9</td>\n",
              "      <td>101302.0</td>\n",
              "    </tr>\n",
              "    <tr>\n",
              "      <th>23</th>\n",
              "      <td>8.2</td>\n",
              "      <td>113812.0</td>\n",
              "    </tr>\n",
              "    <tr>\n",
              "      <th>24</th>\n",
              "      <td>8.7</td>\n",
              "      <td>109431.0</td>\n",
              "    </tr>\n",
              "    <tr>\n",
              "      <th>25</th>\n",
              "      <td>9.0</td>\n",
              "      <td>105582.0</td>\n",
              "    </tr>\n",
              "    <tr>\n",
              "      <th>26</th>\n",
              "      <td>9.5</td>\n",
              "      <td>116969.0</td>\n",
              "    </tr>\n",
              "    <tr>\n",
              "      <th>27</th>\n",
              "      <td>9.6</td>\n",
              "      <td>112635.0</td>\n",
              "    </tr>\n",
              "    <tr>\n",
              "      <th>28</th>\n",
              "      <td>10.3</td>\n",
              "      <td>122391.0</td>\n",
              "    </tr>\n",
              "    <tr>\n",
              "      <th>29</th>\n",
              "      <td>10.5</td>\n",
              "      <td>121872.0</td>\n",
              "    </tr>\n",
              "  </tbody>\n",
              "</table>\n",
              "</div>\n",
              "    <div class=\"colab-df-buttons\">\n",
              "\n",
              "  <div class=\"colab-df-container\">\n",
              "    <button class=\"colab-df-convert\" onclick=\"convertToInteractive('df-f38b00a6-29a7-4b18-8ea8-d42ca7360a94')\"\n",
              "            title=\"Convert this dataframe to an interactive table.\"\n",
              "            style=\"display:none;\">\n",
              "\n",
              "  <svg xmlns=\"http://www.w3.org/2000/svg\" height=\"24px\" viewBox=\"0 -960 960 960\">\n",
              "    <path d=\"M120-120v-720h720v720H120Zm60-500h600v-160H180v160Zm220 220h160v-160H400v160Zm0 220h160v-160H400v160ZM180-400h160v-160H180v160Zm440 0h160v-160H620v160ZM180-180h160v-160H180v160Zm440 0h160v-160H620v160Z\"/>\n",
              "  </svg>\n",
              "    </button>\n",
              "\n",
              "  <style>\n",
              "    .colab-df-container {\n",
              "      display:flex;\n",
              "      gap: 12px;\n",
              "    }\n",
              "\n",
              "    .colab-df-convert {\n",
              "      background-color: #E8F0FE;\n",
              "      border: none;\n",
              "      border-radius: 50%;\n",
              "      cursor: pointer;\n",
              "      display: none;\n",
              "      fill: #1967D2;\n",
              "      height: 32px;\n",
              "      padding: 0 0 0 0;\n",
              "      width: 32px;\n",
              "    }\n",
              "\n",
              "    .colab-df-convert:hover {\n",
              "      background-color: #E2EBFA;\n",
              "      box-shadow: 0px 1px 2px rgba(60, 64, 67, 0.3), 0px 1px 3px 1px rgba(60, 64, 67, 0.15);\n",
              "      fill: #174EA6;\n",
              "    }\n",
              "\n",
              "    .colab-df-buttons div {\n",
              "      margin-bottom: 4px;\n",
              "    }\n",
              "\n",
              "    [theme=dark] .colab-df-convert {\n",
              "      background-color: #3B4455;\n",
              "      fill: #D2E3FC;\n",
              "    }\n",
              "\n",
              "    [theme=dark] .colab-df-convert:hover {\n",
              "      background-color: #434B5C;\n",
              "      box-shadow: 0px 1px 3px 1px rgba(0, 0, 0, 0.15);\n",
              "      filter: drop-shadow(0px 1px 2px rgba(0, 0, 0, 0.3));\n",
              "      fill: #FFFFFF;\n",
              "    }\n",
              "  </style>\n",
              "\n",
              "    <script>\n",
              "      const buttonEl =\n",
              "        document.querySelector('#df-f38b00a6-29a7-4b18-8ea8-d42ca7360a94 button.colab-df-convert');\n",
              "      buttonEl.style.display =\n",
              "        google.colab.kernel.accessAllowed ? 'block' : 'none';\n",
              "\n",
              "      async function convertToInteractive(key) {\n",
              "        const element = document.querySelector('#df-f38b00a6-29a7-4b18-8ea8-d42ca7360a94');\n",
              "        const dataTable =\n",
              "          await google.colab.kernel.invokeFunction('convertToInteractive',\n",
              "                                                    [key], {});\n",
              "        if (!dataTable) return;\n",
              "\n",
              "        const docLinkHtml = 'Like what you see? Visit the ' +\n",
              "          '<a target=\"_blank\" href=https://colab.research.google.com/notebooks/data_table.ipynb>data table notebook</a>'\n",
              "          + ' to learn more about interactive tables.';\n",
              "        element.innerHTML = '';\n",
              "        dataTable['output_type'] = 'display_data';\n",
              "        await google.colab.output.renderOutput(dataTable, element);\n",
              "        const docLink = document.createElement('div');\n",
              "        docLink.innerHTML = docLinkHtml;\n",
              "        element.appendChild(docLink);\n",
              "      }\n",
              "    </script>\n",
              "  </div>\n",
              "\n",
              "\n",
              "<div id=\"df-58592e5b-5048-47c5-beb1-88b6f409f634\">\n",
              "  <button class=\"colab-df-quickchart\" onclick=\"quickchart('df-58592e5b-5048-47c5-beb1-88b6f409f634')\"\n",
              "            title=\"Suggest charts\"\n",
              "            style=\"display:none;\">\n",
              "\n",
              "<svg xmlns=\"http://www.w3.org/2000/svg\" height=\"24px\"viewBox=\"0 0 24 24\"\n",
              "     width=\"24px\">\n",
              "    <g>\n",
              "        <path d=\"M19 3H5c-1.1 0-2 .9-2 2v14c0 1.1.9 2 2 2h14c1.1 0 2-.9 2-2V5c0-1.1-.9-2-2-2zM9 17H7v-7h2v7zm4 0h-2V7h2v10zm4 0h-2v-4h2v4z\"/>\n",
              "    </g>\n",
              "</svg>\n",
              "  </button>\n",
              "\n",
              "<style>\n",
              "  .colab-df-quickchart {\n",
              "      --bg-color: #E8F0FE;\n",
              "      --fill-color: #1967D2;\n",
              "      --hover-bg-color: #E2EBFA;\n",
              "      --hover-fill-color: #174EA6;\n",
              "      --disabled-fill-color: #AAA;\n",
              "      --disabled-bg-color: #DDD;\n",
              "  }\n",
              "\n",
              "  [theme=dark] .colab-df-quickchart {\n",
              "      --bg-color: #3B4455;\n",
              "      --fill-color: #D2E3FC;\n",
              "      --hover-bg-color: #434B5C;\n",
              "      --hover-fill-color: #FFFFFF;\n",
              "      --disabled-bg-color: #3B4455;\n",
              "      --disabled-fill-color: #666;\n",
              "  }\n",
              "\n",
              "  .colab-df-quickchart {\n",
              "    background-color: var(--bg-color);\n",
              "    border: none;\n",
              "    border-radius: 50%;\n",
              "    cursor: pointer;\n",
              "    display: none;\n",
              "    fill: var(--fill-color);\n",
              "    height: 32px;\n",
              "    padding: 0;\n",
              "    width: 32px;\n",
              "  }\n",
              "\n",
              "  .colab-df-quickchart:hover {\n",
              "    background-color: var(--hover-bg-color);\n",
              "    box-shadow: 0 1px 2px rgba(60, 64, 67, 0.3), 0 1px 3px 1px rgba(60, 64, 67, 0.15);\n",
              "    fill: var(--button-hover-fill-color);\n",
              "  }\n",
              "\n",
              "  .colab-df-quickchart-complete:disabled,\n",
              "  .colab-df-quickchart-complete:disabled:hover {\n",
              "    background-color: var(--disabled-bg-color);\n",
              "    fill: var(--disabled-fill-color);\n",
              "    box-shadow: none;\n",
              "  }\n",
              "\n",
              "  .colab-df-spinner {\n",
              "    border: 2px solid var(--fill-color);\n",
              "    border-color: transparent;\n",
              "    border-bottom-color: var(--fill-color);\n",
              "    animation:\n",
              "      spin 1s steps(1) infinite;\n",
              "  }\n",
              "\n",
              "  @keyframes spin {\n",
              "    0% {\n",
              "      border-color: transparent;\n",
              "      border-bottom-color: var(--fill-color);\n",
              "      border-left-color: var(--fill-color);\n",
              "    }\n",
              "    20% {\n",
              "      border-color: transparent;\n",
              "      border-left-color: var(--fill-color);\n",
              "      border-top-color: var(--fill-color);\n",
              "    }\n",
              "    30% {\n",
              "      border-color: transparent;\n",
              "      border-left-color: var(--fill-color);\n",
              "      border-top-color: var(--fill-color);\n",
              "      border-right-color: var(--fill-color);\n",
              "    }\n",
              "    40% {\n",
              "      border-color: transparent;\n",
              "      border-right-color: var(--fill-color);\n",
              "      border-top-color: var(--fill-color);\n",
              "    }\n",
              "    60% {\n",
              "      border-color: transparent;\n",
              "      border-right-color: var(--fill-color);\n",
              "    }\n",
              "    80% {\n",
              "      border-color: transparent;\n",
              "      border-right-color: var(--fill-color);\n",
              "      border-bottom-color: var(--fill-color);\n",
              "    }\n",
              "    90% {\n",
              "      border-color: transparent;\n",
              "      border-bottom-color: var(--fill-color);\n",
              "    }\n",
              "  }\n",
              "</style>\n",
              "\n",
              "  <script>\n",
              "    async function quickchart(key) {\n",
              "      const quickchartButtonEl =\n",
              "        document.querySelector('#' + key + ' button');\n",
              "      quickchartButtonEl.disabled = true;  // To prevent multiple clicks.\n",
              "      quickchartButtonEl.classList.add('colab-df-spinner');\n",
              "      try {\n",
              "        const charts = await google.colab.kernel.invokeFunction(\n",
              "            'suggestCharts', [key], {});\n",
              "      } catch (error) {\n",
              "        console.error('Error during call to suggestCharts:', error);\n",
              "      }\n",
              "      quickchartButtonEl.classList.remove('colab-df-spinner');\n",
              "      quickchartButtonEl.classList.add('colab-df-quickchart-complete');\n",
              "    }\n",
              "    (() => {\n",
              "      let quickchartButtonEl =\n",
              "        document.querySelector('#df-58592e5b-5048-47c5-beb1-88b6f409f634 button');\n",
              "      quickchartButtonEl.style.display =\n",
              "        google.colab.kernel.accessAllowed ? 'block' : 'none';\n",
              "    })();\n",
              "  </script>\n",
              "</div>\n",
              "    </div>\n",
              "  </div>\n"
            ],
            "application/vnd.google.colaboratory.intrinsic+json": {
              "type": "dataframe",
              "variable_name": "salary_data",
              "summary": "{\n  \"name\": \"salary_data\",\n  \"rows\": 30,\n  \"fields\": [\n    {\n      \"column\": \"YearsExperience\",\n      \"properties\": {\n        \"dtype\": \"number\",\n        \"std\": 2.8378881576627184,\n        \"min\": 1.1,\n        \"max\": 10.5,\n        \"num_unique_values\": 28,\n        \"samples\": [\n          3.9,\n          9.6,\n          3.7\n        ],\n        \"semantic_type\": \"\",\n        \"description\": \"\"\n      }\n    },\n    {\n      \"column\": \"Salary\",\n      \"properties\": {\n        \"dtype\": \"number\",\n        \"std\": 27414.4297845823,\n        \"min\": 37731.0,\n        \"max\": 122391.0,\n        \"num_unique_values\": 30,\n        \"samples\": [\n          112635.0,\n          67938.0,\n          113812.0\n        ],\n        \"semantic_type\": \"\",\n        \"description\": \"\"\n      }\n    }\n  ]\n}"
            }
          },
          "metadata": {},
          "execution_count": 33
        }
      ],
      "source": [
        "salary_data"
      ]
    },
    {
      "cell_type": "code",
      "execution_count": null,
      "id": "1f22b375",
      "metadata": {
        "colab": {
          "base_uri": "https://localhost:8080/"
        },
        "id": "1f22b375",
        "outputId": "8972260e-5467-4b0d-91e0-0e9525b3ecb0"
      },
      "outputs": [
        {
          "output_type": "stream",
          "name": "stdout",
          "text": [
            "Train/Test sizes:  (24, 1) (6, 1) (24,) (6,)\n",
            "[20.26234628 55.2781752  18.82135812 50.48274487 20.26234628 50.9622879 ]\n",
            "[ 54445. 121872.  56642. 116969.  64445. 112635.]\n",
            "Test R^2 Score: -8.796\n",
            "Training R^2 Score: -8.261\n"
          ]
        },
        {
          "output_type": "stream",
          "name": "stderr",
          "text": [
            "/usr/local/lib/python3.10/dist-packages/sklearn/neural_network/_multilayer_perceptron.py:691: ConvergenceWarning: Stochastic Optimizer: Maximum iterations (200) reached and the optimization hasn't converged yet.\n",
            "  warnings.warn(\n"
          ]
        }
      ],
      "source": [
        "X_salary = salary_data['YearsExperience'].values.reshape(-1, 1)\n",
        "Y_salary = salary_data['Salary'].values\n",
        "\n",
        "# Разделение на обучающую и тестовую выборки\n",
        "X_train, X_test, Y_train, Y_test = train_test_split(X_salary, Y_salary, train_size=0.8, test_size=0.2, random_state=123)\n",
        "print('Train/Test sizes: ', X_train.shape, X_test.shape, Y_train.shape, Y_test.shape)\n",
        "\n",
        "# Инициализация и обучение модели\n",
        "mlp_regressor = MLPRegressor(random_state=123)\n",
        "mlp_regressor.fit(X_train, Y_train)\n",
        "\n",
        "Y_preds = mlp_regressor.predict(X_test)\n",
        "\n",
        "print(Y_preds[:10])\n",
        "print(Y_test[:10])\n",
        "\n",
        "## Метод Score оценивает точность моделей классификации.\n",
        "print('Test R^2 Score: %.3f'%mlp_regressor.score(X_test, Y_test))\n",
        "print('Training R^2 Score: %.3f'%mlp_regressor.score(X_train, Y_train))"
      ]
    },
    {
      "cell_type": "code",
      "execution_count": null,
      "id": "741eb818",
      "metadata": {
        "colab": {
          "base_uri": "https://localhost:8080/"
        },
        "id": "741eb818",
        "outputId": "29dd34d3-c0b4-4c8c-e102-2f3b20c66af8"
      },
      "outputs": [
        {
          "output_type": "stream",
          "name": "stdout",
          "text": [
            "Loss:  2988058032.1601596\n"
          ]
        }
      ],
      "source": [
        "print('Loss: ', mlp_regressor.loss_)"
      ]
    },
    {
      "cell_type": "code",
      "execution_count": null,
      "id": "f5830ae3",
      "metadata": {
        "colab": {
          "base_uri": "https://localhost:8080/"
        },
        "id": "f5830ae3",
        "outputId": "87a15539-3e6a-4bf7-9bcc-34169891274f"
      },
      "outputs": [
        {
          "output_type": "stream",
          "name": "stdout",
          "text": [
            "Number of coefs:  2\n"
          ]
        },
        {
          "output_type": "execute_result",
          "data": {
            "text/plain": [
              "[(1, 100), (100, 1)]"
            ]
          },
          "metadata": {},
          "execution_count": 36
        }
      ],
      "source": [
        "print('Number of coefs: ', len(mlp_regressor.coefs_))\n",
        "[weights.shape for weights in mlp_regressor.coefs_]"
      ]
    },
    {
      "cell_type": "code",
      "execution_count": null,
      "id": "c6bfe123",
      "metadata": {
        "colab": {
          "base_uri": "https://localhost:8080/"
        },
        "id": "c6bfe123",
        "outputId": "de227e7a-9ce5-4973-80f7-904907a4b44b"
      },
      "outputs": [
        {
          "output_type": "stream",
          "name": "stdout",
          "text": [
            "Number of Iteretions for Which Estimator Ran:  200\n"
          ]
        }
      ],
      "source": [
        "print('Number of Iteretions for Which Estimator Ran: ', mlp_regressor.n_iter_)"
      ]
    },
    {
      "cell_type": "code",
      "execution_count": null,
      "id": "d1258185",
      "metadata": {
        "colab": {
          "base_uri": "https://localhost:8080/"
        },
        "id": "d1258185",
        "outputId": "3b710a1c-5b13-4430-b29c-4975bb1139b7"
      },
      "outputs": [
        {
          "output_type": "stream",
          "name": "stdout",
          "text": [
            "Name of Output Layer Activation Function:  identity\n"
          ]
        }
      ],
      "source": [
        "print('Name of Output Layer Activation Function: ', mlp_regressor.out_activation_)"
      ]
    }
  ],
  "metadata": {
    "kernelspec": {
      "display_name": "Python 3 (ipykernel)",
      "language": "python",
      "name": "python3"
    },
    "language_info": {
      "codemirror_mode": {
        "name": "ipython",
        "version": 3
      },
      "file_extension": ".py",
      "mimetype": "text/x-python",
      "name": "python",
      "nbconvert_exporter": "python",
      "pygments_lexer": "ipython3",
      "version": "3.11.4"
    },
    "colab": {
      "provenance": []
    }
  },
  "nbformat": 4,
  "nbformat_minor": 5
}