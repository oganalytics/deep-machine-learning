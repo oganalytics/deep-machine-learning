{
  "nbformat": 4,
  "nbformat_minor": 0,
  "metadata": {
    "colab": {
      "provenance": []
    },
    "kernelspec": {
      "name": "python3",
      "display_name": "Python 3"
    },
    "language_info": {
      "name": "python"
    }
  },
  "cells": [
    {
      "cell_type": "code",
      "execution_count": null,
      "metadata": {
        "colab": {
          "base_uri": "https://localhost:8080/",
          "height": 35
        },
        "id": "M3kb1sNeFurS",
        "outputId": "dcd9eae1-d940-43f5-f6a6-8759e60bac3b"
      },
      "outputs": [
        {
          "output_type": "execute_result",
          "data": {
            "text/plain": [
              "'2.15.0'"
            ],
            "application/vnd.google.colaboratory.intrinsic+json": {
              "type": "string"
            }
          },
          "metadata": {},
          "execution_count": 1
        }
      ],
      "source": [
        "import keras\n",
        "keras.__version__"
      ]
    },
    {
      "cell_type": "markdown",
      "source": [
        "#**Переоценка и недооценка**\n",
        "В этом блокноте собраны примеры кода из главы 3, раздела 6 книги «Глубокое обучение с помощью Python». Обратите внимание, что в оригинальном тексте содержится гораздо больше информации, в частности, дополнительные пояснения и рисунки: в этом блокноте вы найдете только исходный код и соответствующие комментарии.\n",
        "\n",
        "---\n"
      ],
      "metadata": {
        "id": "dNrbkPy1GHeR"
      }
    },
    {
      "cell_type": "markdown",
      "source": [
        "Во всех примерах, которые мы рассматривали в предыдущей главе - предсказание настроения в рецензиях на фильмы, классификация тем и регрессия цен на жилье - мы могли заметить, что производительность нашей модели на удержанных проверочных данных всегда достигала пика через несколько эпох, а затем начинала ухудшаться, то есть наша модель быстро начинала перестраиваться под обучающие данные. Переоптимизация происходит в каждой задаче машинного обучения. Научиться справляться с избыточной подгонкой очень важно для освоения машинного обучения.\n",
        "\n",
        "Фундаментальная проблема машинного обучения - это противоречие между оптимизацией и обобщением. Под «оптимизацией» понимается процесс настройки модели для достижения наилучшей производительности на обучающих данных («обучение» в слове «машинное обучение»), а под «обобщением» - то, насколько хорошо обученная модель будет работать на данных, которые она никогда раньше не видела. Конечно, цель игры - добиться хорошего обобщения, но вы не контролируете обобщение; вы можете только корректировать модель на основе ее обучающих данных.\n",
        "\n",
        "В начале обучения оптимизация и обобщение коррелируют: чем меньше ваши потери на тренировочных данных, тем меньше ваши потери на тестовых данных. Пока это происходит, ваша модель считается недоукомплектованной: еще есть прогресс, сеть еще не смоделировала все релевантные паттерны в обучающих данных. Но после определенного количества итераций на обучающих данных обобщение перестает улучшаться, показатели валидации останавливаются, а затем начинают ухудшаться: модель начинает чрезмерно подходить, то есть она начинает изучать паттерны, характерные для обучающих данных, но вводящие в заблуждение или не имеющие отношения к новым данным.\n",
        "\n",
        "Чтобы предотвратить обучение модели на ошибках или нерелевантных паттернах, найденных в обучающих данных, лучшим решением, конечно же, является получение большего количества обучающих данных. Модель, обученная на большем количестве данных, естественно, будет лучше обобщать. Когда это уже невозможно, следующим лучшим решением будет изменение количества информации, которую модели разрешено хранить, или добавление ограничений на то, какую информацию ей разрешено хранить. Если сеть может позволить себе запомнить только небольшое количество паттернов, процесс оптимизации заставит ее сосредоточиться на наиболее заметных паттернах, которые имеют больше шансов на хорошее обобщение.\n",
        "\n",
        "Такая борьба с избыточным соответствием называется регуляризацией. Давайте рассмотрим некоторые из наиболее распространенных методов регуляризации и применим их на практике, чтобы улучшить нашу модель классификации фильмов из предыдущей главы.\n",
        "\n",
        "Примечание: в этом блокноте мы будем использовать тестовый набор IMDB в качестве валидационного набора. В данном контексте это не имеет значения.\n",
        "\n",
        "Давайте подготовим данные, используя код из главы 3, раздел 5:\n"
      ],
      "metadata": {
        "id": "WYcf8L-LGr9E"
      }
    },
    {
      "cell_type": "code",
      "source": [
        "from keras.datasets import imdb\n",
        "import numpy as np\n",
        "\n",
        "(train_data, train_labels), (test_data, test_labels) = imdb.load_data(num_words=10000)\n",
        "\n",
        "def vectorize_sequences(sequences, dimension=10000):\n",
        "    # Создаем полностью нулевую матрицу формы (len(sequences), dimension)\n",
        "    results = np.zeros((len(sequences), dimension))\n",
        "    for i, sequence in enumerate(sequences):\n",
        "        results[i, sequence] = 1.  # устанавливаем определенные индексы результатов[i] в 1s\n",
        "    return results\n",
        "\n",
        "# Наши векторизованные обучающие данные\n",
        "x_train = vectorize_sequences(train_data)\n",
        "# Наши векторизованные тестовые данные\n",
        "x_test = vectorize_sequences(test_data)\n",
        "# Наши векторизованные метки\n",
        "y_train = np.asarray(train_labels).astype('float32')\n",
        "y_test = np.asarray(test_labels).astype('float32')"
      ],
      "metadata": {
        "id": "vn557XA3F9-R"
      },
      "execution_count": null,
      "outputs": []
    },
    {
      "cell_type": "markdown",
      "source": [
        "#**Борьба с чрезмерной подгонкой**\n"
      ],
      "metadata": {
        "id": "tIh5lMmqHDTh"
      }
    },
    {
      "cell_type": "markdown",
      "source": [
        "##**Уменьшение размера сети**\n",
        "\n",
        "Самый простой способ предотвратить перебор - уменьшить размер модели, то есть количество обучаемых параметров в модели (которое определяется количеством слоев и количеством блоков в слое). В глубоком обучении количество обучаемых параметров в модели часто называют «мощностью» модели. Интуитивно понятно, что модель с большим количеством параметров будет обладать большей «способностью к запоминанию» и, следовательно, сможет легко выучить идеальное словарное отображение между обучающими образцами и их целями - отображение без какой-либо обобщающей способности. Например, модель с 500 000 двоичных параметров можно легко заставить выучить класс каждой цифры в обучающем наборе MNIST: нам понадобится всего 10 двоичных параметров для каждой из 50 000 цифр. Такая модель будет бесполезна для классификации новых образцов цифр. Всегда помните об этом: модели глубокого обучения, как правило, хорошо подстраиваются под обучающие данные, но реальная задача заключается в обобщении, а не в подгонке.\n",
        "\n",
        "С другой стороны, если сеть имеет ограниченные ресурсы запоминания, она не сможет выучить это отображение так же легко, и поэтому, чтобы минимизировать потери, ей придется прибегнуть к обучению сжатых представлений, которые обладают предсказательной силой в отношении целей - именно тот тип представлений, который нас интересует. В то же время не забывайте, что вы должны использовать модели с достаточным количеством параметров, чтобы они не были недоукомплектованы: ваша модель не должна испытывать недостатка в ресурсах для запоминания. Необходимо найти компромисс между «слишком большой емкостью» и «недостаточной емкостью».\n",
        "\n",
        "К сожалению, не существует волшебной формулы, позволяющей определить нужное количество слоев или размер каждого из них. Вам придется оценить множество различных архитектур (разумеется, на валидационном, а не на тестовом множестве), чтобы найти правильный размер модели для ваших данных. Общий порядок действий для поиска подходящего размера модели заключается в том, чтобы начать с относительно небольшого количества слоев и параметров и увеличивать размер слоев или добавлять новые слои до тех пор, пока вы не увидите уменьшающуюся отдачу в отношении потерь при валидации.\n",
        "\n",
        "Давайте попробуем это сделать на нашей сети классификации кинорецензий. Наша первоначальная сеть выглядела следующим образом:"
      ],
      "metadata": {
        "id": "zDMq5h1lHKqw"
      }
    },
    {
      "cell_type": "code",
      "source": [
        "from keras import models\n",
        "from keras import layers\n",
        "\n",
        "original_model = models.Sequential()\n",
        "original_model.add(layers.Dense(16, activation='relu', input_shape=(10000,)))\n",
        "original_model.add(layers.Dense(16, activation='relu'))\n",
        "original_model.add(layers.Dense(1, activation='sigmoid'))\n",
        "\n",
        "original_model.compile(optimizer='rmsprop',\n",
        "                       loss='binary_crossentropy',\n",
        "                       metrics=['acc'])"
      ],
      "metadata": {
        "id": "JqnqPzWmG_lx"
      },
      "execution_count": null,
      "outputs": []
    },
    {
      "cell_type": "markdown",
      "source": [
        "Теперь попробуем заменить ее на эту меньшую сеть:"
      ],
      "metadata": {
        "id": "BrNF2xCOH2B9"
      }
    },
    {
      "cell_type": "code",
      "source": [
        "smaller_model = models.Sequential()\n",
        "smaller_model.add(layers.Dense(4, activation='relu', input_shape=(10000,)))\n",
        "smaller_model.add(layers.Dense(4, activation='relu'))\n",
        "smaller_model.add(layers.Dense(1, activation='sigmoid'))\n",
        "\n",
        "smaller_model.compile(optimizer='rmsprop',\n",
        "                      loss='binary_crossentropy',\n",
        "                      metrics=['acc'])"
      ],
      "metadata": {
        "id": "fm_AyL1KH0Gk"
      },
      "execution_count": null,
      "outputs": []
    },
    {
      "cell_type": "markdown",
      "source": [
        "Вот сравнение потерь при валидации исходной сети и сети меньшего размера. Точки - это значения потерь при валидации меньшей сети, а крестики - исходной сети (помните: меньшие потери при валидации свидетельствуют о лучшей модели)."
      ],
      "metadata": {
        "id": "N_AYOhOVH9JY"
      }
    },
    {
      "cell_type": "code",
      "source": [
        "original_hist = original_model.fit(x_train, y_train,\n",
        "                                   epochs=20,\n",
        "                                   batch_size=512,\n",
        "                                   validation_data=(x_test, y_test))"
      ],
      "metadata": {
        "colab": {
          "base_uri": "https://localhost:8080/"
        },
        "id": "h6k1Zjs8H4cU",
        "outputId": "276e43da-50f4-4844-d5d6-a9bb289d95c6"
      },
      "execution_count": null,
      "outputs": [
        {
          "output_type": "stream",
          "name": "stdout",
          "text": [
            "Epoch 1/20\n",
            "49/49 [==============================] - 6s 109ms/step - loss: 0.4884 - acc: 0.8042 - val_loss: 0.3567 - val_acc: 0.8768\n",
            "Epoch 2/20\n",
            "49/49 [==============================] - 2s 38ms/step - loss: 0.2859 - acc: 0.9003 - val_loss: 0.2934 - val_acc: 0.8853\n",
            "Epoch 3/20\n",
            "49/49 [==============================] - 3s 52ms/step - loss: 0.2202 - acc: 0.9214 - val_loss: 0.2783 - val_acc: 0.8894\n",
            "Epoch 4/20\n",
            "49/49 [==============================] - 3s 52ms/step - loss: 0.1851 - acc: 0.9337 - val_loss: 0.2855 - val_acc: 0.8861\n",
            "Epoch 5/20\n",
            "49/49 [==============================] - 2s 37ms/step - loss: 0.1620 - acc: 0.9418 - val_loss: 0.3008 - val_acc: 0.8814\n",
            "Epoch 6/20\n",
            "49/49 [==============================] - 3s 58ms/step - loss: 0.1433 - acc: 0.9500 - val_loss: 0.3351 - val_acc: 0.8719\n",
            "Epoch 7/20\n",
            "49/49 [==============================] - 2s 41ms/step - loss: 0.1292 - acc: 0.9541 - val_loss: 0.3270 - val_acc: 0.8778\n",
            "Epoch 8/20\n",
            "49/49 [==============================] - 3s 52ms/step - loss: 0.1167 - acc: 0.9606 - val_loss: 0.3431 - val_acc: 0.8750\n",
            "Epoch 9/20\n",
            "49/49 [==============================] - 2s 38ms/step - loss: 0.1034 - acc: 0.9653 - val_loss: 0.3655 - val_acc: 0.8720\n",
            "Epoch 10/20\n",
            "49/49 [==============================] - 2s 39ms/step - loss: 0.0952 - acc: 0.9679 - val_loss: 0.3817 - val_acc: 0.8710\n",
            "Epoch 11/20\n",
            "49/49 [==============================] - 2s 40ms/step - loss: 0.0843 - acc: 0.9716 - val_loss: 0.4116 - val_acc: 0.8658\n",
            "Epoch 12/20\n",
            "49/49 [==============================] - 3s 53ms/step - loss: 0.0747 - acc: 0.9758 - val_loss: 0.4342 - val_acc: 0.8640\n",
            "Epoch 13/20\n",
            "49/49 [==============================] - 3s 59ms/step - loss: 0.0683 - acc: 0.9784 - val_loss: 0.4737 - val_acc: 0.8618\n",
            "Epoch 14/20\n",
            "49/49 [==============================] - 3s 52ms/step - loss: 0.0608 - acc: 0.9810 - val_loss: 0.4775 - val_acc: 0.8623\n",
            "Epoch 15/20\n",
            "49/49 [==============================] - 2s 38ms/step - loss: 0.0532 - acc: 0.9844 - val_loss: 0.4960 - val_acc: 0.8628\n",
            "Epoch 16/20\n",
            "49/49 [==============================] - 3s 52ms/step - loss: 0.0479 - acc: 0.9863 - val_loss: 0.5303 - val_acc: 0.8580\n",
            "Epoch 17/20\n",
            "49/49 [==============================] - 3s 53ms/step - loss: 0.0399 - acc: 0.9900 - val_loss: 0.5677 - val_acc: 0.8584\n",
            "Epoch 18/20\n",
            "49/49 [==============================] - 2s 48ms/step - loss: 0.0369 - acc: 0.9907 - val_loss: 0.6212 - val_acc: 0.8515\n",
            "Epoch 19/20\n",
            "49/49 [==============================] - 2s 37ms/step - loss: 0.0324 - acc: 0.9916 - val_loss: 0.6103 - val_acc: 0.8585\n",
            "Epoch 20/20\n",
            "49/49 [==============================] - 2s 45ms/step - loss: 0.0264 - acc: 0.9938 - val_loss: 0.6268 - val_acc: 0.8585\n"
          ]
        }
      ]
    },
    {
      "cell_type": "code",
      "source": [
        "smaller_model_hist = smaller_model.fit(x_train, y_train,\n",
        "                                       epochs=20,\n",
        "                                       batch_size=512,\n",
        "                                       validation_data=(x_test, y_test))"
      ],
      "metadata": {
        "colab": {
          "base_uri": "https://localhost:8080/"
        },
        "id": "2myu2IODH8dj",
        "outputId": "bd5a3a9a-6c19-4b08-ce93-e4c6231eae05"
      },
      "execution_count": null,
      "outputs": [
        {
          "output_type": "stream",
          "name": "stdout",
          "text": [
            "Epoch 1/20\n",
            "49/49 [==============================] - 6s 114ms/step - loss: 0.6265 - acc: 0.6754 - val_loss: 0.5748 - val_acc: 0.7465\n",
            "Epoch 2/20\n",
            "49/49 [==============================] - 3s 55ms/step - loss: 0.5072 - acc: 0.8408 - val_loss: 0.4660 - val_acc: 0.8526\n",
            "Epoch 3/20\n",
            "49/49 [==============================] - 2s 36ms/step - loss: 0.3821 - acc: 0.8936 - val_loss: 0.3602 - val_acc: 0.8823\n",
            "Epoch 4/20\n",
            "49/49 [==============================] - 2s 36ms/step - loss: 0.2880 - acc: 0.9119 - val_loss: 0.3081 - val_acc: 0.8870\n",
            "Epoch 5/20\n",
            "49/49 [==============================] - 2s 36ms/step - loss: 0.2370 - acc: 0.9217 - val_loss: 0.2856 - val_acc: 0.8885\n",
            "Epoch 6/20\n",
            "49/49 [==============================] - 2s 36ms/step - loss: 0.2069 - acc: 0.9281 - val_loss: 0.2782 - val_acc: 0.8902\n",
            "Epoch 7/20\n",
            "49/49 [==============================] - 2s 42ms/step - loss: 0.1864 - acc: 0.9362 - val_loss: 0.2826 - val_acc: 0.8845\n",
            "Epoch 8/20\n",
            "49/49 [==============================] - 3s 61ms/step - loss: 0.1705 - acc: 0.9432 - val_loss: 0.2808 - val_acc: 0.8876\n",
            "Epoch 9/20\n",
            "49/49 [==============================] - 2s 37ms/step - loss: 0.1574 - acc: 0.9474 - val_loss: 0.2885 - val_acc: 0.8849\n",
            "Epoch 10/20\n",
            "49/49 [==============================] - 2s 36ms/step - loss: 0.1459 - acc: 0.9516 - val_loss: 0.2987 - val_acc: 0.8832\n",
            "Epoch 11/20\n",
            "49/49 [==============================] - 2s 35ms/step - loss: 0.1358 - acc: 0.9552 - val_loss: 0.3019 - val_acc: 0.8829\n",
            "Epoch 12/20\n",
            "49/49 [==============================] - 2s 36ms/step - loss: 0.1267 - acc: 0.9586 - val_loss: 0.3112 - val_acc: 0.8808\n",
            "Epoch 13/20\n",
            "49/49 [==============================] - 2s 36ms/step - loss: 0.1187 - acc: 0.9618 - val_loss: 0.3229 - val_acc: 0.8797\n",
            "Epoch 14/20\n",
            "49/49 [==============================] - 3s 56ms/step - loss: 0.1117 - acc: 0.9648 - val_loss: 0.3324 - val_acc: 0.8778\n",
            "Epoch 15/20\n",
            "49/49 [==============================] - 2s 40ms/step - loss: 0.1042 - acc: 0.9678 - val_loss: 0.3434 - val_acc: 0.8757\n",
            "Epoch 16/20\n",
            "49/49 [==============================] - 2s 36ms/step - loss: 0.0975 - acc: 0.9696 - val_loss: 0.3596 - val_acc: 0.8742\n",
            "Epoch 17/20\n",
            "49/49 [==============================] - 2s 37ms/step - loss: 0.0913 - acc: 0.9716 - val_loss: 0.3700 - val_acc: 0.8740\n",
            "Epoch 18/20\n",
            "49/49 [==============================] - 2s 38ms/step - loss: 0.0855 - acc: 0.9741 - val_loss: 0.3830 - val_acc: 0.8714\n",
            "Epoch 19/20\n",
            "49/49 [==============================] - 2s 37ms/step - loss: 0.0802 - acc: 0.9759 - val_loss: 0.3966 - val_acc: 0.8698\n",
            "Epoch 20/20\n",
            "49/49 [==============================] - 2s 40ms/step - loss: 0.0749 - acc: 0.9782 - val_loss: 0.4114 - val_acc: 0.8678\n"
          ]
        }
      ]
    },
    {
      "cell_type": "code",
      "source": [
        "epochs = range(1, 21)\n",
        "original_val_loss = original_hist.history['val_loss']\n",
        "smaller_model_val_loss = smaller_model_hist.history['val_loss']"
      ],
      "metadata": {
        "id": "r8j_4TAlICaW"
      },
      "execution_count": null,
      "outputs": []
    },
    {
      "cell_type": "code",
      "source": [
        "import matplotlib.pyplot as plt\n",
        "\n",
        "# b+ означает «синий крест»\n",
        "plt.plot(epochs, original_val_loss, 'b+', label='Original model')\n",
        "# «bo» означает «синяя точка»\n",
        "plt.plot(epochs, smaller_model_val_loss, 'bo', label='Smaller model')\n",
        "plt.xlabel('Epochs')\n",
        "plt.ylabel('Validation loss')\n",
        "plt.legend()\n",
        "\n",
        "plt.show()"
      ],
      "metadata": {
        "colab": {
          "base_uri": "https://localhost:8080/",
          "height": 449
        },
        "id": "0Ak3SQNJIKHL",
        "outputId": "6082a8ce-ba21-47b1-96fe-3e5851abd19e"
      },
      "execution_count": null,
      "outputs": [
        {
          "output_type": "display_data",
          "data": {
            "text/plain": [
              "<Figure size 640x480 with 1 Axes>"
            ],
            "image/png": "[encoded data removed]"
          },
          "metadata": {}
        }
      ]
    },
    {
      "cell_type": "markdown",
      "source": [
        "Как мы видим, меньшая сеть начинает перестраиваться позже, чем эталонная (после 6 эпох, а не 4), и ее производительность снижается гораздо медленнее, как только она начинает перестраиваться.\n",
        "\n",
        "А теперь, ради интереса, добавим к этому эталону сеть, которая имеет гораздо большую емкость, гораздо большую, чем того требует задача:"
      ],
      "metadata": {
        "id": "RD5dLEqaISbp"
      }
    },
    {
      "cell_type": "code",
      "source": [
        "bigger_model = models.Sequential()\n",
        "bigger_model.add(layers.Dense(512, activation='relu', input_shape=(10000,)))\n",
        "bigger_model.add(layers.Dense(512, activation='relu'))\n",
        "bigger_model.add(layers.Dense(1, activation='sigmoid'))\n",
        "\n",
        "bigger_model.compile(optimizer='rmsprop',\n",
        "                     loss='binary_crossentropy',\n",
        "                     metrics=['acc'])"
      ],
      "metadata": {
        "id": "aGRpoJxEIY83"
      },
      "execution_count": null,
      "outputs": []
    },
    {
      "cell_type": "code",
      "source": [
        "bigger_model_hist = bigger_model.fit(x_train, y_train,\n",
        "                                     epochs=20,\n",
        "                                     batch_size=512,\n",
        "                                     validation_data=(x_test, y_test))"
      ],
      "metadata": {
        "colab": {
          "base_uri": "https://localhost:8080/"
        },
        "id": "9dxxO7OGIdLK",
        "outputId": "d3772ab0-e3aa-44f2-fc11-ea8579aa8708"
      },
      "execution_count": null,
      "outputs": [
        {
          "output_type": "stream",
          "name": "stdout",
          "text": [
            "Epoch 1/20\n",
            "49/49 [==============================] - ETA: 0s - loss: 0.4929 - acc: 0.7634"
          ]
        }
      ]
    },
    {
      "cell_type": "markdown",
      "source": [
        "Вот как выглядит большая сеть по сравнению с эталонной. Точки - это значения потерь при проверке большей сети, а крестики - исходной сети."
      ],
      "metadata": {
        "id": "glL-RGU4ImJM"
      }
    },
    {
      "cell_type": "code",
      "source": [
        "bigger_model_val_loss = bigger_model_hist.history['val_loss']\n",
        "\n",
        "plt.plot(epochs, original_val_loss, 'b+', label='Original model')\n",
        "plt.plot(epochs, bigger_model_val_loss, 'bo', label='Bigger model')\n",
        "plt.xlabel('Epochs')\n",
        "plt.ylabel('Validation loss')\n",
        "plt.legend()\n",
        "\n",
        "plt.show()"
      ],
      "metadata": {
        "id": "PaKSES0EImah"
      },
      "execution_count": null,
      "outputs": []
    },
    {
      "cell_type": "markdown",
      "source": [
        "Более крупная сеть начинает перестраиваться почти сразу же, после одной эпохи, и перестраивается гораздо сильнее. Ее потери при проверке также более шумные.\n",
        "\n",
        "А вот потери при обучении для двух наших сетей:"
      ],
      "metadata": {
        "id": "QCdQJ6oJJAdB"
      }
    },
    {
      "cell_type": "code",
      "source": [
        "original_train_loss = original_hist.history['loss']\n",
        "bigger_model_train_loss = bigger_model_hist.history['loss']\n",
        "\n",
        "plt.plot(epochs, original_train_loss, 'b+', label='Original model')\n",
        "plt.plot(epochs, bigger_model_train_loss, 'bo', label='Bigger model')\n",
        "plt.xlabel('Epochs')\n",
        "plt.ylabel('Training loss')\n",
        "plt.legend()\n",
        "\n",
        "plt.show()"
      ],
      "metadata": {
        "id": "B8j_7WRQJCrP"
      },
      "execution_count": null,
      "outputs": []
    },
    {
      "cell_type": "markdown",
      "source": [
        "Как видите, более крупная сеть очень быстро приближает потери при обучении к нулю. Чем больше мощность сети, тем быстрее она сможет смоделировать обучающие данные (что приводит к низким потерям при обучении), но тем больше она подвержена перестройке (что приводит к большой разнице между потерями при обучении и проверке)."
      ],
      "metadata": {
        "id": "U-7JI3eUJVbg"
      }
    },
    {
      "cell_type": "markdown",
      "source": [
        "#**Добавление весовой регуляризации**"
      ],
      "metadata": {
        "id": "HKzmWvDwJZyX"
      }
    },
    {
      "cell_type": "markdown",
      "source": [
        "Возможно, вы знакомы с принципом «бритвы Оккама»: при наличии двух объяснений чего-либо наиболее вероятным правильным будет «простейшее» объяснение, то есть то, которое делает наименьшее количество предположений. Это относится и к моделям, обучаемым нейронными сетями: при наличии обучающих данных и архитектуры сети существует несколько наборов значений весов (несколько моделей), которые могут объяснить данные, и более простые модели менее склонны к перестройке, чем сложные.\n",
        "\n",
        "Простая модель» в данном контексте - это модель, в которой распределение значений параметров имеет меньшую энтропию (или модель с меньшим количеством параметров, как мы видели в разделе выше). Таким образом, распространенным способом борьбы с избыточной подгонкой является наложение ограничений на сложность сети путем принуждения ее весов принимать только малые значения, что делает распределение значений весов более «регулярным». Это называется «регуляризацией весов», и делается она путем добавления к функции потерь сети стоимости, связанной с наличием больших весов. Эта стоимость бывает двух видов:\n",
        "\n",
        "- Регуляризация L1, при которой добавленная стоимость пропорциональна абсолютному значению весовых коэффициентов (т.е. тому, что называется «нормой L1» весов).\n",
        "- Регуляризация L2, при которой добавленная стоимость пропорциональна квадрату значения весовых коэффициентов (т.е. тому, что называется «нормой L2» весов). В контексте нейронных сетей L2-регуляризация также называется затуханием веса. Пусть вас не смущает другое название: с математической точки зрения затухание веса - это то же самое, что и L2-регуляризация.\n",
        "\n",
        "В Keras весовая регуляризация добавляется путем передачи экземпляров весового регуляризатора слоям в качестве аргументов ключевых слов. Давайте добавим весовую регуляризацию L2 в нашу сеть классификации рецензий на фильмы:"
      ],
      "metadata": {
        "id": "1B5CVByFJbOm"
      }
    },
    {
      "cell_type": "code",
      "source": [
        "from keras import regularizers\n",
        "\n",
        "l2_model = models.Sequential()\n",
        "l2_model.add(layers.Dense(16, kernel_regularizer=regularizers.l2(0.001),\n",
        "                          activation='relu', input_shape=(10000,)))\n",
        "l2_model.add(layers.Dense(16, kernel_regularizer=regularizers.l2(0.001),\n",
        "                          activation='relu'))\n",
        "l2_model.add(layers.Dense(1, activation='sigmoid'))"
      ],
      "metadata": {
        "id": "qQQsdCPLJPlE"
      },
      "execution_count": null,
      "outputs": []
    },
    {
      "cell_type": "code",
      "source": [
        "l2_model.compile(optimizer='rmsprop',\n",
        "                 loss='binary_crossentropy',\n",
        "                 metrics=['acc'])"
      ],
      "metadata": {
        "id": "DFtC0BFcJ0IP"
      },
      "execution_count": null,
      "outputs": []
    },
    {
      "cell_type": "markdown",
      "source": [
        "l2(0.001) означает, что каждый коэффициент в матрице весов слоя будет добавлять 0.001 * вес_коэффициента_значения к общему убытку сети. Обратите внимание, что поскольку этот штраф добавляется только во время обучения, потери для этой сети будут гораздо выше во время обучения, чем во время тестирования.\n",
        "Вот влияние нашего штрафа регуляризации L2"
      ],
      "metadata": {
        "id": "lDubbOGOJ6BP"
      }
    },
    {
      "cell_type": "code",
      "source": [
        "l2_model_hist = l2_model.fit(x_train, y_train,\n",
        "                             epochs=20,\n",
        "                             batch_size=512,\n",
        "                             validation_data=(x_test, y_test))"
      ],
      "metadata": {
        "colab": {
          "base_uri": "https://localhost:8080/"
        },
        "id": "FYksH49LJ1jl",
        "outputId": "f5694601-45a5-4963-8ef6-45280cf35be7"
      },
      "execution_count": null,
      "outputs": [
        {
          "output_type": "stream",
          "name": "stdout",
          "text": [
            "Epoch 1/20\n",
            "48/49 [============================>.] - ETA: 0s - loss: 0.5504 - acc: 0.7908"
          ]
        }
      ]
    },
    {
      "cell_type": "code",
      "source": [
        "l2_model_val_loss = l2_model_hist.history['val_loss']\n",
        "\n",
        "plt.plot(epochs, original_val_loss, 'b+', label='Original model')\n",
        "plt.plot(epochs, l2_model_val_loss, 'bo', label='L2-regularized model')\n",
        "plt.xlabel('Epochs')\n",
        "plt.ylabel('Validation loss')\n",
        "plt.legend()\n",
        "\n",
        "plt.show()"
      ],
      "metadata": {
        "id": "Pe3Yv8J5KHHL"
      },
      "execution_count": null,
      "outputs": []
    },
    {
      "cell_type": "markdown",
      "source": [
        "Как видите, модель с регуляризацией L2 (точки) стала гораздо более устойчивой к переборке, чем эталонная модель (крестики), хотя обе модели имеют одинаковое количество параметров.\n",
        "\n",
        "В качестве альтернативы регуляризации L2 можно использовать один из следующих весовых регуляризаторов Keras:"
      ],
      "metadata": {
        "id": "1PtNz_SSKL0V"
      }
    },
    {
      "cell_type": "code",
      "source": [
        "from keras import regularizers\n",
        "\n",
        "# L1 regularization\n",
        "regularizers.l1(0.001)\n",
        "\n",
        "# L1 and L2 regularization at the same time\n",
        "regularizers.l1_l2(l1=0.001, l2=0.001)"
      ],
      "metadata": {
        "id": "Hcg8m3AhKRdS"
      },
      "execution_count": null,
      "outputs": []
    },
    {
      "cell_type": "markdown",
      "source": [
        "#**Добавление dropout**"
      ],
      "metadata": {
        "id": "139XCRbcKR-l"
      }
    },
    {
      "cell_type": "markdown",
      "source": [
        "Dropout - один из самых эффективных и наиболее часто используемых методов регуляризации для нейронных сетей, разработанный Хинтоном и его студентами в Университете Торонто. Dropout, применяемый к слою, заключается в случайном «выпадении» (т. е. установке нуля) ряда выходных признаков слоя в процессе обучения. Допустим, данный слой в процессе обучения обычно возвращал вектор [0.2, 0.5, 1.3, 0.8, 1.1] для заданного входного образца; после применения отсева этот вектор будет содержать несколько нулевых записей, распределенных случайным образом, например [0, 0.5, 1.3, 0, 1.1]. Коэффициент отсева» - это доля признаков, которые обнуляются; обычно он устанавливается в диапазоне от 0,2 до 0,5. В момент тестирования никакие единицы не отбрасываются, а вместо этого выходные значения слоя уменьшаются на коэффициент, равный коэффициенту отсева, чтобы сбалансировать тот факт, что активными являются больше единиц, чем в момент обучения.\n",
        "\n",
        "Рассмотрим матрицу Numpy, содержащую выход слоя, layer_output , формы (batch_size, features). Во время обучения мы будем случайным образом обнулять часть значений в матрице:"
      ],
      "metadata": {
        "id": "G1dwEJoRKVUq"
      }
    },
    {
      "cell_type": "code",
      "source": [
        "# Во время обучения: мы отбрасываем 50% единиц на выходе\n",
        "layer_output *= np.randint(0, high=2, size=layer_output.shape)"
      ],
      "metadata": {
        "id": "slSeYHMjKU_G"
      },
      "execution_count": null,
      "outputs": []
    },
    {
      "cell_type": "markdown",
      "source": [
        "Во время тестирования мы уменьшим результат на коэффициент dropout. Здесь мы масштабируем на 0,5 (потому что ранее мы отсеяли половину единиц):"
      ],
      "metadata": {
        "id": "SY4ivjLCKqjz"
      }
    },
    {
      "cell_type": "code",
      "source": [
        "# Во время тестирования:\n",
        "layer_output *= 0.5"
      ],
      "metadata": {
        "id": "NPytFE2rKt_o"
      },
      "execution_count": null,
      "outputs": []
    },
    {
      "cell_type": "markdown",
      "source": [
        "Обратите внимание, что этот процесс можно реализовать, выполнив обе операции во время обучения и оставив выход неизменным во время тестирования, что часто и происходит на практике:"
      ],
      "metadata": {
        "id": "WOWcxBc3K3dO"
      }
    },
    {
      "cell_type": "code",
      "source": [
        "# Во время обучения:\n",
        "layer_output *= np.randint(0, high=2, size=layer_output.shape)\n",
        "# Обратите внимание, что в данном случае мы масштабируем *вверх*, а не *вниз*.\n",
        "layer_output /= 0.5"
      ],
      "metadata": {
        "id": "rMM_i4DVK7HP"
      },
      "execution_count": null,
      "outputs": []
    },
    {
      "cell_type": "markdown",
      "source": [
        "Эта техника может показаться странной и произвольной. Почему это должно помочь уменьшить избыточную подгонку? Джефф Хинтон сказал, что его вдохновил, среди прочего, механизм предотвращения мошенничества, используемый банками - по его собственным словам: «Я пошел в свой банк. Кассиры постоянно менялись, и я спросил одного из них, почему. Он ответил, что не знает, но их часто переставляют с места на место. Я решил, что это, должно быть, потому, что для успешного обмана банка требуется сотрудничество между сотрудниками. Это заставило меня понять, что случайное удаление различных подмножеств нейронов в каждом примере позволит избежать сговора и, таким образом, уменьшить перебор».\n",
        "\n",
        "Основная идея заключается в том, что введение шума в выходные значения слоя может разрушить случайные паттерны, которые не являются значимыми (то, что Хинтон называет «заговорами»), и которые сеть начала бы запоминать, если бы шум не присутствовал.\n",
        "\n",
        "В Keras вы можете ввести отсев в сеть с помощью слоя Dropout, который применяется к выходу слоя, расположенного непосредственно перед ним, например:"
      ],
      "metadata": {
        "id": "gbQizZy9K-jM"
      }
    },
    {
      "cell_type": "code",
      "source": [
        "model.add(layers.Dropout(0.5))"
      ],
      "metadata": {
        "id": "PxjihqPxK-WJ"
      },
      "execution_count": null,
      "outputs": []
    },
    {
      "cell_type": "markdown",
      "source": [
        "Давайте добавим два слоя Dropout в нашу сеть IMDB, чтобы посмотреть, насколько хорошо они справляются с задачей уменьшения избыточной подгонки:"
      ],
      "metadata": {
        "id": "t9ysOAD4LPt3"
      }
    },
    {
      "cell_type": "code",
      "source": [
        "dpt_model = models.Sequential()\n",
        "dpt_model.add(layers.Dense(16, activation='relu', input_shape=(10000,)))\n",
        "dpt_model.add(layers.Dropout(0.5))\n",
        "dpt_model.add(layers.Dense(16, activation='relu'))\n",
        "dpt_model.add(layers.Dropout(0.5))\n",
        "dpt_model.add(layers.Dense(1, activation='sigmoid'))\n",
        "\n",
        "dpt_model.compile(optimizer='rmsprop',\n",
        "                  loss='binary_crossentropy',\n",
        "                  metrics=['acc'])"
      ],
      "metadata": {
        "id": "gQlK3Xp1LSr1"
      },
      "execution_count": null,
      "outputs": []
    },
    {
      "cell_type": "code",
      "source": [
        "dpt_model_hist = dpt_model.fit(x_train, y_train,\n",
        "                               epochs=20,\n",
        "                               batch_size=512,\n",
        "                               validation_data=(x_test, y_test))"
      ],
      "metadata": {
        "id": "eERfb0CdLUxj"
      },
      "execution_count": null,
      "outputs": []
    },
    {
      "cell_type": "markdown",
      "source": [
        "Построим график результатов:"
      ],
      "metadata": {
        "id": "DZbMWJEaLd1o"
      }
    },
    {
      "cell_type": "code",
      "source": [
        "dpt_model_val_loss = dpt_model_hist.history['val_loss']\n",
        "\n",
        "plt.plot(epochs, original_val_loss, 'b+', label='Original model')\n",
        "plt.plot(epochs, dpt_model_val_loss, 'bo', label='Dropout-regularized model')\n",
        "plt.xlabel('Epochs')\n",
        "plt.ylabel('Validation loss')\n",
        "plt.legend()\n",
        "\n",
        "plt.show()"
      ],
      "metadata": {
        "id": "zCjswm0NLWk2"
      },
      "execution_count": null,
      "outputs": []
    },
    {
      "cell_type": "markdown",
      "source": [
        "И снова явное улучшение по сравнению с эталонной сетью.\n",
        "\n",
        "Подведем итог: вот наиболее распространенные способы предотвращения оверфиттинга в нейронных сетях:\n",
        "- Получение большего количества обучающих данных.\n",
        "- Уменьшение пропускной способности сети.\n",
        "- Добавление регуляризации веса.\n",
        "- Добавление dropout."
      ],
      "metadata": {
        "id": "r6MUhjM4LiUn"
      }
    }
  ]
}