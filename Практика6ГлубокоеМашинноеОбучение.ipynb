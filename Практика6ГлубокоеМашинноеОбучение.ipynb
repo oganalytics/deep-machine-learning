{
  "cells": [
    {
      "cell_type": "markdown",
      "metadata": {
        "id": "TS7syCh_DOBj"
      },
      "source": [
        "# Начало работы с нейронными сетями: Классификация и регрессия"
      ]
    },
    {
      "cell_type": "markdown",
      "metadata": {
        "id": "aW_Z7JkKDOBk"
      },
      "source": [
        "## Классификация и регрессия: Основные понятия\n"
      ]
    },
    {
      "cell_type": "markdown",
      "metadata": {
        "id": "fwzivM-4DOBk"
      },
      "source": [
        "### Набор данных IMDB\n",
        "\n",
        "\n",
        "\n",
        "\n",
        "\n"
      ]
    },
    {
      "cell_type": "markdown",
      "metadata": {
        "id": "coPp27x4DOBk"
      },
      "source": [
        "**Загрузка набора данных IMDB**"
      ]
    },
    {
      "cell_type": "code",
      "execution_count": null,
      "metadata": {
        "colab": {
          "base_uri": "https://localhost:8080/"
        },
        "id": "tqFsqFtJDOBk",
        "outputId": "c604506b-ec75-4c4c-9a89-77872787973e"
      },
      "outputs": [
        {
          "output_type": "stream",
          "name": "stdout",
          "text": [
            "Downloading data from https://storage.googleapis.com/tensorflow/tf-keras-datasets/imdb.npz\n",
            "17464789/17464789 [==============================] - 2s 0us/step\n"
          ]
        }
      ],
      "source": [
        "from tensorflow.keras.datasets import imdb\n",
        "(train_data, train_labels), (test_data, test_labels) = imdb.load_data(\n",
        "    num_words=10000)"
      ]
    },
    {
      "cell_type": "code",
      "execution_count": null,
      "metadata": {
        "colab": {
          "base_uri": "https://localhost:8080/"
        },
        "id": "xFg_okWYDOBk",
        "outputId": "07b1faac-3740-4a81-b428-349abf07e829"
      },
      "outputs": [
        {
          "output_type": "execute_result",
          "data": {
            "text/plain": [
              "[1,\n",
              " 14,\n",
              " 22,\n",
              " 16,\n",
              " 43,\n",
              " 530,\n",
              " 973,\n",
              " 1622,\n",
              " 1385,\n",
              " 65,\n",
              " 458,\n",
              " 4468,\n",
              " 66,\n",
              " 3941,\n",
              " 4,\n",
              " 173,\n",
              " 36,\n",
              " 256,\n",
              " 5,\n",
              " 25,\n",
              " 100,\n",
              " 43,\n",
              " 838,\n",
              " 112,\n",
              " 50,\n",
              " 670,\n",
              " 2,\n",
              " 9,\n",
              " 35,\n",
              " 480,\n",
              " 284,\n",
              " 5,\n",
              " 150,\n",
              " 4,\n",
              " 172,\n",
              " 112,\n",
              " 167,\n",
              " 2,\n",
              " 336,\n",
              " 385,\n",
              " 39,\n",
              " 4,\n",
              " 172,\n",
              " 4536,\n",
              " 1111,\n",
              " 17,\n",
              " 546,\n",
              " 38,\n",
              " 13,\n",
              " 447,\n",
              " 4,\n",
              " 192,\n",
              " 50,\n",
              " 16,\n",
              " 6,\n",
              " 147,\n",
              " 2025,\n",
              " 19,\n",
              " 14,\n",
              " 22,\n",
              " 4,\n",
              " 1920,\n",
              " 4613,\n",
              " 469,\n",
              " 4,\n",
              " 22,\n",
              " 71,\n",
              " 87,\n",
              " 12,\n",
              " 16,\n",
              " 43,\n",
              " 530,\n",
              " 38,\n",
              " 76,\n",
              " 15,\n",
              " 13,\n",
              " 1247,\n",
              " 4,\n",
              " 22,\n",
              " 17,\n",
              " 515,\n",
              " 17,\n",
              " 12,\n",
              " 16,\n",
              " 626,\n",
              " 18,\n",
              " 2,\n",
              " 5,\n",
              " 62,\n",
              " 386,\n",
              " 12,\n",
              " 8,\n",
              " 316,\n",
              " 8,\n",
              " 106,\n",
              " 5,\n",
              " 4,\n",
              " 2223,\n",
              " 5244,\n",
              " 16,\n",
              " 480,\n",
              " 66,\n",
              " 3785,\n",
              " 33,\n",
              " 4,\n",
              " 130,\n",
              " 12,\n",
              " 16,\n",
              " 38,\n",
              " 619,\n",
              " 5,\n",
              " 25,\n",
              " 124,\n",
              " 51,\n",
              " 36,\n",
              " 135,\n",
              " 48,\n",
              " 25,\n",
              " 1415,\n",
              " 33,\n",
              " 6,\n",
              " 22,\n",
              " 12,\n",
              " 215,\n",
              " 28,\n",
              " 77,\n",
              " 52,\n",
              " 5,\n",
              " 14,\n",
              " 407,\n",
              " 16,\n",
              " 82,\n",
              " 2,\n",
              " 8,\n",
              " 4,\n",
              " 107,\n",
              " 117,\n",
              " 5952,\n",
              " 15,\n",
              " 256,\n",
              " 4,\n",
              " 2,\n",
              " 7,\n",
              " 3766,\n",
              " 5,\n",
              " 723,\n",
              " 36,\n",
              " 71,\n",
              " 43,\n",
              " 530,\n",
              " 476,\n",
              " 26,\n",
              " 400,\n",
              " 317,\n",
              " 46,\n",
              " 7,\n",
              " 4,\n",
              " 2,\n",
              " 1029,\n",
              " 13,\n",
              " 104,\n",
              " 88,\n",
              " 4,\n",
              " 381,\n",
              " 15,\n",
              " 297,\n",
              " 98,\n",
              " 32,\n",
              " 2071,\n",
              " 56,\n",
              " 26,\n",
              " 141,\n",
              " 6,\n",
              " 194,\n",
              " 7486,\n",
              " 18,\n",
              " 4,\n",
              " 226,\n",
              " 22,\n",
              " 21,\n",
              " 134,\n",
              " 476,\n",
              " 26,\n",
              " 480,\n",
              " 5,\n",
              " 144,\n",
              " 30,\n",
              " 5535,\n",
              " 18,\n",
              " 51,\n",
              " 36,\n",
              " 28,\n",
              " 224,\n",
              " 92,\n",
              " 25,\n",
              " 104,\n",
              " 4,\n",
              " 226,\n",
              " 65,\n",
              " 16,\n",
              " 38,\n",
              " 1334,\n",
              " 88,\n",
              " 12,\n",
              " 16,\n",
              " 283,\n",
              " 5,\n",
              " 16,\n",
              " 4472,\n",
              " 113,\n",
              " 103,\n",
              " 32,\n",
              " 15,\n",
              " 16,\n",
              " 5345,\n",
              " 19,\n",
              " 178,\n",
              " 32]"
            ]
          },
          "metadata": {},
          "execution_count": 2
        }
      ],
      "source": [
        "train_data[0]"
      ]
    },
    {
      "cell_type": "code",
      "execution_count": null,
      "metadata": {
        "colab": {
          "base_uri": "https://localhost:8080/"
        },
        "id": "uzG82dUODOBl",
        "outputId": "e22041ea-56d7-4c9d-b847-1c82efde49ed"
      },
      "outputs": [
        {
          "output_type": "execute_result",
          "data": {
            "text/plain": [
              "1"
            ]
          },
          "metadata": {},
          "execution_count": 3
        }
      ],
      "source": [
        "train_labels[0]"
      ]
    },
    {
      "cell_type": "code",
      "execution_count": null,
      "metadata": {
        "colab": {
          "base_uri": "https://localhost:8080/"
        },
        "id": "zcpemz-ADOBl",
        "outputId": "0333fa33-801b-4650-e783-eb4705b74729"
      },
      "outputs": [
        {
          "output_type": "execute_result",
          "data": {
            "text/plain": [
              "9999"
            ]
          },
          "metadata": {},
          "execution_count": 4
        }
      ],
      "source": [
        "max([max(sequence) for sequence in train_data])"
      ]
    },
    {
      "cell_type": "markdown",
      "metadata": {
        "id": "-agO-fhADOBl"
      },
      "source": [
        "**Декодирование отзывов обратно в текст**"
      ]
    },
    {
      "cell_type": "code",
      "execution_count": null,
      "metadata": {
        "colab": {
          "base_uri": "https://localhost:8080/"
        },
        "id": "335xADr4DOBl",
        "outputId": "1b1a802c-2336-4218-c902-dd1d96e8f091"
      },
      "outputs": [
        {
          "output_type": "stream",
          "name": "stdout",
          "text": [
            "Downloading data from https://storage.googleapis.com/tensorflow/tf-keras-datasets/imdb_word_index.json\n",
            "1641221/1641221 [==============================] - 1s 0us/step\n"
          ]
        }
      ],
      "source": [
        "word_index = imdb.get_word_index()\n",
        "reverse_word_index = dict(\n",
        "    [(value, key) for (key, value) in word_index.items()])\n",
        "decoded_review = \" \".join(\n",
        "    [reverse_word_index.get(i - 3, \"?\") for i in train_data[0]])"
      ]
    },
    {
      "cell_type": "markdown",
      "metadata": {
        "id": "jlht4ja3DOBl"
      },
      "source": [
        "### Подготовка данных\n"
      ]
    },
    {
      "cell_type": "markdown",
      "metadata": {
        "id": "2XhQoTfgDOBl"
      },
      "source": [
        "**Кодирование последовательностей целых чисел с использованием мультихот-кодирования**"
      ]
    },
    {
      "cell_type": "code",
      "execution_count": null,
      "metadata": {
        "id": "LQ9Gvc2IDOBm"
      },
      "outputs": [],
      "source": [
        "import numpy as np\n",
        "def vectorize_sequences(sequences, dimension=10000):\n",
        "    results = np.zeros((len(sequences), dimension))\n",
        "    for i, sequence in enumerate(sequences):\n",
        "        for j in sequence:\n",
        "            results[i, j] = 1.\n",
        "    return results\n",
        "x_train = vectorize_sequences(train_data)\n",
        "x_test = vectorize_sequences(test_data)"
      ]
    },
    {
      "cell_type": "code",
      "execution_count": null,
      "metadata": {
        "colab": {
          "base_uri": "https://localhost:8080/"
        },
        "id": "xbmsqEpaDOBm",
        "outputId": "c4bdfa45-910b-4427-eb46-cadb38feb96b"
      },
      "outputs": [
        {
          "output_type": "execute_result",
          "data": {
            "text/plain": [
              "array([0., 1., 1., ..., 0., 0., 0.])"
            ]
          },
          "metadata": {},
          "execution_count": 7
        }
      ],
      "source": [
        "x_train[0]"
      ]
    },
    {
      "cell_type": "code",
      "execution_count": null,
      "metadata": {
        "id": "AL2iBojPDOBn"
      },
      "outputs": [],
      "source": [
        "y_train = np.asarray(train_labels).astype(\"float32\")\n",
        "y_test = np.asarray(test_labels).astype(\"float32\")"
      ]
    },
    {
      "cell_type": "markdown",
      "metadata": {
        "id": "uO7MXEONDOBn"
      },
      "source": [
        "### Создание модели\n"
      ]
    },
    {
      "cell_type": "markdown",
      "metadata": {
        "id": "egCCYpwuDOBn"
      },
      "source": [
        "**Определение модели**"
      ]
    },
    {
      "cell_type": "code",
      "execution_count": null,
      "metadata": {
        "id": "i48lW1xXDOBn"
      },
      "outputs": [],
      "source": [
        "from tensorflow import keras\n",
        "from tensorflow.keras import layers\n",
        "\n",
        "model = keras.Sequential([\n",
        "    layers.Dense(16, activation=\"relu\"),\n",
        "    layers.Dense(16, activation=\"relu\"),\n",
        "    layers.Dense(1, activation=\"sigmoid\")\n",
        "])"
      ]
    },
    {
      "cell_type": "markdown",
      "metadata": {
        "id": "f60UJ0dpDOBo"
      },
      "source": [
        "**Компиляция модели**"
      ]
    },
    {
      "cell_type": "code",
      "execution_count": null,
      "metadata": {
        "id": "9pX5gR5vDOBo"
      },
      "outputs": [],
      "source": [
        "model.compile(optimizer=\"rmsprop\",\n",
        "              loss=\"binary_crossentropy\",\n",
        "              metrics=[\"accuracy\"])"
      ]
    },
    {
      "cell_type": "markdown",
      "metadata": {
        "id": "dH4S8UjGDOBo"
      },
      "source": [
        "### Проверка подхода\n"
      ]
    },
    {
      "cell_type": "markdown",
      "metadata": {
        "id": "4ojcqjduDOBo"
      },
      "source": [
        "**Выделение набора данных для валидации**"
      ]
    },
    {
      "cell_type": "code",
      "execution_count": null,
      "metadata": {
        "id": "KJvYSfBGDOBo"
      },
      "outputs": [],
      "source": [
        "x_val = x_train[:10000]\n",
        "partial_x_train = x_train[10000:]\n",
        "y_val = y_train[:10000]\n",
        "partial_y_train = y_train[10000:]"
      ]
    },
    {
      "cell_type": "markdown",
      "metadata": {
        "id": "Og7Qq5jwDOBo"
      },
      "source": [
        "**Обучение вашей модели**"
      ]
    },
    {
      "cell_type": "code",
      "execution_count": null,
      "metadata": {
        "colab": {
          "base_uri": "https://localhost:8080/"
        },
        "id": "q5C_gyNcDOBo",
        "outputId": "2b8278b9-2f34-4796-e832-bbd33af769e2"
      },
      "outputs": [
        {
          "output_type": "stream",
          "name": "stdout",
          "text": [
            "Epoch 1/20\n",
            "30/30 [==============================] - 5s 135ms/step - loss: 0.5423 - accuracy: 0.7647 - val_loss: 0.4148 - val_accuracy: 0.8657\n",
            "Epoch 2/20\n",
            "30/30 [==============================] - 2s 69ms/step - loss: 0.3419 - accuracy: 0.8913 - val_loss: 0.3325 - val_accuracy: 0.8768\n",
            "Epoch 3/20\n",
            "30/30 [==============================] - 2s 55ms/step - loss: 0.2576 - accuracy: 0.9164 - val_loss: 0.3012 - val_accuracy: 0.8844\n",
            "Epoch 4/20\n",
            "30/30 [==============================] - 2s 65ms/step - loss: 0.2066 - accuracy: 0.9344 - val_loss: 0.2839 - val_accuracy: 0.8869\n",
            "Epoch 5/20\n",
            "30/30 [==============================] - 2s 62ms/step - loss: 0.1747 - accuracy: 0.9420 - val_loss: 0.2764 - val_accuracy: 0.8866\n",
            "Epoch 6/20\n",
            "30/30 [==============================] - 1s 40ms/step - loss: 0.1476 - accuracy: 0.9525 - val_loss: 0.3384 - val_accuracy: 0.8666\n",
            "Epoch 7/20\n",
            "30/30 [==============================] - 1s 34ms/step - loss: 0.1276 - accuracy: 0.9618 - val_loss: 0.3088 - val_accuracy: 0.8838\n",
            "Epoch 8/20\n",
            "30/30 [==============================] - 2s 58ms/step - loss: 0.1123 - accuracy: 0.9659 - val_loss: 0.3034 - val_accuracy: 0.8831\n",
            "Epoch 9/20\n",
            "30/30 [==============================] - 2s 67ms/step - loss: 0.0972 - accuracy: 0.9722 - val_loss: 0.3348 - val_accuracy: 0.8748\n",
            "Epoch 10/20\n",
            "30/30 [==============================] - 2s 62ms/step - loss: 0.0867 - accuracy: 0.9753 - val_loss: 0.3326 - val_accuracy: 0.8799\n",
            "Epoch 11/20\n",
            "30/30 [==============================] - 2s 50ms/step - loss: 0.0746 - accuracy: 0.9797 - val_loss: 0.3560 - val_accuracy: 0.8749\n",
            "Epoch 12/20\n",
            "30/30 [==============================] - 1s 45ms/step - loss: 0.0629 - accuracy: 0.9855 - val_loss: 0.3745 - val_accuracy: 0.8743\n",
            "Epoch 13/20\n",
            "30/30 [==============================] - 1s 35ms/step - loss: 0.0565 - accuracy: 0.9861 - val_loss: 0.4019 - val_accuracy: 0.8725\n",
            "Epoch 14/20\n",
            "30/30 [==============================] - 1s 35ms/step - loss: 0.0499 - accuracy: 0.9883 - val_loss: 0.4099 - val_accuracy: 0.8712\n",
            "Epoch 15/20\n",
            "30/30 [==============================] - 1s 34ms/step - loss: 0.0422 - accuracy: 0.9907 - val_loss: 0.4809 - val_accuracy: 0.8631\n",
            "Epoch 16/20\n",
            "30/30 [==============================] - 1s 45ms/step - loss: 0.0368 - accuracy: 0.9927 - val_loss: 0.4501 - val_accuracy: 0.8736\n",
            "Epoch 17/20\n",
            "30/30 [==============================] - 2s 66ms/step - loss: 0.0340 - accuracy: 0.9925 - val_loss: 0.4891 - val_accuracy: 0.8673\n",
            "Epoch 18/20\n",
            "30/30 [==============================] - 2s 68ms/step - loss: 0.0282 - accuracy: 0.9938 - val_loss: 0.4922 - val_accuracy: 0.8708\n",
            "Epoch 19/20\n",
            "30/30 [==============================] - 1s 36ms/step - loss: 0.0207 - accuracy: 0.9976 - val_loss: 0.5341 - val_accuracy: 0.8662\n",
            "Epoch 20/20\n",
            "30/30 [==============================] - 1s 33ms/step - loss: 0.0250 - accuracy: 0.9948 - val_loss: 0.5361 - val_accuracy: 0.8700\n"
          ]
        }
      ],
      "source": [
        "history = model.fit(partial_x_train,\n",
        "                    partial_y_train,\n",
        "                    epochs=20,\n",
        "                    batch_size=512,\n",
        "                    validation_data=(x_val, y_val))"
      ]
    },
    {
      "cell_type": "code",
      "execution_count": null,
      "metadata": {
        "colab": {
          "base_uri": "https://localhost:8080/"
        },
        "id": "0-l04qguDOBo",
        "outputId": "dbdb6fd3-7814-47ff-a519-a0c8f4223f8b"
      },
      "outputs": [
        {
          "output_type": "execute_result",
          "data": {
            "text/plain": [
              "dict_keys(['loss', 'accuracy', 'val_loss', 'val_accuracy'])"
            ]
          },
          "metadata": {},
          "execution_count": 13
        }
      ],
      "source": [
        "history_dict = history.history\n",
        "history_dict.keys()"
      ]
    },
    {
      "cell_type": "markdown",
      "metadata": {
        "id": "tfHwJNraDOBo"
      },
      "source": [
        "**Построение графика потерь при обучении и валидации**"
      ]
    },
    {
      "cell_type": "code",
      "execution_count": null,
      "metadata": {
        "colab": {
          "base_uri": "https://localhost:8080/",
          "height": 472
        },
        "id": "0UaZ0dOEDOBp",
        "outputId": "5b2de847-d3b2-4c84-9bde-257e75f32ca1"
      },
      "outputs": [
        {
          "output_type": "display_data",
          "data": {
            "text/plain": [
              "<Figure size 640x480 with 1 Axes>"
            ],
            "image/png": "[encoded data removed]"
          },
          "metadata": {}
        }
      ],
      "source": [
        "import matplotlib.pyplot as plt\n",
        "history_dict = history.history\n",
        "loss_values = history_dict[\"loss\"]\n",
        "val_loss_values = history_dict[\"val_loss\"]\n",
        "epochs = range(1, len(loss_values) + 1)\n",
        "plt.plot(epochs, loss_values, \"bo\", label=\"Training loss\")\n",
        "plt.plot(epochs, val_loss_values, \"b\", label=\"Validation loss\")\n",
        "plt.title(\"Training and validation loss\")\n",
        "plt.xlabel(\"Epochs\")\n",
        "plt.ylabel(\"Loss\")\n",
        "plt.legend()\n",
        "plt.show()"
      ]
    },
    {
      "cell_type": "markdown",
      "metadata": {
        "id": "9AzHRReLDOBp"
      },
      "source": [
        "**Построение графика точности при обучении и валидации**"
      ]
    },
    {
      "cell_type": "code",
      "execution_count": null,
      "metadata": {
        "colab": {
          "base_uri": "https://localhost:8080/",
          "height": 472
        },
        "id": "WMalEUYYDOBp",
        "outputId": "15fae558-b86f-498b-b2bf-53f595bebef7"
      },
      "outputs": [
        {
          "output_type": "display_data",
          "data": {
            "text/plain": [
              "<Figure size 640x480 with 1 Axes>"
            ],
            "image/png": "[encoded data removed]"
          },
          "metadata": {}
        }
      ],
      "source": [
        "plt.clf()\n",
        "acc = history_dict[\"accuracy\"]\n",
        "val_acc = history_dict[\"val_accuracy\"]\n",
        "plt.plot(epochs, acc, \"bo\", label=\"Training acc\")\n",
        "plt.plot(epochs, val_acc, \"b\", label=\"Validation acc\")\n",
        "plt.title(\"Training and validation accuracy\")\n",
        "plt.xlabel(\"Epochs\")\n",
        "plt.ylabel(\"Accuracy\")\n",
        "plt.legend()\n",
        "plt.show()"
      ]
    },
    {
      "cell_type": "markdown",
      "metadata": {
        "id": "R65ZW5AzDOBp"
      },
      "source": [
        "**Повторное обучение модели с нуля**"
      ]
    },
    {
      "cell_type": "code",
      "execution_count": null,
      "metadata": {
        "colab": {
          "base_uri": "https://localhost:8080/"
        },
        "id": "L8VOXmXxDOBp",
        "outputId": "916321a8-9005-47a2-a9b6-14eb6fc91d25"
      },
      "outputs": [
        {
          "output_type": "stream",
          "name": "stdout",
          "text": [
            "Epoch 1/4\n",
            "49/49 [==============================] - 2s 25ms/step - loss: 0.5003 - accuracy: 0.7980\n",
            "Epoch 2/4\n",
            "49/49 [==============================] - 1s 24ms/step - loss: 0.2901 - accuracy: 0.9002\n",
            "Epoch 3/4\n",
            "49/49 [==============================] - 1s 24ms/step - loss: 0.2211 - accuracy: 0.9214\n",
            "Epoch 4/4\n",
            "49/49 [==============================] - 1s 24ms/step - loss: 0.1861 - accuracy: 0.9335\n",
            "782/782 [==============================] - 2s 3ms/step - loss: 0.2933 - accuracy: 0.8831\n"
          ]
        }
      ],
      "source": [
        "model = keras.Sequential([\n",
        "    layers.Dense(16, activation=\"relu\"),\n",
        "    layers.Dense(16, activation=\"relu\"),\n",
        "    layers.Dense(1, activation=\"sigmoid\")\n",
        "])\n",
        "model.compile(optimizer=\"rmsprop\",\n",
        "              loss=\"binary_crossentropy\",\n",
        "              metrics=[\"accuracy\"])\n",
        "model.fit(x_train, y_train, epochs=4, batch_size=512)\n",
        "results = model.evaluate(x_test, y_test)"
      ]
    },
    {
      "cell_type": "code",
      "execution_count": null,
      "metadata": {
        "colab": {
          "base_uri": "https://localhost:8080/"
        },
        "id": "LcfJHY-zDOBp",
        "outputId": "b779be58-f28c-4a4f-ef73-d5390454b333"
      },
      "outputs": [
        {
          "output_type": "execute_result",
          "data": {
            "text/plain": [
              "[0.2932873070240021, 0.8831200003623962]"
            ]
          },
          "metadata": {},
          "execution_count": 17
        }
      ],
      "source": [
        "results"
      ]
    },
    {
      "cell_type": "markdown",
      "metadata": {
        "id": "aqTnIXz-DOBp"
      },
      "source": [
        "### Использование обученной модели для генерации прогнозов на новых данных"
      ]
    },
    {
      "cell_type": "code",
      "execution_count": null,
      "metadata": {
        "colab": {
          "base_uri": "https://localhost:8080/"
        },
        "id": "lR_YxLqcDOBp",
        "outputId": "960e36da-420e-45e2-f521-d211587c7f54"
      },
      "outputs": [
        {
          "output_type": "stream",
          "name": "stdout",
          "text": [
            "782/782 [==============================] - 3s 3ms/step\n"
          ]
        },
        {
          "output_type": "execute_result",
          "data": {
            "text/plain": [
              "array([[0.15783392],\n",
              "       [0.9999537 ],\n",
              "       [0.83831924],\n",
              "       ...,\n",
              "       [0.12199768],\n",
              "       [0.06930919],\n",
              "       [0.4783111 ]], dtype=float32)"
            ]
          },
          "metadata": {},
          "execution_count": 18
        }
      ],
      "source": [
        "model.predict(x_test)"
      ]
    },
    {
      "cell_type": "markdown",
      "metadata": {
        "id": "JM1ZxZIODOBq"
      },
      "source": [
        "### Дальнейшие эксперименты\n"
      ]
    },
    {
      "cell_type": "markdown",
      "metadata": {
        "id": "0PWwLLUlDOBq"
      },
      "source": [
        "### Завершение"
      ]
    },
    {
      "cell_type": "markdown",
      "metadata": {
        "id": "ElFKBThaDOBq"
      },
      "source": [
        "## Классификация новостных лент: Пример многоклассовой классификации\n"
      ]
    },
    {
      "cell_type": "markdown",
      "metadata": {
        "id": "BzTMUqNlDOBq"
      },
      "source": [
        "### Набор данных Reuters\n"
      ]
    },
    {
      "cell_type": "markdown",
      "metadata": {
        "id": "LF8yUvHrDOBq"
      },
      "source": [
        "**Загрузка набора данных Reuters**"
      ]
    },
    {
      "cell_type": "code",
      "execution_count": null,
      "metadata": {
        "colab": {
          "base_uri": "https://localhost:8080/"
        },
        "id": "-tYqLAZrDOBq",
        "outputId": "51372ace-b06e-4338-cdcd-16bb07243f2b"
      },
      "outputs": [
        {
          "output_type": "stream",
          "name": "stdout",
          "text": [
            "Downloading data from https://storage.googleapis.com/tensorflow/tf-keras-datasets/reuters.npz\n",
            "2110848/2110848 [==============================] - 1s 0us/step\n"
          ]
        }
      ],
      "source": [
        "from tensorflow.keras.datasets import reuters\n",
        "(train_data, train_labels), (test_data, test_labels) = reuters.load_data(\n",
        "    num_words=10000)"
      ]
    },
    {
      "cell_type": "code",
      "execution_count": null,
      "metadata": {
        "colab": {
          "base_uri": "https://localhost:8080/"
        },
        "id": "D1R8x-x9DOBq",
        "outputId": "ff6a30f0-cd12-49c8-dcb9-39801f7a998d"
      },
      "outputs": [
        {
          "output_type": "execute_result",
          "data": {
            "text/plain": [
              "8982"
            ]
          },
          "metadata": {},
          "execution_count": 20
        }
      ],
      "source": [
        "len(train_data)"
      ]
    },
    {
      "cell_type": "code",
      "execution_count": null,
      "metadata": {
        "colab": {
          "base_uri": "https://localhost:8080/"
        },
        "id": "W17jOXN_DOBq",
        "outputId": "0ac100c4-01d2-47e6-83e0-cc5d906b4de1"
      },
      "outputs": [
        {
          "output_type": "execute_result",
          "data": {
            "text/plain": [
              "2246"
            ]
          },
          "metadata": {},
          "execution_count": 21
        }
      ],
      "source": [
        "len(test_data)"
      ]
    },
    {
      "cell_type": "code",
      "execution_count": null,
      "metadata": {
        "colab": {
          "base_uri": "https://localhost:8080/"
        },
        "id": "q0EpWdamDOBr",
        "outputId": "5de98bd1-5f2d-448d-c77e-ed1d693fbf48"
      },
      "outputs": [
        {
          "output_type": "execute_result",
          "data": {
            "text/plain": [
              "[1,\n",
              " 245,\n",
              " 273,\n",
              " 207,\n",
              " 156,\n",
              " 53,\n",
              " 74,\n",
              " 160,\n",
              " 26,\n",
              " 14,\n",
              " 46,\n",
              " 296,\n",
              " 26,\n",
              " 39,\n",
              " 74,\n",
              " 2979,\n",
              " 3554,\n",
              " 14,\n",
              " 46,\n",
              " 4689,\n",
              " 4329,\n",
              " 86,\n",
              " 61,\n",
              " 3499,\n",
              " 4795,\n",
              " 14,\n",
              " 61,\n",
              " 451,\n",
              " 4329,\n",
              " 17,\n",
              " 12]"
            ]
          },
          "metadata": {},
          "execution_count": 22
        }
      ],
      "source": [
        "train_data[10]"
      ]
    },
    {
      "cell_type": "markdown",
      "metadata": {
        "id": "ZYPt68cnDOBr"
      },
      "source": [
        "**Декодирование новостных лент обратно в текст**"
      ]
    },
    {
      "cell_type": "code",
      "execution_count": null,
      "metadata": {
        "colab": {
          "base_uri": "https://localhost:8080/"
        },
        "id": "GmzXxq80DOBr",
        "outputId": "00423806-0142-42cf-eadc-82337c75a64e"
      },
      "outputs": [
        {
          "output_type": "stream",
          "name": "stdout",
          "text": [
            "Downloading data from https://storage.googleapis.com/tensorflow/tf-keras-datasets/reuters_word_index.json\n",
            "550378/550378 [==============================] - 1s 1us/step\n"
          ]
        }
      ],
      "source": [
        "word_index = reuters.get_word_index()\n",
        "reverse_word_index = dict([(value, key) for (key, value) in word_index.items()])\n",
        "decoded_newswire = \" \".join([reverse_word_index.get(i - 3, \"?\") for i in\n",
        "    train_data[0]])"
      ]
    },
    {
      "cell_type": "code",
      "execution_count": null,
      "metadata": {
        "colab": {
          "base_uri": "https://localhost:8080/"
        },
        "id": "OQ24G1McDOBr",
        "outputId": "26b0966d-3a45-4825-ef0f-43952363180d"
      },
      "outputs": [
        {
          "output_type": "execute_result",
          "data": {
            "text/plain": [
              "3"
            ]
          },
          "metadata": {},
          "execution_count": 24
        }
      ],
      "source": [
        "train_labels[10]"
      ]
    },
    {
      "cell_type": "markdown",
      "metadata": {
        "id": "Ko5aLxcDDOBr"
      },
      "source": [
        "### Подготовка данных\n"
      ]
    },
    {
      "cell_type": "markdown",
      "metadata": {
        "id": "ZjPiIG1vDOBr"
      },
      "source": [
        "**Кодирование входных данных**"
      ]
    },
    {
      "cell_type": "code",
      "execution_count": null,
      "metadata": {
        "id": "BSEf1DMpDOBr"
      },
      "outputs": [],
      "source": [
        "x_train = vectorize_sequences(train_data)\n",
        "x_test = vectorize_sequences(test_data)"
      ]
    },
    {
      "cell_type": "markdown",
      "metadata": {
        "id": "xHNfUpvUDOBr"
      },
      "source": [
        "**Кодирование меток**"
      ]
    },
    {
      "cell_type": "code",
      "execution_count": null,
      "metadata": {
        "id": "qHGt3z9rDOBr"
      },
      "outputs": [],
      "source": [
        "def to_one_hot(labels, dimension=46):\n",
        "    results = np.zeros((len(labels), dimension))\n",
        "    for i, label in enumerate(labels):\n",
        "        results[i, label] = 1.\n",
        "    return results\n",
        "y_train = to_one_hot(train_labels)\n",
        "y_test = to_one_hot(test_labels)"
      ]
    },
    {
      "cell_type": "code",
      "execution_count": null,
      "metadata": {
        "id": "xfB8ooBLDOBs"
      },
      "outputs": [],
      "source": [
        "from tensorflow.keras.utils import to_categorical\n",
        "y_train = to_categorical(train_labels)\n",
        "y_test = to_categorical(test_labels)"
      ]
    },
    {
      "cell_type": "markdown",
      "metadata": {
        "id": "9PombZN_DOBs"
      },
      "source": [
        "### Создание модели\n"
      ]
    },
    {
      "cell_type": "markdown",
      "metadata": {
        "id": "wpvYKqI4DOBs"
      },
      "source": [
        "**Определение модели**"
      ]
    },
    {
      "cell_type": "code",
      "execution_count": null,
      "metadata": {
        "id": "2BzfSKuMDOBs"
      },
      "outputs": [],
      "source": [
        "model = keras.Sequential([\n",
        "    layers.Dense(64, activation=\"relu\"),\n",
        "    layers.Dense(64, activation=\"relu\"),\n",
        "    layers.Dense(46, activation=\"softmax\")\n",
        "])"
      ]
    },
    {
      "cell_type": "markdown",
      "metadata": {
        "id": "IroySb-iDOBs"
      },
      "source": [
        "**Компиляция модели**"
      ]
    },
    {
      "cell_type": "code",
      "execution_count": null,
      "metadata": {
        "id": "Q6WGnH3UDOBs"
      },
      "outputs": [],
      "source": [
        "model.compile(optimizer=\"rmsprop\",\n",
        "              loss=\"categorical_crossentropy\",\n",
        "              metrics=[\"accuracy\"])"
      ]
    },
    {
      "cell_type": "markdown",
      "metadata": {
        "id": "VdX7vWeJDOBt"
      },
      "source": [
        "### Проверка подхода"
      ]
    },
    {
      "cell_type": "markdown",
      "metadata": {
        "id": "SvPCH0TTDOBt"
      },
      "source": [
        "**Выделение набора данных для валидации**"
      ]
    },
    {
      "cell_type": "code",
      "execution_count": null,
      "metadata": {
        "id": "y_2iSEdZDOBt"
      },
      "outputs": [],
      "source": [
        "x_val = x_train[:1000]\n",
        "partial_x_train = x_train[1000:]\n",
        "y_val = y_train[:1000]\n",
        "partial_y_train = y_train[1000:]"
      ]
    },
    {
      "cell_type": "markdown",
      "metadata": {
        "id": "3jqbhHv8DOBt"
      },
      "source": [
        "**Обучение модели**"
      ]
    },
    {
      "cell_type": "code",
      "execution_count": null,
      "metadata": {
        "colab": {
          "base_uri": "https://localhost:8080/"
        },
        "id": "ipEzQXVHDOBt",
        "outputId": "e041dd21-f966-41c6-e15a-658c1cd49c7e"
      },
      "outputs": [
        {
          "output_type": "stream",
          "name": "stdout",
          "text": [
            "Epoch 1/20\n",
            "16/16 [==============================] - 2s 75ms/step - loss: 2.7093 - accuracy: 0.4260 - val_loss: 1.8421 - val_accuracy: 0.6070\n",
            "Epoch 2/20\n",
            "16/16 [==============================] - 1s 53ms/step - loss: 1.5528 - accuracy: 0.6771 - val_loss: 1.3813 - val_accuracy: 0.6950\n",
            "Epoch 3/20\n",
            "16/16 [==============================] - 1s 77ms/step - loss: 1.1956 - accuracy: 0.7468 - val_loss: 1.2263 - val_accuracy: 0.7310\n",
            "Epoch 4/20\n",
            "16/16 [==============================] - 1s 89ms/step - loss: 0.9775 - accuracy: 0.7944 - val_loss: 1.0771 - val_accuracy: 0.7620\n",
            "Epoch 5/20\n",
            "16/16 [==============================] - 1s 59ms/step - loss: 0.8054 - accuracy: 0.8315 - val_loss: 1.0130 - val_accuracy: 0.7670\n",
            "Epoch 6/20\n",
            "16/16 [==============================] - 1s 50ms/step - loss: 0.6636 - accuracy: 0.8607 - val_loss: 0.9530 - val_accuracy: 0.8050\n",
            "Epoch 7/20\n",
            "16/16 [==============================] - 1s 48ms/step - loss: 0.5504 - accuracy: 0.8834 - val_loss: 0.9112 - val_accuracy: 0.7990\n",
            "Epoch 8/20\n",
            "16/16 [==============================] - 1s 50ms/step - loss: 0.4612 - accuracy: 0.9042 - val_loss: 0.8838 - val_accuracy: 0.8090\n",
            "Epoch 9/20\n",
            "16/16 [==============================] - 1s 51ms/step - loss: 0.3905 - accuracy: 0.9171 - val_loss: 0.8690 - val_accuracy: 0.8200\n",
            "Epoch 10/20\n",
            "16/16 [==============================] - 1s 49ms/step - loss: 0.3314 - accuracy: 0.9298 - val_loss: 0.8766 - val_accuracy: 0.8130\n",
            "Epoch 11/20\n",
            "16/16 [==============================] - 1s 49ms/step - loss: 0.2876 - accuracy: 0.9370 - val_loss: 0.8878 - val_accuracy: 0.8080\n",
            "Epoch 12/20\n",
            "16/16 [==============================] - 1s 47ms/step - loss: 0.2512 - accuracy: 0.9426 - val_loss: 0.8696 - val_accuracy: 0.8170\n",
            "Epoch 13/20\n",
            "16/16 [==============================] - 1s 47ms/step - loss: 0.2227 - accuracy: 0.9468 - val_loss: 0.9255 - val_accuracy: 0.8190\n",
            "Epoch 14/20\n",
            "16/16 [==============================] - 1s 49ms/step - loss: 0.2002 - accuracy: 0.9506 - val_loss: 0.9134 - val_accuracy: 0.8080\n",
            "Epoch 15/20\n",
            "16/16 [==============================] - 1s 51ms/step - loss: 0.1821 - accuracy: 0.9533 - val_loss: 0.9079 - val_accuracy: 0.8100\n",
            "Epoch 16/20\n",
            "16/16 [==============================] - 1s 79ms/step - loss: 0.1683 - accuracy: 0.9531 - val_loss: 0.9030 - val_accuracy: 0.8140\n",
            "Epoch 17/20\n",
            "16/16 [==============================] - 1s 93ms/step - loss: 0.1585 - accuracy: 0.9539 - val_loss: 0.9360 - val_accuracy: 0.8080\n",
            "Epoch 18/20\n",
            "16/16 [==============================] - 2s 100ms/step - loss: 0.1470 - accuracy: 0.9579 - val_loss: 0.9100 - val_accuracy: 0.8110\n",
            "Epoch 19/20\n",
            "16/16 [==============================] - 1s 89ms/step - loss: 0.1395 - accuracy: 0.9557 - val_loss: 0.9597 - val_accuracy: 0.8100\n",
            "Epoch 20/20\n",
            "16/16 [==============================] - 1s 51ms/step - loss: 0.1367 - accuracy: 0.9569 - val_loss: 0.9347 - val_accuracy: 0.8120\n"
          ]
        }
      ],
      "source": [
        "history = model.fit(partial_x_train,\n",
        "                    partial_y_train,\n",
        "                    epochs=20,\n",
        "                    batch_size=512,\n",
        "                    validation_data=(x_val, y_val))"
      ]
    },
    {
      "cell_type": "markdown",
      "metadata": {
        "id": "ZpmxL18KDOBt"
      },
      "source": [
        "**Построение графика потерь при обучении и валидации**"
      ]
    },
    {
      "cell_type": "code",
      "execution_count": null,
      "metadata": {
        "colab": {
          "base_uri": "https://localhost:8080/",
          "height": 472
        },
        "id": "qK_KCrs5DOBt",
        "outputId": "3629aeb5-d8eb-47a8-cdba-7fd9138260fb"
      },
      "outputs": [
        {
          "output_type": "display_data",
          "data": {
            "text/plain": [
              "<Figure size 640x480 with 1 Axes>"
            ],
            "image/png": "[encoded data removed]"
          },
          "metadata": {}
        }
      ],
      "source": [
        "loss = history.history[\"loss\"]\n",
        "val_loss = history.history[\"val_loss\"]\n",
        "epochs = range(1, len(loss) + 1)\n",
        "plt.plot(epochs, loss, \"bo\", label=\"Training loss\")\n",
        "plt.plot(epochs, val_loss, \"b\", label=\"Validation loss\")\n",
        "plt.title(\"Training and validation loss\")\n",
        "plt.xlabel(\"Epochs\")\n",
        "plt.ylabel(\"Loss\")\n",
        "plt.legend()\n",
        "plt.show()"
      ]
    },
    {
      "cell_type": "markdown",
      "metadata": {
        "id": "7R04iaSXDOBt"
      },
      "source": [
        "**Построение графика точности при обучении и валидации**"
      ]
    },
    {
      "cell_type": "code",
      "execution_count": null,
      "metadata": {
        "colab": {
          "base_uri": "https://localhost:8080/",
          "height": 472
        },
        "id": "Jlh8ZtztDOBu",
        "outputId": "f9c9ba7a-8adb-4583-8112-485a8f627868"
      },
      "outputs": [
        {
          "output_type": "display_data",
          "data": {
            "text/plain": [
              "<Figure size 640x480 with 1 Axes>"
            ],
            "image/png": "[encoded data removed]"
          },
          "metadata": {}
        }
      ],
      "source": [
        "plt.clf()\n",
        "acc = history.history[\"accuracy\"]\n",
        "val_acc = history.history[\"val_accuracy\"]\n",
        "plt.plot(epochs, acc, \"bo\", label=\"Training accuracy\")\n",
        "plt.plot(epochs, val_acc, \"b\", label=\"Validation accuracy\")\n",
        "plt.title(\"Training and validation accuracy\")\n",
        "plt.xlabel(\"Epochs\")\n",
        "plt.ylabel(\"Accuracy\")\n",
        "plt.legend()\n",
        "plt.show()"
      ]
    },
    {
      "cell_type": "markdown",
      "metadata": {
        "id": "IJg1J1OCDOBu"
      },
      "source": [
        "**Повторное обучение модели с нуля**"
      ]
    },
    {
      "cell_type": "code",
      "execution_count": null,
      "metadata": {
        "colab": {
          "base_uri": "https://localhost:8080/"
        },
        "id": "aQakm7yLDOBu",
        "outputId": "a5ff89da-9d0c-40f1-a826-a3f78ce49c1d"
      },
      "outputs": [
        {
          "output_type": "stream",
          "name": "stdout",
          "text": [
            "Epoch 1/9\n",
            "18/18 [==============================] - 1s 48ms/step - loss: 2.5566 - accuracy: 0.5078\n",
            "Epoch 2/9\n",
            "18/18 [==============================] - 1s 47ms/step - loss: 1.4166 - accuracy: 0.7005\n",
            "Epoch 3/9\n",
            "18/18 [==============================] - 1s 46ms/step - loss: 1.0858 - accuracy: 0.7693\n",
            "Epoch 4/9\n",
            "18/18 [==============================] - 1s 45ms/step - loss: 0.8818 - accuracy: 0.8145\n",
            "Epoch 5/9\n",
            "18/18 [==============================] - 1s 45ms/step - loss: 0.7199 - accuracy: 0.8490\n",
            "Epoch 6/9\n",
            "18/18 [==============================] - 1s 45ms/step - loss: 0.5934 - accuracy: 0.8754\n",
            "Epoch 7/9\n",
            "18/18 [==============================] - 1s 75ms/step - loss: 0.4915 - accuracy: 0.8994\n",
            "Epoch 8/9\n",
            "18/18 [==============================] - 2s 89ms/step - loss: 0.4117 - accuracy: 0.9145\n",
            "Epoch 9/9\n",
            "18/18 [==============================] - 2s 85ms/step - loss: 0.3463 - accuracy: 0.9266\n",
            "71/71 [==============================] - 0s 3ms/step - loss: 0.9126 - accuracy: 0.7898\n"
          ]
        }
      ],
      "source": [
        "model = keras.Sequential([\n",
        "  layers.Dense(64, activation=\"relu\"),\n",
        "  layers.Dense(64, activation=\"relu\"),\n",
        "  layers.Dense(46, activation=\"softmax\")\n",
        "])\n",
        "model.compile(optimizer=\"rmsprop\",\n",
        "              loss=\"categorical_crossentropy\",\n",
        "              metrics=[\"accuracy\"])\n",
        "model.fit(x_train,\n",
        "          y_train,\n",
        "          epochs=9,\n",
        "          batch_size=512)\n",
        "results = model.evaluate(x_test, y_test)"
      ]
    },
    {
      "cell_type": "code",
      "execution_count": null,
      "metadata": {
        "colab": {
          "base_uri": "https://localhost:8080/"
        },
        "id": "abLkVvrZDOBu",
        "outputId": "acb46448-98ac-483d-fa58-ffa01170b446"
      },
      "outputs": [
        {
          "output_type": "execute_result",
          "data": {
            "text/plain": [
              "[0.9125703573226929, 0.7898486256599426]"
            ]
          },
          "metadata": {},
          "execution_count": 35
        }
      ],
      "source": [
        "results"
      ]
    },
    {
      "cell_type": "code",
      "execution_count": null,
      "metadata": {
        "colab": {
          "base_uri": "https://localhost:8080/"
        },
        "id": "-bUhS_m9DOBu",
        "outputId": "bc82674e-77b3-4463-98a7-7d5494ce5f42"
      },
      "outputs": [
        {
          "output_type": "execute_result",
          "data": {
            "text/plain": [
              "0.19100623330365094"
            ]
          },
          "metadata": {},
          "execution_count": 36
        }
      ],
      "source": [
        "import copy\n",
        "test_labels_copy = copy.copy(test_labels)\n",
        "np.random.shuffle(test_labels_copy)\n",
        "hits_array = np.array(test_labels) == np.array(test_labels_copy)\n",
        "hits_array.mean()"
      ]
    },
    {
      "cell_type": "markdown",
      "metadata": {
        "id": "GHwnCMbDDOBu"
      },
      "source": [
        "### Генерация прогнозов на новых данных\n"
      ]
    },
    {
      "cell_type": "code",
      "execution_count": null,
      "metadata": {
        "colab": {
          "base_uri": "https://localhost:8080/"
        },
        "id": "F0-mWcz6DOBu",
        "outputId": "7094c31d-5c97-4e91-e3e3-4a003abe4308"
      },
      "outputs": [
        {
          "output_type": "stream",
          "name": "stdout",
          "text": [
            "71/71 [==============================] - 0s 3ms/step\n"
          ]
        }
      ],
      "source": [
        "predictions = model.predict(x_test)"
      ]
    },
    {
      "cell_type": "code",
      "execution_count": null,
      "metadata": {
        "colab": {
          "base_uri": "https://localhost:8080/"
        },
        "id": "11qJ7TKiDOBu",
        "outputId": "347c62c3-c122-49c0-c4df-4e5fb6873ec1"
      },
      "outputs": [
        {
          "output_type": "execute_result",
          "data": {
            "text/plain": [
              "(46,)"
            ]
          },
          "metadata": {},
          "execution_count": 38
        }
      ],
      "source": [
        "predictions[0].shape"
      ]
    },
    {
      "cell_type": "code",
      "execution_count": null,
      "metadata": {
        "colab": {
          "base_uri": "https://localhost:8080/"
        },
        "id": "GVyHPo3lDOBv",
        "outputId": "dddf92b5-d9c4-46ea-fd5c-15f9c23072c4"
      },
      "outputs": [
        {
          "output_type": "execute_result",
          "data": {
            "text/plain": [
              "1.0000001"
            ]
          },
          "metadata": {},
          "execution_count": 39
        }
      ],
      "source": [
        "np.sum(predictions[0])"
      ]
    },
    {
      "cell_type": "code",
      "execution_count": null,
      "metadata": {
        "colab": {
          "base_uri": "https://localhost:8080/"
        },
        "id": "E6_1he8_DOBv",
        "outputId": "ee0c083f-a0ae-470f-ccc0-cde698c51c34"
      },
      "outputs": [
        {
          "output_type": "execute_result",
          "data": {
            "text/plain": [
              "3"
            ]
          },
          "metadata": {},
          "execution_count": 40
        }
      ],
      "source": [
        "np.argmax(predictions[0])"
      ]
    },
    {
      "cell_type": "markdown",
      "metadata": {
        "id": "2P8TS06YDOBv"
      },
      "source": [
        "### Другой способ обработки меток и потерь\n"
      ]
    },
    {
      "cell_type": "code",
      "execution_count": null,
      "metadata": {
        "id": "ufE3Qm9ODOBv"
      },
      "outputs": [],
      "source": [
        "y_train = np.array(train_labels)\n",
        "y_test = np.array(test_labels)"
      ]
    },
    {
      "cell_type": "code",
      "execution_count": null,
      "metadata": {
        "id": "n8CIq3TnDOBv"
      },
      "outputs": [],
      "source": [
        "model.compile(optimizer=\"rmsprop\",\n",
        "              loss=\"sparse_categorical_crossentropy\",\n",
        "              metrics=[\"accuracy\"])"
      ]
    },
    {
      "cell_type": "markdown",
      "metadata": {
        "id": "P8LgceKnDOBv"
      },
      "source": [
        "### Важность наличия достаточно больших промежуточных слоев\n"
      ]
    },
    {
      "cell_type": "markdown",
      "metadata": {
        "id": "OF8YVMd5DOBv"
      },
      "source": [
        "**Модель с информационным узким местом**"
      ]
    },
    {
      "cell_type": "code",
      "execution_count": null,
      "metadata": {
        "colab": {
          "base_uri": "https://localhost:8080/"
        },
        "id": "C4pLVH1DDOBv",
        "outputId": "434c46bb-8507-41d7-a2a6-08d64c51b216"
      },
      "outputs": [
        {
          "output_type": "stream",
          "name": "stdout",
          "text": [
            "Epoch 1/20\n",
            "63/63 [==============================] - 3s 24ms/step - loss: 2.7149 - accuracy: 0.4533 - val_loss: 1.9699 - val_accuracy: 0.5410\n",
            "Epoch 2/20\n",
            "63/63 [==============================] - 1s 16ms/step - loss: 1.7427 - accuracy: 0.5475 - val_loss: 1.6490 - val_accuracy: 0.5710\n",
            "Epoch 3/20\n",
            "63/63 [==============================] - 1s 17ms/step - loss: 1.4850 - accuracy: 0.6189 - val_loss: 1.5193 - val_accuracy: 0.6450\n",
            "Epoch 4/20\n",
            "63/63 [==============================] - 1s 16ms/step - loss: 1.3208 - accuracy: 0.6744 - val_loss: 1.4368 - val_accuracy: 0.6540\n",
            "Epoch 5/20\n",
            "63/63 [==============================] - 1s 17ms/step - loss: 1.1986 - accuracy: 0.6909 - val_loss: 1.3855 - val_accuracy: 0.6580\n",
            "Epoch 6/20\n",
            "63/63 [==============================] - 1s 17ms/step - loss: 1.0965 - accuracy: 0.6992 - val_loss: 1.3438 - val_accuracy: 0.6610\n",
            "Epoch 7/20\n",
            "63/63 [==============================] - 1s 17ms/step - loss: 1.0111 - accuracy: 0.7156 - val_loss: 1.3204 - val_accuracy: 0.6780\n",
            "Epoch 8/20\n",
            "63/63 [==============================] - 1s 16ms/step - loss: 0.9351 - accuracy: 0.7400 - val_loss: 1.3069 - val_accuracy: 0.6980\n",
            "Epoch 9/20\n",
            "63/63 [==============================] - 1s 17ms/step - loss: 0.8668 - accuracy: 0.7657 - val_loss: 1.3262 - val_accuracy: 0.6900\n",
            "Epoch 10/20\n",
            "63/63 [==============================] - 1s 22ms/step - loss: 0.8053 - accuracy: 0.7824 - val_loss: 1.3073 - val_accuracy: 0.7140\n",
            "Epoch 11/20\n",
            "63/63 [==============================] - 2s 27ms/step - loss: 0.7518 - accuracy: 0.7948 - val_loss: 1.3602 - val_accuracy: 0.7070\n",
            "Epoch 12/20\n",
            "63/63 [==============================] - 1s 18ms/step - loss: 0.7029 - accuracy: 0.8141 - val_loss: 1.3653 - val_accuracy: 0.7110\n",
            "Epoch 13/20\n",
            "63/63 [==============================] - 1s 17ms/step - loss: 0.6616 - accuracy: 0.8250 - val_loss: 1.4097 - val_accuracy: 0.6990\n",
            "Epoch 14/20\n",
            "63/63 [==============================] - 1s 16ms/step - loss: 0.6250 - accuracy: 0.8340 - val_loss: 1.4203 - val_accuracy: 0.7110\n",
            "Epoch 15/20\n",
            "63/63 [==============================] - 1s 16ms/step - loss: 0.5906 - accuracy: 0.8394 - val_loss: 1.4844 - val_accuracy: 0.7080\n",
            "Epoch 16/20\n",
            "63/63 [==============================] - 1s 16ms/step - loss: 0.5633 - accuracy: 0.8449 - val_loss: 1.4893 - val_accuracy: 0.7050\n",
            "Epoch 17/20\n",
            "63/63 [==============================] - 1s 16ms/step - loss: 0.5361 - accuracy: 0.8539 - val_loss: 1.5165 - val_accuracy: 0.7060\n",
            "Epoch 18/20\n",
            "63/63 [==============================] - 1s 17ms/step - loss: 0.5158 - accuracy: 0.8599 - val_loss: 1.5991 - val_accuracy: 0.7080\n",
            "Epoch 19/20\n",
            "63/63 [==============================] - 1s 17ms/step - loss: 0.4986 - accuracy: 0.8663 - val_loss: 1.5907 - val_accuracy: 0.7130\n",
            "Epoch 20/20\n",
            "63/63 [==============================] - 1s 16ms/step - loss: 0.4793 - accuracy: 0.8711 - val_loss: 1.6343 - val_accuracy: 0.7120\n"
          ]
        },
        {
          "output_type": "execute_result",
          "data": {
            "text/plain": [
              "<keras.src.callbacks.History at 0x7bdf9bab2890>"
            ]
          },
          "metadata": {},
          "execution_count": 43
        }
      ],
      "source": [
        "model = keras.Sequential([\n",
        "    layers.Dense(64, activation=\"relu\"),\n",
        "    layers.Dense(4, activation=\"relu\"),\n",
        "    layers.Dense(46, activation=\"softmax\")\n",
        "])\n",
        "model.compile(optimizer=\"rmsprop\",\n",
        "              loss=\"categorical_crossentropy\",\n",
        "              metrics=[\"accuracy\"])\n",
        "model.fit(partial_x_train,\n",
        "          partial_y_train,\n",
        "          epochs=20,\n",
        "          batch_size=128,\n",
        "          validation_data=(x_val, y_val))"
      ]
    },
    {
      "cell_type": "markdown",
      "metadata": {
        "id": "lKHlweD0DOBv"
      },
      "source": [
        "### Дальнейшие эксперименты\n"
      ]
    },
    {
      "cell_type": "markdown",
      "metadata": {
        "id": "J6AUSHJHDOBw"
      },
      "source": [
        "### Завершение"
      ]
    },
    {
      "cell_type": "markdown",
      "metadata": {
        "id": "mG-D5GuPDOBw"
      },
      "source": [
        "## Прогнозирование цен на дома: Пример регрессии\n"
      ]
    },
    {
      "cell_type": "markdown",
      "metadata": {
        "id": "4TYkLddwDOBw"
      },
      "source": [
        "### Набор данных о ценах на жилье в Бостоне\n"
      ]
    },
    {
      "cell_type": "markdown",
      "metadata": {
        "id": "xHm_uqUtDOBw"
      },
      "source": [
        "**Загрузка набора данных о жилье в Бостоне**"
      ]
    },
    {
      "cell_type": "code",
      "execution_count": null,
      "metadata": {
        "colab": {
          "base_uri": "https://localhost:8080/"
        },
        "id": "4-Csbqw3DOBw",
        "outputId": "2f411c90-b406-4cde-f98e-ce8f5427b849"
      },
      "outputs": [
        {
          "output_type": "stream",
          "name": "stdout",
          "text": [
            "Downloading data from https://storage.googleapis.com/tensorflow/tf-keras-datasets/boston_housing.npz\n",
            "57026/57026 [==============================] - 0s 1us/step\n"
          ]
        }
      ],
      "source": [
        "from tensorflow.keras.datasets import boston_housing\n",
        "(train_data, train_targets), (test_data, test_targets) = boston_housing.load_data()"
      ]
    },
    {
      "cell_type": "code",
      "execution_count": null,
      "metadata": {
        "colab": {
          "base_uri": "https://localhost:8080/"
        },
        "id": "7iBmqPylDOBw",
        "outputId": "41811100-af0e-4573-d991-9a96bbe6e602"
      },
      "outputs": [
        {
          "output_type": "execute_result",
          "data": {
            "text/plain": [
              "(404, 13)"
            ]
          },
          "metadata": {},
          "execution_count": 45
        }
      ],
      "source": [
        "train_data.shape"
      ]
    },
    {
      "cell_type": "code",
      "execution_count": null,
      "metadata": {
        "colab": {
          "base_uri": "https://localhost:8080/"
        },
        "id": "BGnjz5EqDOBw",
        "outputId": "af8e0011-3a3d-44fc-d45d-09b0aadc9eee"
      },
      "outputs": [
        {
          "output_type": "execute_result",
          "data": {
            "text/plain": [
              "(102, 13)"
            ]
          },
          "metadata": {},
          "execution_count": 46
        }
      ],
      "source": [
        "test_data.shape"
      ]
    },
    {
      "cell_type": "code",
      "execution_count": null,
      "metadata": {
        "colab": {
          "base_uri": "https://localhost:8080/"
        },
        "id": "Nuwi8DX5DOBx",
        "outputId": "754a92b2-3874-4ea6-91aa-9726677ad126"
      },
      "outputs": [
        {
          "output_type": "execute_result",
          "data": {
            "text/plain": [
              "array([15.2, 42.3, 50. , 21.1, 17.7, 18.5, 11.3, 15.6, 15.6, 14.4, 12.1,\n",
              "       17.9, 23.1, 19.9, 15.7,  8.8, 50. , 22.5, 24.1, 27.5, 10.9, 30.8,\n",
              "       32.9, 24. , 18.5, 13.3, 22.9, 34.7, 16.6, 17.5, 22.3, 16.1, 14.9,\n",
              "       23.1, 34.9, 25. , 13.9, 13.1, 20.4, 20. , 15.2, 24.7, 22.2, 16.7,\n",
              "       12.7, 15.6, 18.4, 21. , 30.1, 15.1, 18.7,  9.6, 31.5, 24.8, 19.1,\n",
              "       22. , 14.5, 11. , 32. , 29.4, 20.3, 24.4, 14.6, 19.5, 14.1, 14.3,\n",
              "       15.6, 10.5,  6.3, 19.3, 19.3, 13.4, 36.4, 17.8, 13.5, 16.5,  8.3,\n",
              "       14.3, 16. , 13.4, 28.6, 43.5, 20.2, 22. , 23. , 20.7, 12.5, 48.5,\n",
              "       14.6, 13.4, 23.7, 50. , 21.7, 39.8, 38.7, 22.2, 34.9, 22.5, 31.1,\n",
              "       28.7, 46. , 41.7, 21. , 26.6, 15. , 24.4, 13.3, 21.2, 11.7, 21.7,\n",
              "       19.4, 50. , 22.8, 19.7, 24.7, 36.2, 14.2, 18.9, 18.3, 20.6, 24.6,\n",
              "       18.2,  8.7, 44. , 10.4, 13.2, 21.2, 37. , 30.7, 22.9, 20. , 19.3,\n",
              "       31.7, 32. , 23.1, 18.8, 10.9, 50. , 19.6,  5. , 14.4, 19.8, 13.8,\n",
              "       19.6, 23.9, 24.5, 25. , 19.9, 17.2, 24.6, 13.5, 26.6, 21.4, 11.9,\n",
              "       22.6, 19.6,  8.5, 23.7, 23.1, 22.4, 20.5, 23.6, 18.4, 35.2, 23.1,\n",
              "       27.9, 20.6, 23.7, 28. , 13.6, 27.1, 23.6, 20.6, 18.2, 21.7, 17.1,\n",
              "        8.4, 25.3, 13.8, 22.2, 18.4, 20.7, 31.6, 30.5, 20.3,  8.8, 19.2,\n",
              "       19.4, 23.1, 23. , 14.8, 48.8, 22.6, 33.4, 21.1, 13.6, 32.2, 13.1,\n",
              "       23.4, 18.9, 23.9, 11.8, 23.3, 22.8, 19.6, 16.7, 13.4, 22.2, 20.4,\n",
              "       21.8, 26.4, 14.9, 24.1, 23.8, 12.3, 29.1, 21. , 19.5, 23.3, 23.8,\n",
              "       17.8, 11.5, 21.7, 19.9, 25. , 33.4, 28.5, 21.4, 24.3, 27.5, 33.1,\n",
              "       16.2, 23.3, 48.3, 22.9, 22.8, 13.1, 12.7, 22.6, 15. , 15.3, 10.5,\n",
              "       24. , 18.5, 21.7, 19.5, 33.2, 23.2,  5. , 19.1, 12.7, 22.3, 10.2,\n",
              "       13.9, 16.3, 17. , 20.1, 29.9, 17.2, 37.3, 45.4, 17.8, 23.2, 29. ,\n",
              "       22. , 18. , 17.4, 34.6, 20.1, 25. , 15.6, 24.8, 28.2, 21.2, 21.4,\n",
              "       23.8, 31. , 26.2, 17.4, 37.9, 17.5, 20. ,  8.3, 23.9,  8.4, 13.8,\n",
              "        7.2, 11.7, 17.1, 21.6, 50. , 16.1, 20.4, 20.6, 21.4, 20.6, 36.5,\n",
              "        8.5, 24.8, 10.8, 21.9, 17.3, 18.9, 36.2, 14.9, 18.2, 33.3, 21.8,\n",
              "       19.7, 31.6, 24.8, 19.4, 22.8,  7.5, 44.8, 16.8, 18.7, 50. , 50. ,\n",
              "       19.5, 20.1, 50. , 17.2, 20.8, 19.3, 41.3, 20.4, 20.5, 13.8, 16.5,\n",
              "       23.9, 20.6, 31.5, 23.3, 16.8, 14. , 33.8, 36.1, 12.8, 18.3, 18.7,\n",
              "       19.1, 29. , 30.1, 50. , 50. , 22. , 11.9, 37.6, 50. , 22.7, 20.8,\n",
              "       23.5, 27.9, 50. , 19.3, 23.9, 22.6, 15.2, 21.7, 19.2, 43.8, 20.3,\n",
              "       33.2, 19.9, 22.5, 32.7, 22. , 17.1, 19. , 15. , 16.1, 25.1, 23.7,\n",
              "       28.7, 37.2, 22.6, 16.4, 25. , 29.8, 22.1, 17.4, 18.1, 30.3, 17.5,\n",
              "       24.7, 12.6, 26.5, 28.7, 13.3, 10.4, 24.4, 23. , 20. , 17.8,  7. ,\n",
              "       11.8, 24.4, 13.8, 19.4, 25.2, 19.4, 19.4, 29.1])"
            ]
          },
          "metadata": {},
          "execution_count": 47
        }
      ],
      "source": [
        "train_targets"
      ]
    },
    {
      "cell_type": "markdown",
      "metadata": {
        "id": "ee4b8A4VDOBx"
      },
      "source": [
        "### Подготовка данных\n"
      ]
    },
    {
      "cell_type": "markdown",
      "metadata": {
        "id": "yeYfFjlNDOBx"
      },
      "source": [
        "**Нормализация данных**"
      ]
    },
    {
      "cell_type": "code",
      "execution_count": null,
      "metadata": {
        "id": "Kq2nlK0dDOBx"
      },
      "outputs": [],
      "source": [
        "mean = train_data.mean(axis=0)\n",
        "train_data -= mean\n",
        "std = train_data.std(axis=0)\n",
        "train_data /= std\n",
        "test_data -= mean\n",
        "test_data /= std"
      ]
    },
    {
      "cell_type": "markdown",
      "metadata": {
        "id": "avZSksyDDOBx"
      },
      "source": [
        "### Создание модели\n"
      ]
    },
    {
      "cell_type": "markdown",
      "metadata": {
        "id": "3Ia_RzesDOBx"
      },
      "source": [
        "**Определение модели**"
      ]
    },
    {
      "cell_type": "code",
      "execution_count": null,
      "metadata": {
        "id": "UanGqNDdDOBx"
      },
      "outputs": [],
      "source": [
        "def build_model():\n",
        "    model = keras.Sequential([\n",
        "        layers.Dense(64, activation=\"relu\"),\n",
        "        layers.Dense(64, activation=\"relu\"),\n",
        "        layers.Dense(1)\n",
        "    ])\n",
        "    model.compile(optimizer=\"rmsprop\", loss=\"mse\", metrics=[\"mae\"])\n",
        "    return model"
      ]
    },
    {
      "cell_type": "markdown",
      "metadata": {
        "id": "cSlCeENlDOBy"
      },
      "source": [
        "### Проверка подхода с использованием кросс-валидации K-fold\n"
      ]
    },
    {
      "cell_type": "markdown",
      "metadata": {
        "id": "X3Geh-F2DOBy"
      },
      "source": [
        "**Кросс-валидация K-fold**"
      ]
    },
    {
      "cell_type": "code",
      "execution_count": null,
      "metadata": {
        "colab": {
          "base_uri": "https://localhost:8080/"
        },
        "id": "9JI7784SDOBy",
        "outputId": "27b93048-c976-4bc3-a785-dcb2e64afc75"
      },
      "outputs": [
        {
          "output_type": "stream",
          "name": "stdout",
          "text": [
            "Processing fold #0\n",
            "Processing fold #1\n",
            "Processing fold #2\n",
            "Processing fold #3\n"
          ]
        }
      ],
      "source": [
        "k = 4\n",
        "num_val_samples = len(train_data) // k\n",
        "num_epochs = 100\n",
        "all_scores = []\n",
        "for i in range(k):\n",
        "    print(f\"Processing fold #{i}\")\n",
        "    val_data = train_data[i * num_val_samples: (i + 1) * num_val_samples]\n",
        "    val_targets = train_targets[i * num_val_samples: (i + 1) * num_val_samples]\n",
        "    partial_train_data = np.concatenate(\n",
        "        [train_data[:i * num_val_samples],\n",
        "         train_data[(i + 1) * num_val_samples:]],\n",
        "        axis=0)\n",
        "    partial_train_targets = np.concatenate(\n",
        "        [train_targets[:i * num_val_samples],\n",
        "         train_targets[(i + 1) * num_val_samples:]],\n",
        "        axis=0)\n",
        "    model = build_model()\n",
        "    model.fit(partial_train_data, partial_train_targets,\n",
        "              epochs=num_epochs, batch_size=16, verbose=0)\n",
        "    val_mse, val_mae = model.evaluate(val_data, val_targets, verbose=0)\n",
        "    all_scores.append(val_mae)"
      ]
    },
    {
      "cell_type": "code",
      "execution_count": null,
      "metadata": {
        "colab": {
          "base_uri": "https://localhost:8080/"
        },
        "id": "mOBwkXRHDOBy",
        "outputId": "a552a7c3-318a-4b3c-f1fc-f4acb73c30ed"
      },
      "outputs": [
        {
          "output_type": "execute_result",
          "data": {
            "text/plain": [
              "[1.978121280670166, 2.395359992980957, 2.528578042984009, 2.448323965072632]"
            ]
          },
          "metadata": {},
          "execution_count": 51
        }
      ],
      "source": [
        "all_scores"
      ]
    },
    {
      "cell_type": "code",
      "execution_count": null,
      "metadata": {
        "colab": {
          "base_uri": "https://localhost:8080/"
        },
        "id": "kktzVlnyDOBy",
        "outputId": "b6ccd96f-7627-4102-db32-2581e09e8422"
      },
      "outputs": [
        {
          "output_type": "execute_result",
          "data": {
            "text/plain": [
              "2.337595820426941"
            ]
          },
          "metadata": {},
          "execution_count": 52
        }
      ],
      "source": [
        "np.mean(all_scores)"
      ]
    },
    {
      "cell_type": "markdown",
      "metadata": {
        "id": "dVqqKJQYDOBy"
      },
      "source": [
        "**Сохранение журналов валидации на каждом складе**"
      ]
    },
    {
      "cell_type": "code",
      "execution_count": null,
      "metadata": {
        "colab": {
          "base_uri": "https://localhost:8080/"
        },
        "id": "G-PcEY5JDOBy",
        "outputId": "1f2e06a1-4068-4ab7-c848-b79fe83577d0"
      },
      "outputs": [
        {
          "output_type": "stream",
          "name": "stdout",
          "text": [
            "Processing fold #0\n",
            "Processing fold #1\n",
            "Processing fold #2\n",
            "Processing fold #3\n"
          ]
        }
      ],
      "source": [
        "num_epochs = 500\n",
        "all_mae_histories = []\n",
        "for i in range(k):\n",
        "    print(f\"Processing fold #{i}\")\n",
        "    val_data = train_data[i * num_val_samples: (i + 1) * num_val_samples]\n",
        "    val_targets = train_targets[i * num_val_samples: (i + 1) * num_val_samples]\n",
        "    partial_train_data = np.concatenate(\n",
        "        [train_data[:i * num_val_samples],\n",
        "         train_data[(i + 1) * num_val_samples:]],\n",
        "        axis=0)\n",
        "    partial_train_targets = np.concatenate(\n",
        "        [train_targets[:i * num_val_samples],\n",
        "         train_targets[(i + 1) * num_val_samples:]],\n",
        "        axis=0)\n",
        "    model = build_model()\n",
        "    history = model.fit(partial_train_data, partial_train_targets,\n",
        "                        validation_data=(val_data, val_targets),\n",
        "                        epochs=num_epochs, batch_size=16, verbose=0)\n",
        "    mae_history = history.history[\"val_mae\"]\n",
        "    all_mae_histories.append(mae_history)"
      ]
    },
    {
      "cell_type": "markdown",
      "metadata": {
        "id": "qcVJLRDyDOBz"
      },
      "source": [
        "**Построение истории последовательных средних оценок кросс-валидации K-fold**"
      ]
    },
    {
      "cell_type": "code",
      "execution_count": null,
      "metadata": {
        "id": "ZbucMadzDOBz"
      },
      "outputs": [],
      "source": [
        "average_mae_history = [\n",
        "    np.mean([x[i] for x in all_mae_histories]) for i in range(num_epochs)]"
      ]
    },
    {
      "cell_type": "markdown",
      "metadata": {
        "id": "gKvoQ1whDOBz"
      },
      "source": [
        "**Построение графика оценок валидации**"
      ]
    },
    {
      "cell_type": "code",
      "execution_count": null,
      "metadata": {
        "colab": {
          "base_uri": "https://localhost:8080/",
          "height": 449
        },
        "id": "eYSESlkqDOBz",
        "outputId": "fedf65d1-1c77-4f0c-ac0f-05e9c322493e"
      },
      "outputs": [
        {
          "output_type": "display_data",
          "data": {
            "text/plain": [
              "<Figure size 640x480 with 1 Axes>"
            ],
            "image/png": "[encoded data removed]"
          },
          "metadata": {}
        }
      ],
      "source": [
        "plt.plot(range(1, len(average_mae_history) + 1), average_mae_history)\n",
        "plt.xlabel(\"Epochs\")\n",
        "plt.ylabel(\"Validation MAE\")\n",
        "plt.show()"
      ]
    },
    {
      "cell_type": "markdown",
      "metadata": {
        "id": "QT3r332ADOBz"
      },
      "source": [
        "**Построение графика оценок валидации, исключая первые 10 точек данных**"
      ]
    },
    {
      "cell_type": "code",
      "execution_count": null,
      "metadata": {
        "colab": {
          "base_uri": "https://localhost:8080/",
          "height": 449
        },
        "id": "WbMjsXZMDOBz",
        "outputId": "c1b90800-3013-48ed-b91f-63c1613eda0d"
      },
      "outputs": [
        {
          "output_type": "display_data",
          "data": {
            "text/plain": [
              "<Figure size 640x480 with 1 Axes>"
            ],
            "image/png": "[encoded data removed]"
          },
          "metadata": {}
        }
      ],
      "source": [
        "truncated_mae_history = average_mae_history[10:]\n",
        "plt.plot(range(1, len(truncated_mae_history) + 1), truncated_mae_history)\n",
        "plt.xlabel(\"Epochs\")\n",
        "plt.ylabel(\"Validation MAE\")\n",
        "plt.show()"
      ]
    },
    {
      "cell_type": "markdown",
      "metadata": {
        "id": "fzH3rH7VDOBz"
      },
      "source": [
        "**Обучение финальной модели**"
      ]
    },
    {
      "cell_type": "code",
      "execution_count": null,
      "metadata": {
        "colab": {
          "base_uri": "https://localhost:8080/"
        },
        "id": "vHh9r11QDOBz",
        "outputId": "8124c094-bbc6-4dda-e57a-e60026796fda"
      },
      "outputs": [
        {
          "output_type": "stream",
          "name": "stdout",
          "text": [
            "4/4 [==============================] - 0s 4ms/step - loss: 13.5041 - mae: 2.5355\n"
          ]
        }
      ],
      "source": [
        "model = build_model()\n",
        "model.fit(train_data, train_targets,\n",
        "          epochs=130, batch_size=16, verbose=0)\n",
        "test_mse_score, test_mae_score = model.evaluate(test_data, test_targets)"
      ]
    },
    {
      "cell_type": "code",
      "execution_count": null,
      "metadata": {
        "colab": {
          "base_uri": "https://localhost:8080/"
        },
        "id": "YtOvuL4DDOB0",
        "outputId": "70196dfc-3bf8-4c43-fc59-68600aec468f"
      },
      "outputs": [
        {
          "output_type": "execute_result",
          "data": {
            "text/plain": [
              "2.5354511737823486"
            ]
          },
          "metadata": {},
          "execution_count": 58
        }
      ],
      "source": [
        "test_mae_score"
      ]
    },
    {
      "cell_type": "markdown",
      "metadata": {
        "id": "_o8Ay1nBDOB0"
      },
      "source": [
        "### Генерация прогнозов на новых данных\n"
      ]
    },
    {
      "cell_type": "code",
      "execution_count": null,
      "metadata": {
        "colab": {
          "base_uri": "https://localhost:8080/"
        },
        "id": "2R2zm1D8DOB0",
        "outputId": "d5128328-9cd2-4a3c-a79d-c24725c58a20"
      },
      "outputs": [
        {
          "output_type": "stream",
          "name": "stdout",
          "text": [
            "4/4 [==============================] - 0s 3ms/step\n"
          ]
        },
        {
          "output_type": "execute_result",
          "data": {
            "text/plain": [
              "array([8.452103], dtype=float32)"
            ]
          },
          "metadata": {},
          "execution_count": 59
        }
      ],
      "source": [
        "predictions = model.predict(test_data)\n",
        "predictions[0]"
      ]
    },
    {
      "cell_type": "markdown",
      "metadata": {
        "id": "pGT2NqEiDOB0"
      },
      "source": [
        "### Завершение"
      ]
    },
    {
      "cell_type": "markdown",
      "metadata": {
        "id": "zSo2c2BGDOB0"
      },
      "source": [
        "## Итог"
      ]
    }
  ],
  "metadata": {
    "colab": {
      "provenance": [],
      "toc_visible": true
    },
    "kernelspec": {
      "display_name": "Python 3",
      "language": "python",
      "name": "python3"
    },
    "language_info": {
      "codemirror_mode": {
        "name": "ipython",
        "version": 3
      },
      "file_extension": ".py",
      "mimetype": "text/x-python",
      "name": "python",
      "nbconvert_exporter": "python",
      "pygments_lexer": "ipython3",
      "version": "3.7.0"
    }
  },
  "nbformat": 4,
  "nbformat_minor": 0
}